{
 "cells": [
  {
   "cell_type": "code",
   "execution_count": 107,
   "id": "6282a725-bccd-47b0-a5d8-e2a069f1881e",
   "metadata": {},
   "outputs": [
    {
     "data": {
      "text/plain": [
       "{'Vada-pav': 15}"
      ]
     },
     "execution_count": 107,
     "metadata": {},
     "output_type": "execute_result"
    }
   ],
   "source": [
    "menu=[\n",
    "            {\"Vada-pav\":15},\n",
    "            {\"Pav-bhaji\":100},\n",
    "            {\"Misal-pav\":80},\n",
    "            {\"Idli\": 20},\n",
    "            {\"Dosa\": 20},\n",
    "            {\"vada\": 20},\n",
    "            {\"Idli-vada\":20},\n",
    "        ]\n",
    "# len(menu.keys())\n",
    "menu[0]\n",
    "\n"
   ]
  },
  {
   "cell_type": "code",
   "execution_count": 84,
   "id": "7b5a7da1-c987-4dc6-8ff7-1c3711eb01e1",
   "metadata": {},
   "outputs": [
    {
     "data": {
      "text/plain": [
       "[{'4': 5}]"
      ]
     },
     "execution_count": 84,
     "metadata": {},
     "output_type": "execute_result"
    }
   ],
   "source": [
    "a=[]\n",
    "a.append({\"4\":5})\n",
    "a"
   ]
  },
  {
   "cell_type": "code",
   "execution_count": 46,
   "id": "28411845-e2a3-487a-9944-7a5c1a42219b",
   "metadata": {},
   "outputs": [
    {
     "name": "stdout",
     "output_type": "stream",
     "text": [
      "\t-----Welcome to khush's restaurants-----\t\n",
      "1.Order food\t\t\t2.Bill\t\t\t3.quit\n"
     ]
    },
    {
     "name": "stdin",
     "output_type": "stream",
     "text": [
      "Enter your choice 1\n"
     ]
    },
    {
     "name": "stdout",
     "output_type": "stream",
     "text": [
      "1.Vada-pav\t15\n",
      "2.Pav-bhaji\t100\n",
      "3.Misal-pav\t80\n",
      "4.Idli\t20\n",
      "5.Dosa\t20\n",
      "6.vada\t20\n",
      "7.Idli-vada\t20\n"
     ]
    },
    {
     "name": "stdin",
     "output_type": "stream",
     "text": [
      "Do you want to order food? [Y / N] y\n",
      "Add food item according to their food_id (eg. 1 for Vada-pav) or 0 to exit 2\n",
      "Enter quantity 200\n"
     ]
    },
    {
     "name": "stdout",
     "output_type": "stream",
     "text": [
      "Pav-bhaji added successfully!!!\n",
      "[{'Pav-bhaji': 20000}]\n"
     ]
    },
    {
     "name": "stdin",
     "output_type": "stream",
     "text": [
      "Add food item according to their food_id (eg. 1 for Vada-pav) or 0 to exit 5\n",
      "Enter quantity 50\n"
     ]
    },
    {
     "name": "stdout",
     "output_type": "stream",
     "text": [
      "Dosa added successfully!!!\n",
      "[{'Pav-bhaji': 20000}, {'Dosa': 1000}]\n"
     ]
    },
    {
     "name": "stdin",
     "output_type": "stream",
     "text": [
      "Add food item according to their food_id (eg. 1 for Vada-pav) or 0 to exit 0\n",
      "Enter quantity 10\n"
     ]
    },
    {
     "name": "stdout",
     "output_type": "stream",
     "text": [
      "[{'Pav-bhaji': 20000}, {'Dosa': 1000}]\n",
      "\t\t----Your Bill----\t\t\n",
      "1.Pav-bhaji\t20000\n",
      "2.Dosa\t1000\n",
      "\n",
      "\tGST : 1050.0\n",
      "\tSGST : 1050.0\n",
      "\tTotal : 23100.0\n",
      "1.Order food\t\t\t2.Bill\t\t\t3.quit\n"
     ]
    },
    {
     "name": "stdin",
     "output_type": "stream",
     "text": [
      "Enter your choice 1\n"
     ]
    },
    {
     "name": "stdout",
     "output_type": "stream",
     "text": [
      "1.Vada-pav\t15\n",
      "2.Pav-bhaji\t100\n",
      "3.Misal-pav\t80\n",
      "4.Idli\t20\n",
      "5.Dosa\t20\n",
      "6.vada\t20\n",
      "7.Idli-vada\t20\n"
     ]
    },
    {
     "name": "stdin",
     "output_type": "stream",
     "text": [
      "Do you want to order food? [Y / N] 6\n"
     ]
    },
    {
     "name": "stdout",
     "output_type": "stream",
     "text": [
      "Enter a valid choice!!!\n",
      "1.Order food\t\t\t2.Bill\t\t\t3.quit\n"
     ]
    },
    {
     "name": "stdin",
     "output_type": "stream",
     "text": [
      "Enter your choice 1\n"
     ]
    },
    {
     "name": "stdout",
     "output_type": "stream",
     "text": [
      "1.Vada-pav\t15\n",
      "2.Pav-bhaji\t100\n",
      "3.Misal-pav\t80\n",
      "4.Idli\t20\n",
      "5.Dosa\t20\n",
      "6.vada\t20\n",
      "7.Idli-vada\t20\n"
     ]
    },
    {
     "name": "stdin",
     "output_type": "stream",
     "text": [
      "Do you want to order food? [Y / N] y\n",
      "Add food item according to their food_id (eg. 1 for Vada-pav) or 0 to exit 3\n",
      "Enter quantity 100\n"
     ]
    },
    {
     "name": "stdout",
     "output_type": "stream",
     "text": [
      "Misal-pav added successfully!!!\n",
      "[{'Pav-bhaji': 20000}, {'Dosa': 1000}, {'Misal-pav': 8000}]\n"
     ]
    },
    {
     "name": "stdin",
     "output_type": "stream",
     "text": [
      "Add food item according to their food_id (eg. 1 for Vada-pav) or 0 to exit 0\n",
      "Enter quantity 0\n"
     ]
    },
    {
     "name": "stdout",
     "output_type": "stream",
     "text": [
      "[{'Pav-bhaji': 20000}, {'Dosa': 1000}, {'Misal-pav': 8000}]\n",
      "\t\t----Your Bill----\t\t\n",
      "1.Pav-bhaji\t20000\n",
      "2.Dosa\t1000\n",
      "3.Misal-pav\t8000\n",
      "\n",
      "\tGST : 1450.0\n",
      "\tSGST : 1450.0\n",
      "\tTotal : 31900.0\n",
      "1.Order food\t\t\t2.Bill\t\t\t3.quit\n"
     ]
    },
    {
     "name": "stdin",
     "output_type": "stream",
     "text": [
      "Enter your choice 3\n"
     ]
    }
   ],
   "source": [
    "import numpy as np\n",
    "\n",
    "class restaurant:\n",
    "    def __init__(self):\n",
    "        self.order=[]\n",
    "        self.menu=[]\n",
    "    \n",
    "    def restaurant_menu(self):\n",
    "        self.menu=[\n",
    "            {\"Vada-pav\":15},\n",
    "            {\"Pav-bhaji\":100},\n",
    "            {\"Misal-pav\":80},\n",
    "            {\"Idli\": 20},\n",
    "            {\"Dosa\": 20},\n",
    "            {\"vada\": 20},\n",
    "            {\"Idli-vada\":20},\n",
    "        ]\n",
    "        for i in range(len(self.menu)):\n",
    "            for key,value in self.menu[i].items():\n",
    "                print(f\"{i+1}.{key}\\t{value}\")\n",
    "      \n",
    "    def taking_orders(self,food_id,quantity):\n",
    "        if food_id<=len(self.menu):\n",
    "            for i in range(len(self.menu)):\n",
    "                if i==food_id-1:\n",
    "                   for key,value in self.menu[i].items():\n",
    "                       value=value*quantity\n",
    "                       if value>0 :\n",
    "                           self.order.append({key:value})\n",
    "                           print(f\"{key} added successfully!!!\")\n",
    "        else:\n",
    "            print(\"Enter a valid choice:\")\n",
    "        print(self.order)\n",
    "\n",
    "\n",
    "    def generate_bill(self):\n",
    "        total=0\n",
    "        if len(self.order)!=0:\n",
    "            print(\"\\t\\t----Your Bill----\\t\\t\")\n",
    "            for i in range(len(self.order)):\n",
    "                for key,value in self.order[i].items():\n",
    "                    print(f\"{i+1}.{key}\\t{value}\")\n",
    "                    total+=value\n",
    "            gst=np.multiply(0.05,total)\n",
    "            sgst=np.multiply(0.05,total)\n",
    "            print(f\"\\n\\tGST : {gst}\")\n",
    "            print(f\"\\tSGST : {sgst}\")\n",
    "            total+=gst+sgst\n",
    "            print(f\"\\tTotal : {total}\")\n",
    "        else :\n",
    "            print(\"You have to order first!!!\")\n",
    "\n",
    "\n",
    "rest=restaurant()\n",
    "print(\"\\t-----Welcome to khush's restaurants-----\\t\")\n",
    "\n",
    "while True:\n",
    "    print(\"1.Order food\\t\\t\\t2.Bill\\t\\t\\t3.quit\")\n",
    "    choice=int(input(\"Enter your choice\"))\n",
    "    if choice==2:\n",
    "        if len(rest.order)==0:\n",
    "            rest.generate_bill()\n",
    "        else :\n",
    "            rest.generate_bill()\n",
    "            continue\n",
    "    elif choice==1:\n",
    "        rest.restaurant_menu()\n",
    "        order=input(\"Do you want to order food? [Y / N]\").lower()\n",
    "        ordering=True\n",
    "        if order==\"y\":\n",
    "            while ordering:\n",
    "                item=int(input(\"Add food item according to their food_id (eg. 1 for Vada-pav) or 0 to exit\"))\n",
    "                if item<=len(rest.menu):\n",
    "                    quantity=int(input(\"Enter quantity\"))\n",
    "                    rest.taking_orders(item,quantity)\n",
    "                if item==0:\n",
    "                    if len(rest.order)>0:\n",
    "                        rest.generate_bill()\n",
    "                    else:\n",
    "                        break\n",
    "                    break\n",
    "                if item>len(rest.menu) :\n",
    "                    print(\"Enter a valid choice!!!\")\n",
    "                    continue\n",
    "                # continue\n",
    "        elif order==\"n\":\n",
    "            if len(rest.order)>0:\n",
    "                rest.generate_bill()\n",
    "            else:\n",
    "                break\n",
    "        else:\n",
    "            print(\"Enter a valid choice!!!\")\n",
    "    elif choice==3:\n",
    "        break\n",
    "    else:\n",
    "        print(\"Enter a valid choice\")\n",
    "        continue\n",
    "\n",
    "\n",
    "        \n",
    "        \n"
   ]
  },
  {
   "cell_type": "code",
   "execution_count": null,
   "id": "1f13c239-0c88-4785-a399-4f986a1f2ee5",
   "metadata": {},
   "outputs": [],
   "source": []
  },
  {
   "cell_type": "code",
   "execution_count": null,
   "id": "c43d8cde-7aaf-48e5-9338-cd921d24a36d",
   "metadata": {},
   "outputs": [],
   "source": []
  }
 ],
 "metadata": {
  "kernelspec": {
   "display_name": "Python 3 (ipykernel)",
   "language": "python",
   "name": "python3"
  },
  "language_info": {
   "codemirror_mode": {
    "name": "ipython",
    "version": 3
   },
   "file_extension": ".py",
   "mimetype": "text/x-python",
   "name": "python",
   "nbconvert_exporter": "python",
   "pygments_lexer": "ipython3",
   "version": "3.11.7"
  }
 },
 "nbformat": 4,
 "nbformat_minor": 5
}
