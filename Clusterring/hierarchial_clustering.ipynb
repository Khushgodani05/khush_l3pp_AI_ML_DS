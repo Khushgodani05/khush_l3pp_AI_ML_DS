{
 "cells": [
  {
   "cell_type": "markdown",
   "id": "0f98879a",
   "metadata": {},
   "source": [
    "# What is Hierarchical Clustering?\n",
    "\n",
    "Hierarchical clustering is a popular method for grouping objects. It creates groups so that objects within a group are similar to each other and different from objects in other groups. Clusters are visually represented in a hierarchical tree called a **dendrogram**.\n",
    "\n",
    "Hierarchical clustering has a couple of key benefits:\n",
    "\n",
    "There is no need to pre-specify the number of clusters. Instead, the dendrogram can be cut at the appropriate level to obtain the desired number of clusters.\n",
    "Data is easily summarized/organized into a hierarchy using dendrograms. Dendrograms make it easy to examine and interpret clusters.\n",
    "\n",
    "## Hierarchical clustering types\n",
    "\n",
    "There are two main types of hierarchical clustering:\n",
    "\n",
    "**Agglomerative:** Initially, each object is considered to be its own cluster. According to a particular procedure, the clusters are then merged step by step until a single cluster remains. At the end of the cluster merging process, a cluster containing all the elements will be formed.\n",
    "\n",
    "**Divisive:** The Divisive method is the opposite of the Agglomerative method. Initially, all objects are considered in a single cluster. Then the division process is performed step by step until each object forms a different cluster. The cluster division or splitting procedure is carried out according to some principles that maximum distance between neighboring objects in the cluster.\n",
    "\n",
    "\n",
    "Between Agglomerative and Divisive clustering, Agglomerative clustering is generally the preferred method. The below example will focus on Agglomerative clustering algorithms because they are the most popular and easiest to implement.\n",
    "\n",
    "## Hierarchical clustering steps\n",
    "Hierarchical clustering employs a measure of distance/similarity to create new clusters. Steps for Agglomerative clustering can be summarized as follows:\n",
    "\n",
    "- Step 1: Compute the proximity matrix using a particular distance metric\n",
    "- Step 2: Each data point is assigned to a cluster\n",
    "- Step 3: Merge the clusters based on a metric for the similarity between clusters\n",
    "- Step 4: Update the distance matrix\n",
    "- Step 5: Repeat Step 3 and Step 4 until only a single cluster remains"
   ]
  },
  {
   "cell_type": "markdown",
   "id": "85fb43ef",
   "metadata": {},
   "source": [
    "## Computing a proximity matrix\n",
    "\n",
    "The first step of the algorithm is to create a distance matrix. The values of the matrix are calculated by applying a distance function between each pair of objects. The Euclidean distance function is commonly used for this operation. The structure of the proximity matrix will be as follows for a data set with `n` elements. Here, \n",
    "<math xmlns=\"http://www.w3.org/1998/Math/MathML\">\n",
    "  <mi>d</mi>\n",
    "  <mo stretchy=\"false\">(</mo>\n",
    "  <msub>\n",
    "    <mi>p</mi>\n",
    "    <mi>i</mi>\n",
    "  </msub>\n",
    "  <mo>,</mo>\n",
    "  <msub>\n",
    "    <mi>p</mi>\n",
    "    <mi>j</mi>\n",
    "  </msub>\n",
    "  <mo stretchy=\"false\">)</mo>\n",
    "</math>\n",
    "represent the distance values between \n",
    "<math xmlns=\"http://www.w3.org/1998/Math/MathML\">\n",
    "  <msub>\n",
    "    <mi>p</mi>\n",
    "    <mi>i</mi>\n",
    "  </msub>\n",
    "</math> and \n",
    "<math xmlns=\"http://www.w3.org/1998/Math/MathML\">\n",
    "  <msub>\n",
    "    <mi>p</mi>\n",
    "    <mi>j</mi>\n",
    "  </msub>\n",
    "</math>."
   ]
  },
  {
   "cell_type": "markdown",
   "id": "7a04d36b",
   "metadata": {},
   "source": [
    "## Similarity between Clusters\n",
    "\n",
    "The main question in hierarchical clustering is how to calculate the distance between clusters and update the proximity matrix. There are many different approaches used to answer that question. Each approach has its advantages and disadvantages. The choice will depend on whether there is noise in the data set, whether the shape of the clusters is circular or not, and the density of the data points.\n",
    "\n",
    "A numerical example will help illustrate the methods and choices. We'll use a small sample data set containing just nine two-dimensional points.\n",
    "\n",
    "![alt text](https://storage.googleapis.com/lds-media/images/Sample-data-plot.width-1200.jpg)\n",
    "\n",
    "Suppose we have two clusters in the sample data set. There are different approaches to calculate the distance between the clusters.\n",
    "\n",
    "![alt text](https://storage.googleapis.com/lds-media/images/Sample-data-two-clusters-plot.width-1200.jpg)"
   ]
  },
  {
   "cell_type": "markdown",
   "id": "46115c9d",
   "metadata": {
    "vscode": {
     "languageId": "plaintext"
    }
   },
   "source": [
    "### Min (Single) Linkage\n",
    "\n",
    "One way to measure the distance between clusters is to find the minimum distance between points in those clusters. That is, we can find the point in the first cluster nearest to a point in the other cluster and calculate the distance between those points. In Figure 2, the closest points are `p2` in one cluster and `p5`\n",
    "in the other. The distance between those points, and hence the distance between clusters, is found as `d(p2, p5)=4`.\n",
    "\n",
    "![alt text](https://storage.googleapis.com/lds-media/images/Sample-data-min-distance-single-linkage.width-1200.jpg)\n",
    "\n",
    "The advantage of the Min method is that it can accurately handle non-elliptical shapes. The disadvantages are that it is sensitive to noise and outliers.\n",
    "\n",
    "### Max (Complete) Linkage\n",
    "\n",
    "Another way to measure the distance is to find the maximum distance between points in two clusters. We can find the points in each cluster that are furthest away from each other and calculate the distance between those points. In Figure 3, the maximum distance is between `p1` and `p6`. Distance between those two points, and hence the distance between clusters, is found as `d(p1, p6)=10`.\n",
    "\n",
    "![alt text](https://storage.googleapis.com/lds-media/images/Sample-data-max-distance-complete-linkage.width-1200.jpg)\n",
    "\n",
    "Max is less sensitive to noise and outliers in comparison to MIN method. However, MAX can break large clusters and tends to be biased towards globular clusters.\n",
    "\n",
    "### Centroid Linkage\n",
    "\n",
    "The Centroid method defines the distance between clusters as being the distance between their centers/centroids. After calculating the centroid for each cluster, the distance between those centroids is computed using a distance\n",
    "function.\n",
    "\n",
    "![alt text](https://storage.googleapis.com/lds-media/images/Sample-data-centroid-distance-linkage.width-1200.jpg)\n",
    "\n",
    "### Average Linkage\n",
    "\n",
    "The Average method defines the distance between clusters as the average pairwise distance among all pairs of points in the clusters.\n",
    "\n",
    "![alt text](https://storage.googleapis.com/lds-media/images/Sample-data-average-distance-linkage.width-1200.jpg)\n",
    "\n",
    "\n",
    "## 🔗 Comparison of Linkage Methods in Hierarchical Clustering\n",
    "\n",
    "| **Method**        | **Distance Between…**                   | **Sensitive to Outliers** | **Shape Bias**      | **Notes**                                      |\n",
    "|------------------|------------------------------------------|----------------------------|---------------------|------------------------------------------------|\n",
    "| **MIN (Single)** | Closest pair                             | ✅ Yes                     | Elongated           | Chaining effect                                |\n",
    "| **MAX (Complete)** | Farthest pair                          | ❌ No                      | Compact / Globular  | May split natural elongated clusters           |\n",
    "| **Centroid**     | Cluster centroids                        | ⚠️ Moderate                | Globular            | Can cause non-monotonic merges in dendrograms  |\n",
    "| **Average**      | All pairwise distances (averaged)        | ⚠️ Less Sensitive          | Balanced            | Smooth trade-off between MIN and MAX           |\n",
    "\n",
    "\n",
    "### Ward Linkage\n",
    "\n",
    "The Ward approach analyzes the variance of the clusters rather than measuring distances directly, minimizing the variance between clusters.\n",
    "\n",
    "With the Ward method, the distance between two clusters is related to how much the sum of squares (SS) value will increase when combined.\n",
    "\n",
    "In other words, the Ward method attempts to minimize the sum of the squared distances of the points from the cluster centers. Compared to the distance-based measures described above, the Ward method is less susceptible to noise and outliers. Therefore, Ward's method is preferred more than others in clustering.\n",
    "\n",
    "## 📊 Comparison of Linkage Methods in Hierarchical Clustering\n",
    "\n",
    "| **Method**        | **Merging Criterion**                    | **Sensitive to Outliers** | **Shape Bias**       | **Notes**                                     |\n",
    "|------------------|------------------------------------------|----------------------------|----------------------|-----------------------------------------------|\n",
    "| **Ward**         | Minimum increase in total variance       | ✅ Yes                     | Compact / Globular   | Prefers balanced, spherical clusters          |\n",
    "| **Average**      | Mean of all pairwise distances            | ⚠️ Less Sensitive          | Balanced             | Good trade-off between MIN and MAX            |\n",
    "| **Centroid**     | Distance between centroids                | ⚠️ Moderate                | Globular             | Can cause non-monotonic merges                |\n",
    "| **MIN (Single)** | Closest pair of points                    | ✅ Yes                     | Elongated            | Chaining effect                               |\n",
    "| **MAX (Complete)**| Farthest pair of points                  | ❌ No                      | Compact / Globular   | May break up elongated clusters               |"
   ]
  },
  {
   "cell_type": "markdown",
   "id": "4df83166",
   "metadata": {
    "vscode": {
     "languageId": "plaintext"
    }
   },
   "source": [
    "Suppose a teacher wants to divide her students into different groups. She has the marks scored by each student in an assignment and based on these marks, she wants to segment them into groups. There’s no fixed target here as to how many groups to have. Since the teacher does not know what type of students should be assigned to which group, it cannot be solved as a supervised learning problem. So, we will try to apply hierarchical clustering here and segment the students into different groups.\n",
    "\n",
    "Let’s take a sample of 5 students:\n",
    "\n",
    "![alt text](https://cdn.analyticsvidhya.com/wp-content/uploads/2019/05/Screenshot-from-2019-05-17-16-12-33.png)\n",
    "\n",
    "**Creating a Proximity Matrix**\n",
    "\n",
    "First, we will create a proximity matrix which will tell us the distance between each of these points. Since we are calculating the distance of each point from each of the other points, we will get a square matrix of shape n X n (where n is the number of observations).\n",
    "\n",
    "Let’s make the 5 x 5 proximity matrix for our example:\n",
    "\n",
    "![alt text](https://cdn.analyticsvidhya.com/wp-content/uploads/2019/05/Screenshot-from-2019-05-15-14-46-36.png)\n",
    "\n",
    "The diagonal elements of this matrix will always be 0 as the distance of a point with itself is always 0. We will use the Euclidean distance formula to calculate the rest of the distances. So, let’s say we want to calculate the distance between point 1 and 2:\n",
    "\n",
    "`√(10-7)^2 = √9 = 3`\n",
    "\n",
    "Similarly, we can calculate all the distances and fill the proximity matrix."
   ]
  },
  {
   "cell_type": "markdown",
   "id": "1527666b",
   "metadata": {
    "vscode": {
     "languageId": "plaintext"
    }
   },
   "source": [
    "**Steps to Perform Hierarchical Clustering**\n",
    "\n",
    "- Step 1: First, we assign all the points to an individual cluster:\n",
    "\n",
    "![alt text](https://cdn.analyticsvidhya.com/wp-content/uploads/2019/05/Screenshot-from-2019-05-15-14-54-20.png)\n",
    "\n",
    "Different colors here represent different clusters. You can see that we have 5 different clusters for the 5 points in our data.\n",
    "\n",
    "- Step 2: Next, we will look at the smallest distance in the proximity matrix and merge the points with the smallest distance. We then update the proximity matrix:\n",
    "\n",
    "![alt text](https://cdn.analyticsvidhya.com/wp-content/uploads/2019/05/Screenshot-from-2019-05-15-14-57-30.png)\n",
    "\n",
    "Here, the smallest distance is 3 and hence we will merge point 1 and 2:\n",
    "\n",
    "![alt text](https://cdn.analyticsvidhya.com/wp-content/uploads/2019/05/Screenshot-from-2019-05-15-14-58-11.png)\n",
    "\n",
    "Let’s look at the updated clusters and accordingly update the proximity matrix:\n",
    "\n",
    "![alt text](https://cdn.analyticsvidhya.com/wp-content/uploads/2019/05/Screenshot-from-2019-05-15-14-59-19.png)\n",
    "\n",
    "Here, we have taken the maximum of the two marks (7, 10) to replace the marks for this cluster. Instead of the maximum, we can also take the minimum value or the average values as well. Now, we will again calculate the proximity matrix for these clusters:\n",
    "\n",
    "![alt text](https://cdn.analyticsvidhya.com/wp-content/uploads/2019/05/Screenshot-from-2019-05-15-15-01-11.png)\n",
    "\n",
    "- Step 3: We will repeat step 2 until only a single cluster is left.\n",
    "\n",
    "So, we will first look at the minimum distance in the proximity matrix and then merge the closest pair of clusters. We will get the merged clusters as shown below after repeating these steps:\n",
    "\n",
    "![alt text](https://cdn.analyticsvidhya.com/wp-content/uploads/2019/05/Screenshot-from-2019-05-15-15-03-17.png)\n",
    "\n",
    "We started with 5 clusters and finally have a single cluster. This is how agglomerative hierarchical clustering works. But the burning question still remains – how do we decide the number of clusters?"
   ]
  },
  {
   "cell_type": "markdown",
   "id": "c8b113bb",
   "metadata": {
    "vscode": {
     "languageId": "plaintext"
    }
   },
   "source": [
    "## How to Choose the Number of Clusters in Hierarchical Clustering?\n",
    "\n",
    "To get the number of clusters for hierarchical clustering, we make use of an awesome concept called a **Dendrogram**.\n",
    "\n",
    "**A dendrogram is a tree-like diagram that records the sequences of merges or splits.**\n",
    "\n",
    "Let’s get back to teacher-student example. Whenever we merge two clusters, a dendrogram will record the distance between these clusters and represent it in graph form. Let’s see how a dendrogram looks:\n",
    "\n",
    "![alt text](https://cdn.analyticsvidhya.com/wp-content/uploads/2019/05/Screenshot-from-2019-05-16-17-11-39.png)\n",
    "\n",
    "We have the samples of the dataset on the x-axis and the distance on the y-axis. Whenever two clusters are merged, we will join them in this dendrogram and the height of the join will be the distance between these points. Let’s build the dendrogram for our example:\n",
    "\n",
    "We started by merging sample 1 and 2 and the distance between these two samples was 3. Let’s plot this in the dendrogram:\n",
    "\n",
    "![alt text](https://cdn.analyticsvidhya.com/wp-content/uploads/2019/05/Screenshot-from-2019-05-16-18-06-37.png)\n",
    "\n",
    "Here, we can see that we have merged sample 1 and 2. The vertical line represents the distance between these samples. Similarly, we plot all the steps where we merged the clusters and finally, we get a dendrogram like this:\n",
    "\n",
    "![alt text](https://cdn.analyticsvidhya.com/wp-content/uploads/2019/05/Screenshot-from-2019-05-16-18-10-06.png)\n",
    "\n",
    "More the distance of the vertical lines in the dendrogram, more the distance between those clusters.\n",
    "\n",
    "Now, we can set a threshold distance and draw a horizontal line (Generally, we try to set the threshold so that it cuts the tallest vertical line). Let’s set this threshold as 12 and draw a horizontal line:\n",
    "\n",
    "![alt text](https://cdn.analyticsvidhya.com/wp-content/uploads/2019/05/Screenshot-from-2019-05-16-18-12-55.png)\n",
    "\n",
    "The number of clusters will be the number of vertical lines intersected by the line drawn using the threshold. In the above example, since the red line intersects 2 vertical lines, we will have 2 clusters. One cluster will have a sample (1,2,4) and the other will have a sample (3,5).\n",
    "\n",
    "This is how we can decide the number of clusters using a dendrogram in Hierarchical Clustering."
   ]
  },
  {
   "cell_type": "code",
   "execution_count": 55,
   "id": "4b51326f",
   "metadata": {},
   "outputs": [],
   "source": [
    "import pandas as pd\n",
    "import numpy as np\n",
    "import matplotlib.pyplot as plt"
   ]
  },
  {
   "cell_type": "code",
   "execution_count": 56,
   "id": "802cd64f",
   "metadata": {},
   "outputs": [
    {
     "data": {
      "text/html": [
       "<div>\n",
       "<style scoped>\n",
       "    .dataframe tbody tr th:only-of-type {\n",
       "        vertical-align: middle;\n",
       "    }\n",
       "\n",
       "    .dataframe tbody tr th {\n",
       "        vertical-align: top;\n",
       "    }\n",
       "\n",
       "    .dataframe thead th {\n",
       "        text-align: right;\n",
       "    }\n",
       "</style>\n",
       "<table border=\"1\" class=\"dataframe\">\n",
       "  <thead>\n",
       "    <tr style=\"text-align: right;\">\n",
       "      <th></th>\n",
       "      <th>CustomerID</th>\n",
       "      <th>Gender</th>\n",
       "      <th>Age</th>\n",
       "      <th>Annual Income (k$)</th>\n",
       "      <th>Spending Score (1-100)</th>\n",
       "    </tr>\n",
       "  </thead>\n",
       "  <tbody>\n",
       "    <tr>\n",
       "      <th>0</th>\n",
       "      <td>1</td>\n",
       "      <td>Male</td>\n",
       "      <td>19</td>\n",
       "      <td>15</td>\n",
       "      <td>39</td>\n",
       "    </tr>\n",
       "    <tr>\n",
       "      <th>1</th>\n",
       "      <td>2</td>\n",
       "      <td>Male</td>\n",
       "      <td>21</td>\n",
       "      <td>15</td>\n",
       "      <td>81</td>\n",
       "    </tr>\n",
       "    <tr>\n",
       "      <th>2</th>\n",
       "      <td>3</td>\n",
       "      <td>Female</td>\n",
       "      <td>20</td>\n",
       "      <td>16</td>\n",
       "      <td>6</td>\n",
       "    </tr>\n",
       "    <tr>\n",
       "      <th>3</th>\n",
       "      <td>4</td>\n",
       "      <td>Female</td>\n",
       "      <td>23</td>\n",
       "      <td>16</td>\n",
       "      <td>77</td>\n",
       "    </tr>\n",
       "    <tr>\n",
       "      <th>4</th>\n",
       "      <td>5</td>\n",
       "      <td>Female</td>\n",
       "      <td>31</td>\n",
       "      <td>17</td>\n",
       "      <td>40</td>\n",
       "    </tr>\n",
       "  </tbody>\n",
       "</table>\n",
       "</div>"
      ],
      "text/plain": [
       "   CustomerID  Gender  Age  Annual Income (k$)  Spending Score (1-100)\n",
       "0           1    Male   19                  15                      39\n",
       "1           2    Male   21                  15                      81\n",
       "2           3  Female   20                  16                       6\n",
       "3           4  Female   23                  16                      77\n",
       "4           5  Female   31                  17                      40"
      ]
     },
     "execution_count": 56,
     "metadata": {},
     "output_type": "execute_result"
    }
   ],
   "source": [
    "data=pd.read_excel(\"mall_customers.xlsx\")\n",
    "data.head()"
   ]
  },
  {
   "cell_type": "code",
   "execution_count": 57,
   "id": "9424fb77",
   "metadata": {},
   "outputs": [
    {
     "name": "stdout",
     "output_type": "stream",
     "text": [
      "<class 'pandas.core.frame.DataFrame'>\n",
      "RangeIndex: 200 entries, 0 to 199\n",
      "Data columns (total 5 columns):\n",
      " #   Column                  Non-Null Count  Dtype \n",
      "---  ------                  --------------  ----- \n",
      " 0   CustomerID              200 non-null    int64 \n",
      " 1   Gender                  200 non-null    object\n",
      " 2   Age                     200 non-null    int64 \n",
      " 3   Annual Income (k$)      200 non-null    int64 \n",
      " 4   Spending Score (1-100)  200 non-null    int64 \n",
      "dtypes: int64(4), object(1)\n",
      "memory usage: 7.9+ KB\n"
     ]
    }
   ],
   "source": [
    "data.info()"
   ]
  },
  {
   "cell_type": "code",
   "execution_count": 58,
   "id": "00807bee",
   "metadata": {},
   "outputs": [
    {
     "data": {
      "text/html": [
       "<div>\n",
       "<style scoped>\n",
       "    .dataframe tbody tr th:only-of-type {\n",
       "        vertical-align: middle;\n",
       "    }\n",
       "\n",
       "    .dataframe tbody tr th {\n",
       "        vertical-align: top;\n",
       "    }\n",
       "\n",
       "    .dataframe thead th {\n",
       "        text-align: right;\n",
       "    }\n",
       "</style>\n",
       "<table border=\"1\" class=\"dataframe\">\n",
       "  <thead>\n",
       "    <tr style=\"text-align: right;\">\n",
       "      <th></th>\n",
       "      <th>CustomerID</th>\n",
       "      <th>Age</th>\n",
       "      <th>Annual Income (k$)</th>\n",
       "      <th>Spending Score (1-100)</th>\n",
       "    </tr>\n",
       "  </thead>\n",
       "  <tbody>\n",
       "    <tr>\n",
       "      <th>count</th>\n",
       "      <td>200.000000</td>\n",
       "      <td>200.000000</td>\n",
       "      <td>200.000000</td>\n",
       "      <td>200.000000</td>\n",
       "    </tr>\n",
       "    <tr>\n",
       "      <th>mean</th>\n",
       "      <td>100.500000</td>\n",
       "      <td>38.850000</td>\n",
       "      <td>60.560000</td>\n",
       "      <td>50.200000</td>\n",
       "    </tr>\n",
       "    <tr>\n",
       "      <th>std</th>\n",
       "      <td>57.879185</td>\n",
       "      <td>13.969007</td>\n",
       "      <td>26.264721</td>\n",
       "      <td>25.823522</td>\n",
       "    </tr>\n",
       "    <tr>\n",
       "      <th>min</th>\n",
       "      <td>1.000000</td>\n",
       "      <td>18.000000</td>\n",
       "      <td>15.000000</td>\n",
       "      <td>1.000000</td>\n",
       "    </tr>\n",
       "    <tr>\n",
       "      <th>25%</th>\n",
       "      <td>50.750000</td>\n",
       "      <td>28.750000</td>\n",
       "      <td>41.500000</td>\n",
       "      <td>34.750000</td>\n",
       "    </tr>\n",
       "    <tr>\n",
       "      <th>50%</th>\n",
       "      <td>100.500000</td>\n",
       "      <td>36.000000</td>\n",
       "      <td>61.500000</td>\n",
       "      <td>50.000000</td>\n",
       "    </tr>\n",
       "    <tr>\n",
       "      <th>75%</th>\n",
       "      <td>150.250000</td>\n",
       "      <td>49.000000</td>\n",
       "      <td>78.000000</td>\n",
       "      <td>73.000000</td>\n",
       "    </tr>\n",
       "    <tr>\n",
       "      <th>max</th>\n",
       "      <td>200.000000</td>\n",
       "      <td>70.000000</td>\n",
       "      <td>137.000000</td>\n",
       "      <td>99.000000</td>\n",
       "    </tr>\n",
       "  </tbody>\n",
       "</table>\n",
       "</div>"
      ],
      "text/plain": [
       "       CustomerID         Age  Annual Income (k$)  Spending Score (1-100)\n",
       "count  200.000000  200.000000          200.000000              200.000000\n",
       "mean   100.500000   38.850000           60.560000               50.200000\n",
       "std     57.879185   13.969007           26.264721               25.823522\n",
       "min      1.000000   18.000000           15.000000                1.000000\n",
       "25%     50.750000   28.750000           41.500000               34.750000\n",
       "50%    100.500000   36.000000           61.500000               50.000000\n",
       "75%    150.250000   49.000000           78.000000               73.000000\n",
       "max    200.000000   70.000000          137.000000               99.000000"
      ]
     },
     "execution_count": 58,
     "metadata": {},
     "output_type": "execute_result"
    }
   ],
   "source": [
    "data.describe()"
   ]
  },
  {
   "cell_type": "code",
   "execution_count": 59,
   "id": "e5f3db22",
   "metadata": {},
   "outputs": [
    {
     "data": {
      "text/html": [
       "<div>\n",
       "<style scoped>\n",
       "    .dataframe tbody tr th:only-of-type {\n",
       "        vertical-align: middle;\n",
       "    }\n",
       "\n",
       "    .dataframe tbody tr th {\n",
       "        vertical-align: top;\n",
       "    }\n",
       "\n",
       "    .dataframe thead th {\n",
       "        text-align: right;\n",
       "    }\n",
       "</style>\n",
       "<table border=\"1\" class=\"dataframe\">\n",
       "  <thead>\n",
       "    <tr style=\"text-align: right;\">\n",
       "      <th></th>\n",
       "      <th>Annual Income (k$)</th>\n",
       "      <th>Spending Score (1-100)</th>\n",
       "    </tr>\n",
       "  </thead>\n",
       "  <tbody>\n",
       "    <tr>\n",
       "      <th>0</th>\n",
       "      <td>15</td>\n",
       "      <td>39</td>\n",
       "    </tr>\n",
       "    <tr>\n",
       "      <th>1</th>\n",
       "      <td>15</td>\n",
       "      <td>81</td>\n",
       "    </tr>\n",
       "    <tr>\n",
       "      <th>2</th>\n",
       "      <td>16</td>\n",
       "      <td>6</td>\n",
       "    </tr>\n",
       "    <tr>\n",
       "      <th>3</th>\n",
       "      <td>16</td>\n",
       "      <td>77</td>\n",
       "    </tr>\n",
       "    <tr>\n",
       "      <th>4</th>\n",
       "      <td>17</td>\n",
       "      <td>40</td>\n",
       "    </tr>\n",
       "  </tbody>\n",
       "</table>\n",
       "</div>"
      ],
      "text/plain": [
       "   Annual Income (k$)  Spending Score (1-100)\n",
       "0                  15                      39\n",
       "1                  15                      81\n",
       "2                  16                       6\n",
       "3                  16                      77\n",
       "4                  17                      40"
      ]
     },
     "execution_count": 59,
     "metadata": {},
     "output_type": "execute_result"
    }
   ],
   "source": [
    "input=data.iloc[:,3:5]\n",
    "input.head()"
   ]
  },
  {
   "cell_type": "code",
   "execution_count": 60,
   "id": "bd235c26",
   "metadata": {},
   "outputs": [
    {
     "data": {
      "text/plain": [
       "<matplotlib.collections.PathCollection at 0x248b0689010>"
      ]
     },
     "execution_count": 60,
     "metadata": {},
     "output_type": "execute_result"
    },
    {
     "data": {
      "image/png": "[encoded data removed]",
      "text/plain": [
       "<Figure size 640x480 with 1 Axes>"
      ]
     },
     "metadata": {},
     "output_type": "display_data"
    }
   ],
   "source": [
    "plt.scatter(input.iloc[:,0:1],input.iloc[:,1:])"
   ]
  },
  {
   "cell_type": "code",
   "execution_count": 61,
   "id": "2b639416",
   "metadata": {},
   "outputs": [],
   "source": [
    "from sklearn.compose import ColumnTransformer\n",
    "from sklearn.preprocessing import StandardScaler\n",
    "ct=ColumnTransformer([\n",
    "    (\"Standadrd Scaler\",StandardScaler(),[0,1]),\n",
    "],\n",
    "                     remainder=\"passthrough\"\n",
    "                     )"
   ]
  },
  {
   "cell_type": "code",
   "execution_count": 62,
   "id": "0f84c7d9",
   "metadata": {},
   "outputs": [
    {
     "data": {
      "text/plain": [
       "array([[-1.73899919, -0.43480148],\n",
       "       [-1.73899919,  1.19570407],\n",
       "       [-1.70082976, -1.71591298],\n",
       "       [-1.70082976,  1.04041783],\n",
       "       [-1.66266033, -0.39597992]])"
      ]
     },
     "execution_count": 62,
     "metadata": {},
     "output_type": "execute_result"
    }
   ],
   "source": [
    "input=ct.fit_transform(input)\n",
    "input[:5]"
   ]
  },
  {
   "cell_type": "code",
   "execution_count": 63,
   "id": "163d4f89",
   "metadata": {},
   "outputs": [],
   "source": [
    "from sklearn.cluster import AgglomerativeClustering\n",
    "cluster=AgglomerativeClustering(linkage=\"complete\",n_clusters=5)"
   ]
  },
  {
   "cell_type": "code",
   "execution_count": 64,
   "id": "7680b75b",
   "metadata": {},
   "outputs": [
    {
     "data": {
      "text/plain": [
       "array([1, 3, 1, 3, 1, 3, 1, 3, 1, 3, 1, 3, 1, 3, 1, 3, 1, 3, 1, 3, 1, 3,\n",
       "       1, 3, 1, 3, 1, 3, 1, 3, 1, 3, 1, 3, 1, 3, 1, 3, 1, 3, 1, 3, 1, 4,\n",
       "       1, 4, 4, 4, 4, 4, 4, 4, 4, 4, 4, 4, 4, 4, 4, 4, 4, 4, 4, 4, 4, 4,\n",
       "       4, 4, 4, 4, 4, 4, 4, 4, 4, 4, 4, 4, 4, 4, 4, 4, 4, 4, 4, 4, 4, 4,\n",
       "       4, 4, 4, 4, 4, 4, 4, 4, 4, 4, 4, 4, 4, 4, 4, 4, 4, 4, 4, 4, 4, 4,\n",
       "       4, 4, 4, 4, 4, 4, 4, 4, 4, 4, 4, 4, 4, 0, 2, 0, 2, 0, 2, 0, 2, 0,\n",
       "       2, 0, 2, 0, 2, 0, 2, 0, 2, 0, 2, 0, 2, 0, 2, 0, 2, 0, 2, 0, 2, 0,\n",
       "       2, 0, 2, 0, 2, 0, 2, 0, 2, 0, 2, 0, 2, 0, 2, 0, 2, 0, 2, 0, 2, 0,\n",
       "       2, 0, 2, 0, 2, 0, 2, 0, 2, 0, 2, 0, 2, 0, 2, 0, 2, 0, 2, 0, 2, 0,\n",
       "       2, 0], dtype=int64)"
      ]
     },
     "execution_count": 64,
     "metadata": {},
     "output_type": "execute_result"
    }
   ],
   "source": [
    "y_pred=cluster.fit_predict(input)\n",
    "y_pred.ravel()"
   ]
  },
  {
   "cell_type": "code",
   "execution_count": 65,
   "id": "1eafa1d3",
   "metadata": {},
   "outputs": [
    {
     "data": {
      "text/plain": [
       "array([1, 3, 1, 3, 1, 3, 1, 3, 1, 3, 1, 3, 1, 3, 1, 3, 1, 3, 1, 3, 1, 3,\n",
       "       1, 3, 1, 3, 1, 3, 1, 3, 1, 3, 1, 3, 1, 3, 1, 3, 1, 3, 1, 3, 1, 1,\n",
       "       1, 1, 1, 1, 1, 1, 1, 1, 1, 1, 1, 1, 1, 1, 1, 1, 1, 1, 1, 1, 1, 1,\n",
       "       1, 1, 1, 1, 1, 1, 1, 1, 1, 1, 1, 1, 1, 1, 1, 1, 1, 1, 1, 1, 1, 1,\n",
       "       1, 1, 1, 1, 1, 1, 1, 1, 1, 1, 1, 1, 1, 1, 1, 1, 1, 1, 1, 1, 1, 1,\n",
       "       1, 1, 1, 1, 1, 1, 1, 1, 1, 1, 1, 1, 1, 2, 0, 2, 0, 2, 0, 2, 0, 2,\n",
       "       0, 2, 0, 2, 0, 2, 0, 2, 0, 2, 0, 2, 0, 2, 0, 2, 0, 2, 0, 2, 0, 2,\n",
       "       0, 2, 0, 2, 0, 2, 0, 2, 0, 2, 0, 2, 0, 2, 0, 2, 0, 2, 0, 2, 0, 2,\n",
       "       0, 2, 0, 2, 0, 2, 0, 2, 0, 2, 0, 2, 0, 2, 0, 2, 0, 2, 0, 4, 0, 4,\n",
       "       0, 4], dtype=int64)"
      ]
     },
     "execution_count": 65,
     "metadata": {},
     "output_type": "execute_result"
    }
   ],
   "source": [
    "cls=cluster=AgglomerativeClustering(linkage=\"average\",n_clusters=5)\n",
    "y_pred1=cls.fit_predict(input)\n",
    "y_pred1.ravel()"
   ]
  },
  {
   "cell_type": "code",
   "execution_count": 66,
   "id": "aeb1f537",
   "metadata": {},
   "outputs": [
    {
     "data": {
      "image/png": "[encoded data removed]",
      "text/plain": [
       "<Figure size 1000x800 with 1 Axes>"
      ]
     },
     "metadata": {},
     "output_type": "display_data"
    }
   ],
   "source": [
    "import scipy.cluster.hierarchy as sch\n",
    "plt.figure(figsize=[10,8])\n",
    "z=sch.linkage(input,method=\"ward\")\n",
    "dendrogram=sch.dendrogram(z)\n"
   ]
  },
  {
   "cell_type": "code",
   "execution_count": 67,
   "id": "d27b8c0d",
   "metadata": {},
   "outputs": [
    {
     "data": {
      "image/png": "[encoded data removed]",
      "text/plain": [
       "<Figure size 1000x800 with 1 Axes>"
      ]
     },
     "metadata": {},
     "output_type": "display_data"
    }
   ],
   "source": [
    "plt.figure(figsize=[10,8])\n",
    "z=sch.linkage(input,method=\"complete\")\n",
    "dendrogram=sch.dendrogram(z)"
   ]
  },
  {
   "cell_type": "code",
   "execution_count": null,
   "id": "1db39953",
   "metadata": {},
   "outputs": [],
   "source": []
  }
 ],
 "metadata": {
  "kernelspec": {
   "display_name": "base",
   "language": "python",
   "name": "python3"
  },
  "language_info": {
   "codemirror_mode": {
    "name": "ipython",
    "version": 3
   },
   "file_extension": ".py",
   "mimetype": "text/x-python",
   "name": "python",
   "nbconvert_exporter": "python",
   "pygments_lexer": "ipython3",
   "version": "3.11.7"
  }
 },
 "nbformat": 4,
 "nbformat_minor": 5
}
