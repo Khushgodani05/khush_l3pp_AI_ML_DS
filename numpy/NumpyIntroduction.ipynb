{
 "cells": [
  {
   "cell_type": "markdown",
   "metadata": {
    "id": "SfCSk7kaGh0P"
   },
   "source": [
    "# **Introduction to NumPy**\n",
    "\n",
    "![alt text](https://encrypted-tbn0.gstatic.com/images?q=tbn:ANd9GcSMrTWz33b86nfIrgaW9jE_t-7VCcqJtjL-pg&s)\n",
    "\n",
    "A NumPy array is a powerful data structure in Python provided by the NumPy (Numerical Python) library. It is a grid of values, all of the same type, indexed by a tuple of non-negative integers. Arrays in NumPy are a more efficient and flexible way of storing and manipulating large datasets compared to Python's native lists. They provide support for mathematical operations on arrays, such as element-wise addition, subtraction, multiplication, and division, and offer a range of functions for working with large datasets.\n",
    "\n",
    "## **Key Features of NumPy Arrays**\n",
    "\n",
    "- **Efficient storage and operations:** NumPy arrays use less memory and provide faster data processing compared to lists.\n",
    "- **Homogeneous data types:** All elements of a NumPy array must be of the same data type.\n",
    "- **Multi-dimensional arrays:** NumPy supports 1D, 2D, and n-dimensional arrays, allowing complex data manipulation.\n",
    "- **Broadcasting:** Operations on arrays of different shapes can be carried out using a technique called broadcasting.\n",
    "- **Support for a wide range of functions:** It includes mathematical, logical, linear algebra, Fourier transform, and random number generation functions.\n",
    "\n",
    "![alt text](https://miro.medium.com/v2/resize:fit:828/1*kM5rQZIpBAjbs7UkqUWJdg.jpeg)\n",
    "\n",
    "## **Numpy Array Data Type Precedence**\n",
    "\n",
    "NumPy automatically determines the data type of an array based on the types of the elements in the array. When elements of different data types are combined in an array, NumPy applies data type precedence to convert the elements to a common type. The precedence follows a hierarchy where more general types can encompass less general ones.\n",
    "\n",
    "Here is the general order of NumPy data type precedence (from lowest to highest precision):\n",
    "\n",
    "1. Boolean (bool)\n",
    "2. Integer (int)\n",
    "3. Unsigned Integer (uint)\n",
    "4. Float (float)\n",
    "5. Complex (complex)\n",
    "6. String (str)\n",
    "7. Object (object)\n",
    "\n",
    "## **NumPy Matrix**\n",
    "\n",
    "Numpy means Numerical Python. The Numpy matrix is a package in Python which is the core scientific computing library. It contains a powerful n-dimensional array object and also enables integrations of C and C++.\n",
    "\n",
    "The Numpy matrix has a number of uses; from linear algebra to random number capability to its use as a container for generic data.\n"
   ]
  },
  {
   "cell_type": "markdown",
   "metadata": {},
   "source": [
    "## **Why use NumPy?**\n",
    "\n",
    "NumPy gives you an enormous range of fast and efficient ways of creating arrays and manipulating numerical data inside them. While a Python list can contain different data types within a single list, all of the elements in a NumPy array should be homogeneous. The mathematical operations that are meant to be performed on arrays would be extremely inefficient if the arrays weren’t homogeneous.\n",
    "\n",
    "NumPy arrays are faster and more compact than Python lists. An array consumes less memory and is convenient to use. NumPy uses much less memory to store data and it provides a mechanism of specifying the data types. This allows the code to be optimized even further.\n",
    "\n",
    "## **NumPy Installation**\n",
    "\n",
    "All you need to do is type “**pip install numpy**” in the command prompt. This starts the installation. As soon as Numpy is installed go to the **IDE(Integrated Development Environment)** and then import Numpy by typing “**import numpy as np**”.\n",
    "\n",
    "## **NumPy Array**\n",
    "\n",
    "A Numpy Array or Numpy matrix is a two-dimensional array that contains both rows and columns. Here’s an example of a NumPy array that has 4 columns and 3 rows.\n",
    "\n",
    "![numpy array.png](https://miro.medium.com/v2/resize:fit:817/0*y04Nh3L0aSwyGaby.png)\n",
    "\n",
    "**Single Dimensional Numpy Matrix:**\n"
   ]
  },
  {
   "cell_type": "code",
   "execution_count": 1,
   "metadata": {},
   "outputs": [
    {
     "name": "stdout",
     "output_type": "stream",
     "text": [
      "<class 'list'>\n",
      "<class 'dict'>\n"
     ]
    }
   ],
   "source": [
    "my_list = [1, 2, 3, 4]\n",
    "print(type(my_list))\n",
    "\n",
    "my_dict = {\"name\": \"ravi\"}\n",
    "print(type(my_dict))"
   ]
  },
  {
   "cell_type": "code",
   "execution_count": null,
   "metadata": {},
   "outputs": [
    {
     "name": "stdout",
     "output_type": "stream",
     "text": [
      "2.2.3\n"
     ]
    }
   ],
   "source": [
    "import numpy\n",
    "\n",
    "print(numpy.__version__)"
   ]
  },
  {
   "cell_type": "code",
   "execution_count": 3,
   "metadata": {
    "colab": {
     "base_uri": "https://localhost:8080/"
    },
    "executionInfo": {
     "elapsed": 737,
     "status": "ok",
     "timestamp": 1636099481539,
     "user": {
      "displayName": "Hiten Bomble",
      "photoUrl": "https://lh3.googleusercontent.com/a-/AOh14GgMztLjU1PBUNJMZXNduprc-vYMXjn1s5pMLWDSDmk=s64",
      "userId": "11795692511919535177"
     },
     "user_tz": -330
    },
    "id": "WJBjBw2uH9ha",
    "outputId": "fe2b06ae-7215-47af-8326-e31e01ed873d"
   },
   "outputs": [
    {
     "name": "stdout",
     "output_type": "stream",
     "text": [
      "<class 'numpy.ndarray'>\n",
      "[1 2 3 4]\n"
     ]
    }
   ],
   "source": [
    "import numpy\n",
    "\n",
    "my_list = [1, 2, 3, 4]\n",
    "mat = numpy.array(my_list)\n",
    "print(type(mat))\n",
    "print(mat)"
   ]
  },
  {
   "cell_type": "markdown",
   "metadata": {
    "id": "UMq8xAfDPlBr"
   },
   "source": [
    "NumPy’s main object is the **homogeneous multidimensional array**. It is a table of elements (usually numbers), all of the same type, indexed by a tuple of non-negative integers. In NumPy dimensions are called **axes**.\n",
    "\n",
    "For example, the coordinates of a point in 3D space **[1, 2, 1]** has one axis. That axis has 3 elements in it, so we say it has a length of 3. In the example below, the array has 2 axes. The first axis has a length of 2, the second axis has a length of 3.\n",
    "\n",
    "```\n",
    "[[ 1., 0., 0.],\n",
    " [ 0., 1., 2.]]\n",
    "```\n",
    "\n",
    "**NumPy’s array class is called ndarray**. It is also known by the alias array. Note that **numpy.array** is not the same as the Standard Python Library class **array.array**, which **only handles one-dimensional arrays** and offers less functionality.\n",
    "\n",
    "**Multi Dimensional Numpy Matrix:**\n"
   ]
  },
  {
   "cell_type": "code",
   "execution_count": null,
   "metadata": {},
   "outputs": [
    {
     "name": "stdout",
     "output_type": "stream",
     "text": [
      "<class 'numpy.ndarray'>\n"
     ]
    }
   ],
   "source": [
    "import numpy as np  # aliasing\n",
    "\n",
    "my_list = [\n",
    "    [1, 2, 3, 4],\n",
    "    [5, 6, 7, 8],\n",
    "    [9, 10, 11, 12],\n",
    "]\n",
    "mat1 = np.array(my_list)\n",
    "print(type(mat1))"
   ]
  },
  {
   "cell_type": "code",
   "execution_count": 5,
   "metadata": {
    "colab": {
     "base_uri": "https://localhost:8080/"
    },
    "executionInfo": {
     "elapsed": 241,
     "status": "ok",
     "timestamp": 1624282388993,
     "user": {
      "displayName": "JKB Education Group",
      "photoUrl": "https://lh3.googleusercontent.com/a-/AOh14GgVDrkOo8zlABzYRCOJhHRgcLuJkkBySrHWd8n5sQ=s64",
      "userId": "04362346289210947166"
     },
     "user_tz": -330
    },
    "id": "MdnK5md_O3Ce",
    "outputId": "be6bce5f-aca7-4213-a219-3da44fce135e"
   },
   "outputs": [
    {
     "name": "stdout",
     "output_type": "stream",
     "text": [
      "<class 'numpy.ndarray'> <class 'numpy.ndarray'>\n"
     ]
    }
   ],
   "source": [
    "\"\"\"\n",
    "Now let's have a look at the type of mat and mat1\n",
    "what it will be????\n",
    "\"\"\"\n",
    "\n",
    "print(type(mat), type(mat1))"
   ]
  },
  {
   "cell_type": "code",
   "execution_count": null,
   "metadata": {},
   "outputs": [
    {
     "data": {
      "text/plain": [
       "array([[1, 2, 3, 4, 5],\n",
       "       [1, 2, 3, 4, 5]])"
      ]
     },
     "execution_count": 6,
     "metadata": {},
     "output_type": "execute_result"
    }
   ],
   "source": [
    "numpy.array([[1, 2, 3, 4, 5], [1, 2, 3, 4, 5]])"
   ]
  },
  {
   "cell_type": "markdown",
   "metadata": {
    "id": "8sA0X96kRRb3"
   },
   "source": [
    "As you can see both instances belongs to **numpy.ndarray** class, where ndarray simply stands for **n-dimensional array**.\n",
    "\n",
    "## **Attributes of Numpy Array**\n",
    "\n",
    "The more important attributes of an ndarray object are:\n",
    "\n",
    "- **ndarray.ndim**\n",
    "\n",
    "the number of axes (dimensions) of the array.\n",
    "\n",
    "- **ndarray.shape**\n",
    "\n",
    "the dimensions of the array. This is a tuple of integers indicating the size of the array in each dimension. For a matrix with n rows and m columns, the shape will be (n,m). The length of the shape tuple is therefore the number of axes, ndim.\n",
    "\n",
    "- **ndarray.size**\n",
    "\n",
    "the total number of elements of the array. This is equal to the product of the elements of shape.\n",
    "\n",
    "- **ndarray.dtype**\n",
    "\n",
    "an object describing the type of the elements in the array. One can create or specify dtype using standard Python types. Additionally NumPy provides types of its own. **numpy.int32, numpy.int16, and numpy.float64** are some examples.\n",
    "\n",
    "- **ndarray.itemsize**\n",
    "\n",
    "the size in bytes of each element of the array. For example, an array of elements of type float64 has itemsize 8 (=64/8), while one of type complex32 has itemsize 4 (=32/8). It is equivalent to **ndarray.dtype.itemsize**.\n"
   ]
  },
  {
   "cell_type": "markdown",
   "metadata": {
    "id": "GrBXg83gS4S5"
   },
   "source": [
    "Let's jump into examples for everything to understand things in better way...\n",
    "\n",
    "**1. ndarray.ndim**\n"
   ]
  },
  {
   "cell_type": "code",
   "execution_count": 7,
   "metadata": {
    "colab": {
     "base_uri": "https://localhost:8080/"
    },
    "executionInfo": {
     "elapsed": 237,
     "status": "ok",
     "timestamp": 1624282388994,
     "user": {
      "displayName": "JKB Education Group",
      "photoUrl": "https://lh3.googleusercontent.com/a-/AOh14GgVDrkOo8zlABzYRCOJhHRgcLuJkkBySrHWd8n5sQ=s64",
      "userId": "04362346289210947166"
     },
     "user_tz": -330
    },
    "id": "OeW8MWCjO3Fv",
    "outputId": "0f0e0637-308c-416e-fbaa-9f493589d265"
   },
   "outputs": [
    {
     "name": "stdout",
     "output_type": "stream",
     "text": [
      "dimension =  1\n",
      "dimension =  2\n",
      "dimension =  3\n"
     ]
    }
   ],
   "source": [
    "import numpy as np\n",
    "\n",
    "\n",
    "def give_dimension(my_mat):\n",
    "    print(\"dimension = \", my_mat.ndim)\n",
    "\n",
    "\n",
    "give_dimension(np.array([1, 2, 3, 4, 5]))\n",
    "give_dimension(np.array([[1, 2, 3, 4, 5], [5, 6, 7, 8, 9]]))\n",
    "give_dimension(\n",
    "    np.array(\n",
    "        [\n",
    "            [[0, 1, 2], [3, 4, 5], [6, 7, 8]],\n",
    "            [[9, 10, 11], [12, 13, 14], [15, 16, 17]],\n",
    "            [[18, 19, 20], [21, 22, 23], [24, 25, 26]],\n",
    "        ]\n",
    "    )\n",
    ")"
   ]
  },
  {
   "cell_type": "markdown",
   "metadata": {
    "id": "nhH51HGjTIfA"
   },
   "source": [
    "**2. ndarray.shape**\n"
   ]
  },
  {
   "cell_type": "code",
   "execution_count": 1,
   "metadata": {
    "colab": {
     "base_uri": "https://localhost:8080/"
    },
    "executionInfo": {
     "elapsed": 232,
     "status": "ok",
     "timestamp": 1624282388995,
     "user": {
      "displayName": "JKB Education Group",
      "photoUrl": "https://lh3.googleusercontent.com/a-/AOh14GgVDrkOo8zlABzYRCOJhHRgcLuJkkBySrHWd8n5sQ=s64",
      "userId": "04362346289210947166"
     },
     "user_tz": -330
    },
    "id": "2NyoJEuLO3Iv",
    "outputId": "fa12b4a1-9d6e-40ee-87e4-3611f77a7d1a"
   },
   "outputs": [
    {
     "name": "stdout",
     "output_type": "stream",
     "text": [
      "(shape/order) =  (5,)\n",
      "(shape/order) =  (2, 5)\n",
      "(shape/order) =  (3, 3, 3)\n",
      "[[[ 0  1  2]\n",
      "  [ 3  4  5]\n",
      "  [ 6  7  8]]\n",
      "\n",
      " [[ 9 10 11]\n",
      "  [12 13 14]\n",
      "  [15 16 17]]\n",
      "\n",
      " [[18 19 20]\n",
      "  [21 22 23]\n",
      "  [24 25 26]]]\n"
     ]
    }
   ],
   "source": [
    "import numpy as np\n",
    "\n",
    "\n",
    "def get_shape(my_mat):\n",
    "    print(\"(shape/order) = \", my_mat.shape)\n",
    "\n",
    "\n",
    "get_shape(np.array([1, 2, 3, 4, 5]))\n",
    "# list of lists\n",
    "get_shape(np.array([[1, 2, 3, 4, 5], [5, 6, 7, 8, 9]]))\n",
    "get_shape(\n",
    "    np.array(\n",
    "        [\n",
    "            [[0, 1, 2], [3, 4, 5], [6, 7, 8]],\n",
    "            [[9, 10, 11], [12, 13, 14], [15, 16, 17]],\n",
    "            [[18, 19, 20], [21, 22, 23], [24, 25, 26]],\n",
    "        ]\n",
    "    )\n",
    ")\n",
    "print(np.array(\n",
    "        [\n",
    "            [[0, 1, 2], [3, 4, 5], [6, 7, 8]],\n",
    "            [[9, 10, 11], [12, 13, 14], [15, 16, 17]],\n",
    "            [[18, 19, 20], [21, 22, 23], [24, 25, 26]],\n",
    "        ]\n",
    "    ))"
   ]
  },
  {
   "cell_type": "markdown",
   "metadata": {
    "id": "d4X_TeaSTJLR"
   },
   "source": [
    "**3. ndarray.size**\n"
   ]
  },
  {
   "cell_type": "code",
   "execution_count": 9,
   "metadata": {
    "colab": {
     "base_uri": "https://localhost:8080/"
    },
    "executionInfo": {
     "elapsed": 230,
     "status": "ok",
     "timestamp": 1624282388997,
     "user": {
      "displayName": "JKB Education Group",
      "photoUrl": "https://lh3.googleusercontent.com/a-/AOh14GgVDrkOo8zlABzYRCOJhHRgcLuJkkBySrHWd8n5sQ=s64",
      "userId": "04362346289210947166"
     },
     "user_tz": -330
    },
    "id": "G0mzjrDHShLx",
    "outputId": "124665ac-188a-4b0f-d487-137cceaa4e2e"
   },
   "outputs": [
    {
     "name": "stdout",
     "output_type": "stream",
     "text": [
      "(size/total number of elements) =  5\n",
      "(size/total number of elements) =  10\n",
      "(size/total number of elements) =  27\n"
     ]
    }
   ],
   "source": [
    "import numpy as np\n",
    "\n",
    "\n",
    "def get_size(my_mat):\n",
    "    print(f\"(size/total number of elements) = \", my_mat.size)\n",
    "\n",
    "\n",
    "get_size(np.array([1, 2, 3, 4, 5]))\n",
    "get_size(np.array([[1, 2, 3, 4, 5], [5, 6, 7, 8, 9]]))\n",
    "get_size(\n",
    "    np.array(\n",
    "        [\n",
    "            [[0, 1, 2], [3, 4, 5], [6, 7, 8]],\n",
    "            [[9, 10, 11], [12, 13, 14], [15, 16, 17]],\n",
    "            [[18, 19, 20], [21, 22, 23], [24, 25, 26]],\n",
    "        ]\n",
    "    )\n",
    ")"
   ]
  },
  {
   "cell_type": "markdown",
   "metadata": {
    "id": "sgnjiw2pTJ0A"
   },
   "source": [
    "**4. ndarray.dtype**\n"
   ]
  },
  {
   "cell_type": "code",
   "execution_count": 11,
   "metadata": {
    "colab": {
     "base_uri": "https://localhost:8080/"
    },
    "executionInfo": {
     "elapsed": 228,
     "status": "ok",
     "timestamp": 1624282388998,
     "user": {
      "displayName": "JKB Education Group",
      "photoUrl": "https://lh3.googleusercontent.com/a-/AOh14GgVDrkOo8zlABzYRCOJhHRgcLuJkkBySrHWd8n5sQ=s64",
      "userId": "04362346289210947166"
     },
     "user_tz": -330
    },
    "id": "XbF7D_tbShRd",
    "outputId": "58953a93-7528-4b2c-d40a-e05be23790dc"
   },
   "outputs": [
    {
     "name": "stdout",
     "output_type": "stream",
     "text": [
      "data type:  float64\n",
      "data type:  complex128\n",
      "data type:  <U10\n"
     ]
    }
   ],
   "source": [
    "import numpy as np\n",
    "\n",
    "\n",
    "def data_type(my_matrix):\n",
    "    print(\"data type: \", my_matrix.dtype)\n",
    "\n",
    "\n",
    "data_type(np.array([1.34, 2.45, 1.35, 7.69, 8.56]))\n",
    "data_type(np.array([4j, 4 + 3j, 6 - 9j]))\n",
    "data_type(np.array([\"a\", \"b\", \"c\", \"abc\", \"ravipandey\", \"hiten\"]))"
   ]
  },
  {
   "cell_type": "markdown",
   "metadata": {
    "id": "3N_L9Z5zUt2H"
   },
   "source": [
    "The Unicode Standard provides a unique number for every character, no matter what platform, device, application or language. It has been adopted by all modern software providers and now allows data to be transported through many different platforms, devices and applications without corruption. Support of Unicode forms the foundation for the representation of languages and symbols in all major operating systems, search engines, browsers, laptops, and smart phones—plus the Internet and World Wide Web (URLs, HTML, XML, CSS, JSON, etc.).\n"
   ]
  },
  {
   "cell_type": "code",
   "execution_count": 11,
   "metadata": {
    "colab": {
     "base_uri": "https://localhost:8080/"
    },
    "executionInfo": {
     "elapsed": 225,
     "status": "ok",
     "timestamp": 1624282389001,
     "user": {
      "displayName": "JKB Education Group",
      "photoUrl": "https://lh3.googleusercontent.com/a-/AOh14GgVDrkOo8zlABzYRCOJhHRgcLuJkkBySrHWd8n5sQ=s64",
      "userId": "04362346289210947166"
     },
     "user_tz": -330
    },
    "id": "JP7AAAQWUaoe",
    "outputId": "a72dde2d-7811-46d2-f77b-9c3028b0eded"
   },
   "outputs": [
    {
     "data": {
      "text/plain": [
       "dtype('float16')"
      ]
     },
     "execution_count": 11,
     "metadata": {},
     "output_type": "execute_result"
    }
   ],
   "source": [
    "\"\"\" you can implicitly define the data type along with array definition.\n",
    "see the code below ....\"\"\"\n",
    "\n",
    "x = np.array([23, 24.88, 56.9, 78, 97], dtype=np.float16)\n",
    "x.dtype"
   ]
  },
  {
   "cell_type": "code",
   "execution_count": 12,
   "metadata": {},
   "outputs": [
    {
     "data": {
      "text/plain": [
       "array([1., 2., 3.], dtype=float16)"
      ]
     },
     "execution_count": 12,
     "metadata": {},
     "output_type": "execute_result"
    }
   ],
   "source": [
    "np.array([1, 2, \"3\"], dtype=np.float16)"
   ]
  },
  {
   "cell_type": "code",
   "execution_count": 15,
   "metadata": {
    "colab": {
     "base_uri": "https://localhost:8080/",
     "height": 185
    },
    "executionInfo": {
     "elapsed": 487,
     "status": "error",
     "timestamp": 1627452498379,
     "user": {
      "displayName": "Harshal Bhoir",
      "photoUrl": "https://lh3.googleusercontent.com/a-/AOh14Ggq_SPAuZV5Npa4283PISgrbXLDsZv279JbeYpZuQ=s64",
      "userId": "09894001979294404483"
     },
     "user_tz": -330
    },
    "id": "BwXOXt7KV3ha",
    "outputId": "beed0b33-850e-429c-8840-e1269c175d97"
   },
   "outputs": [
    {
     "ename": "NameError",
     "evalue": "name 'data_type' is not defined",
     "output_type": "error",
     "traceback": [
      "\u001b[1;31m---------------------------------------------------------------------------\u001b[0m",
      "\u001b[1;31mNameError\u001b[0m                                 Traceback (most recent call last)",
      "Cell \u001b[1;32mIn[15], line 2\u001b[0m\n\u001b[0;32m      1\u001b[0m \u001b[38;5;66;03m# this will probably give you an error { the code below }\u001b[39;00m\n\u001b[1;32m----> 2\u001b[0m data_type(np\u001b[38;5;241m.\u001b[39marray([\u001b[38;5;124m\"\u001b[39m\u001b[38;5;124ma\u001b[39m\u001b[38;5;124m\"\u001b[39m, \u001b[38;5;124m\"\u001b[39m\u001b[38;5;124mb\u001b[39m\u001b[38;5;124m\"\u001b[39m, \u001b[38;5;124m\"\u001b[39m\u001b[38;5;124mc\u001b[39m\u001b[38;5;124m\"\u001b[39m, \u001b[38;5;124m\"\u001b[39m\u001b[38;5;124mabc\u001b[39m\u001b[38;5;124m\"\u001b[39m, \u001b[38;5;124m\"\u001b[39m\u001b[38;5;124mvinayak\u001b[39m\u001b[38;5;124m\"\u001b[39m, \u001b[38;5;124m\"\u001b[39m\u001b[38;5;124mhiten\u001b[39m\u001b[38;5;124m\"\u001b[39m], dtype\u001b[38;5;241m=\u001b[39m\u001b[38;5;124m\"\u001b[39m\u001b[38;5;124mcomplex\u001b[39m\u001b[38;5;124m\"\u001b[39m))\n",
      "\u001b[1;31mNameError\u001b[0m: name 'data_type' is not defined"
     ]
    }
   ],
   "source": [
    "# this will probably give you an error { the code below }\n",
    "data_type(np.array([\"a\", \"b\", \"c\", \"abc\", \"vinayak\", \"hiten\"], dtype=\"complex\"))"
   ]
  },
  {
   "cell_type": "markdown",
   "metadata": {
    "id": "1IVDWmFBV6BO"
   },
   "source": [
    "**5. ndarray.itemsize**\n"
   ]
  },
  {
   "cell_type": "code",
   "execution_count": 14,
   "metadata": {
    "colab": {
     "base_uri": "https://localhost:8080/"
    },
    "executionInfo": {
     "elapsed": 224,
     "status": "ok",
     "timestamp": 1624282389004,
     "user": {
      "displayName": "JKB Education Group",
      "photoUrl": "https://lh3.googleusercontent.com/a-/AOh14GgVDrkOo8zlABzYRCOJhHRgcLuJkkBySrHWd8n5sQ=s64",
      "userId": "04362346289210947166"
     },
     "user_tz": -330
    },
    "id": "kcr80ALQShW_",
    "outputId": "a771a772-ad96-4a68-f20f-50f40e217412"
   },
   "outputs": [
    {
     "name": "stdout",
     "output_type": "stream",
     "text": [
      "item size:  8  bytes\n",
      "item size:  16  bytes\n",
      "item size:  32  bytes\n"
     ]
    }
   ],
   "source": [
    "import numpy as np\n",
    "\n",
    "\n",
    "def item_size(my_matrix):\n",
    "    print(\"item size: \", my_matrix.itemsize, \" bytes\")\n",
    "\n",
    "\n",
    "item_size(np.array([1.34, 2.45, 1.35, 7.69, 8.56]))\n",
    "item_size(np.array([4j, 4 + 3j, 6 - 9j]))\n",
    "item_size(np.array([\"a\", \"b\", \"c\"], dtype=np.dtype(\"U8\")))"
   ]
  },
  {
   "cell_type": "markdown",
   "metadata": {
    "id": "boDQ6fKSWQvB"
   },
   "source": [
    "## **NumPy Array Creation**\n",
    "\n",
    "There are various functions which we can use to create arrays with the help of numpy library. Following code shows the use of those functions to create a single or multi dimensional array.\n"
   ]
  },
  {
   "cell_type": "code",
   "execution_count": 2,
   "metadata": {
    "colab": {
     "base_uri": "https://localhost:8080/"
    },
    "executionInfo": {
     "elapsed": 220,
     "status": "ok",
     "timestamp": 1624282389005,
     "user": {
      "displayName": "JKB Education Group",
      "photoUrl": "https://lh3.googleusercontent.com/a-/AOh14GgVDrkOo8zlABzYRCOJhHRgcLuJkkBySrHWd8n5sQ=s64",
      "userId": "04362346289210947166"
     },
     "user_tz": -330
    },
    "id": "o4GDamnuShZw",
    "outputId": "762c847e-3a39-4019-bf7a-1c4de69deda5"
   },
   "outputs": [
    {
     "name": "stdout",
     "output_type": "stream",
     "text": [
      "[2 3 4 5]\n",
      "<class 'numpy.ndarray'> \n",
      "\n",
      "[  0 -20 -40 -60 -80]\n"
     ]
    }
   ],
   "source": [
    "import numpy as np\n",
    "\n",
    "# will print array in the range provided as argument\n",
    "my_np_arr = np.arange(2, 6)\n",
    "print(my_np_arr)\n",
    "print(type(my_np_arr), \"\\n\")\n",
    "\n",
    "# you can also provide spacing between two intervals by providing third argument\n",
    "print(np.arange(0, -100, -20))  # output is nothing but numpy.ndarray class object"
   ]
  },
  {
   "cell_type": "code",
   "execution_count": 16,
   "metadata": {},
   "outputs": [
    {
     "data": {
      "text/plain": [
       "array([  0., -20., -40., -60., -80.], dtype=float16)"
      ]
     },
     "execution_count": 16,
     "metadata": {},
     "output_type": "execute_result"
    }
   ],
   "source": [
    "np.arange(0, -100, -20, dtype=np.float16)"
   ]
  },
  {
   "cell_type": "code",
   "execution_count": 18,
   "metadata": {},
   "outputs": [
    {
     "name": "stdout",
     "output_type": "stream",
     "text": [
      "int8\n",
      "[[0 0 0 0 0]\n",
      " [0 0 0 0 0]\n",
      " [0 0 0 0 0]\n",
      " [0 0 0 0 0]] <class 'numpy.ndarray'>\n"
     ]
    }
   ],
   "source": [
    "my_arr = np.zeros(shape=(4, 5), dtype=np.int8)\n",
    "print(my_arr.dtype)\n",
    "print(my_arr, type(my_arr))"
   ]
  },
  {
   "cell_type": "code",
   "execution_count": 19,
   "metadata": {},
   "outputs": [
    {
     "data": {
      "text/plain": [
       "array([[0, 0, 0, 0, 0],\n",
       "       [0, 0, 0, 0, 0],\n",
       "       [0, 0, 0, 0, 0],\n",
       "       [0, 0, 0, 0, 0]], dtype=int8)"
      ]
     },
     "execution_count": 19,
     "metadata": {},
     "output_type": "execute_result"
    }
   ],
   "source": [
    "np.zeros_like(my_arr)"
   ]
  },
  {
   "cell_type": "code",
   "execution_count": 15,
   "metadata": {
    "colab": {
     "base_uri": "https://localhost:8080/"
    },
    "executionInfo": {
     "elapsed": 216,
     "status": "ok",
     "timestamp": 1624282389005,
     "user": {
      "displayName": "JKB Education Group",
      "photoUrl": "https://lh3.googleusercontent.com/a-/AOh14GgVDrkOo8zlABzYRCOJhHRgcLuJkkBySrHWd8n5sQ=s64",
      "userId": "04362346289210947166"
     },
     "user_tz": -330
    },
    "id": "BgFgMj4QZmG9",
    "outputId": "834def2c-2663-4eb8-821c-7da3e39a3c35"
   },
   "outputs": [
    {
     "name": "stdout",
     "output_type": "stream",
     "text": [
      "[[0. 0. 0.]\n",
      " [0. 0. 0.]] \n",
      "\n",
      "[[1. 1.]\n",
      " [1. 1.]] \n",
      "\n",
      "[[9999 9999 9999]\n",
      " [9999 9999 9999]\n",
      " [9999 9999 9999]] \n",
      "\n",
      "[[1. 0. 0. 0. 0.]\n",
      " [0. 1. 0. 0. 0.]\n",
      " [0. 0. 1. 0. 0.]\n",
      " [0. 0. 0. 1. 0.]\n",
      " [0. 0. 0. 0. 1.]] \n",
      "\n"
     ]
    }
   ],
   "source": [
    "# will print an array of all zeros\n",
    "print(np.zeros((2, 3)), \"\\n\")\n",
    "\n",
    "# will print an array of all ones\n",
    "print(np.ones((2, 2)), \"\\n\")\n",
    "\n",
    "# will print a constant array\n",
    "print(np.full(shape=(3, 3), fill_value=9999), \"\\n\")\n",
    "\n",
    "# will print an identity matrix of provided order\n",
    "print(np.eye(5), \"\\n\")"
   ]
  },
  {
   "cell_type": "code",
   "execution_count": 19,
   "metadata": {},
   "outputs": [
    {
     "name": "stdout",
     "output_type": "stream",
     "text": [
      "[3.         3.00014493 3.00028986 3.00043478 3.00057971 3.00072464\n",
      " 3.00086957 3.00101449 3.00115942 3.00130435 3.00144928 3.0015942\n",
      " 3.00173913 3.00188406 3.00202899 3.00217391 3.00231884 3.00246377\n",
      " 3.0026087  3.00275362 3.00289855 3.00304348 3.00318841 3.00333333\n",
      " 3.00347826 3.00362319 3.00376812 3.00391304 3.00405797 3.0042029\n",
      " 3.00434783 3.00449275 3.00463768 3.00478261 3.00492754 3.00507246\n",
      " 3.00521739 3.00536232 3.00550725 3.00565217 3.0057971  3.00594203\n",
      " 3.00608696 3.00623188 3.00637681 3.00652174 3.00666667 3.00681159\n",
      " 3.00695652 3.00710145 3.00724638 3.0073913  3.00753623 3.00768116\n",
      " 3.00782609 3.00797101 3.00811594 3.00826087 3.0084058  3.00855072\n",
      " 3.00869565 3.00884058 3.00898551 3.00913043 3.00927536 3.00942029\n",
      " 3.00956522 3.00971014 3.00985507 3.01      ]\n"
     ]
    }
   ],
   "source": [
    "\"\"\"linspace() will create arrays with a specified number of elements, and spaced \n",
    "equally between the specified beginning and end values. \n",
    "For example: \"\"\"\n",
    "\n",
    "print(np.linspace(3, 3.01, 70))"
   ]
  },
  {
   "cell_type": "code",
   "execution_count": 20,
   "metadata": {},
   "outputs": [
    {
     "data": {
      "text/plain": [
       "3.141592653589793"
      ]
     },
     "execution_count": 20,
     "metadata": {},
     "output_type": "execute_result"
    }
   ],
   "source": [
    "np.pi"
   ]
  },
  {
   "cell_type": "code",
   "execution_count": 24,
   "metadata": {
    "colab": {
     "base_uri": "https://localhost:8080/"
    },
    "executionInfo": {
     "elapsed": 4336,
     "status": "ok",
     "timestamp": 1627453476902,
     "user": {
      "displayName": "Harshal Bhoir",
      "photoUrl": "https://lh3.googleusercontent.com/a-/AOh14Ggq_SPAuZV5Npa4283PISgrbXLDsZv279JbeYpZuQ=s64",
      "userId": "09894001979294404483"
     },
     "user_tz": -330
    },
    "id": "JqpaCJBpbe6t",
    "outputId": "82ed3fdb-2145-4fc5-f5d6-2acd1645fd93"
   },
   "outputs": [
    {
     "name": "stdout",
     "output_type": "stream",
     "text": [
      "[ 0.          0.15786898  0.31573796  0.47360693  0.63147591  0.78934489\n",
      "  0.94721387  1.10508284  1.26295182  1.4208208   1.57868978  1.73655875\n",
      "  1.89442773  2.05229671  2.21016569  2.36803466  2.52590364  2.68377262\n",
      "  2.8416416   2.99951057  3.15737955  3.31524853  3.47311751  3.63098648\n",
      "  3.78885546  3.94672444  4.10459342  4.26246239  4.42033137  4.57820035\n",
      "  4.73606933  4.8939383   5.05180728  5.20967626  5.36754524  5.52541421\n",
      "  5.68328319  5.84115217  5.99902115  6.15689013  6.3147591   6.47262808\n",
      "  6.63049706  6.78836604  6.94623501  7.10410399  7.26197297  7.41984195\n",
      "  7.57771092  7.7355799   7.89344888  8.05131786  8.20918683  8.36705581\n",
      "  8.52492479  8.68279377  8.84066274  8.99853172  9.1564007   9.31426968\n",
      "  9.47213865  9.63000763  9.78787661  9.94574559 10.10361456 10.26148354\n",
      " 10.41935252 10.5772215  10.73509047 10.89295945 11.05082843 11.20869741\n",
      " 11.36656638 11.52443536 11.68230434 11.84017332 11.9980423  12.15591127\n",
      " 12.31378025 12.47164923 12.62951821 12.78738718 12.94525616 13.10312514\n",
      " 13.26099412 13.41886309 13.57673207 13.73460105 13.89247003 14.050339\n",
      " 14.20820798 14.36607696 14.52394594 14.68181491 14.83968389 14.99755287\n",
      " 15.15542185 15.31329082 15.4711598  15.62902878 15.78689776 15.94476673\n",
      " 16.10263571 16.26050469 16.41837367 16.57624264 16.73411162 16.8919806\n",
      " 17.04984958 17.20771855 17.36558753 17.52345651 17.68132549 17.83919447\n",
      " 17.99706344 18.15493242 18.3128014  18.47067038 18.62853935 18.78640833\n",
      " 18.94427731 19.10214629 19.26001526 19.41788424 19.57575322 19.7336222\n",
      " 19.89149117 20.04936015 20.20722913 20.36509811 20.52296708 20.68083606\n",
      " 20.83870504 20.99657402 21.15444299 21.31231197 21.47018095 21.62804993\n",
      " 21.7859189  21.94378788 22.10165686 22.25952584 22.41739481 22.57526379\n",
      " 22.73313277 22.89100175 23.04887072 23.2067397  23.36460868 23.52247766\n",
      " 23.68034664 23.83821561 23.99608459 24.15395357 24.31182255 24.46969152\n",
      " 24.6275605  24.78542948 24.94329846 25.10116743 25.25903641 25.41690539\n",
      " 25.57477437 25.73264334 25.89051232 26.0483813  26.20625028 26.36411925\n",
      " 26.52198823 26.67985721 26.83772619 26.99559516 27.15346414 27.31133312\n",
      " 27.4692021  27.62707107 27.78494005 27.94280903 28.10067801 28.25854698\n",
      " 28.41641596 28.57428494 28.73215392 28.89002289 29.04789187 29.20576085\n",
      " 29.36362983 29.52149881 29.67936778 29.83723676 29.99510574 30.15297472\n",
      " 30.31084369 30.46871267 30.62658165 30.78445063 30.9423196  31.10018858\n",
      " 31.25805756 31.41592654]\n",
      "\n",
      "[ 0.00000000e+00  1.57214043e-01  3.10518032e-01  4.56099159e-01\n",
      "  5.90336692e-01  7.09892022e-01  8.11791702e-01  8.93501396e-01\n",
      "  9.52988909e-01  9.88774735e-01  9.99968847e-01  9.86292838e-01\n",
      "  9.48086844e-01  8.86301080e-01  8.02472214e-01  6.98685146e-01\n",
      "  5.77521152e-01  4.41993691e-01  2.95473450e-01  1.41604519e-01\n",
      " -1.57862420e-02 -1.72784385e-01 -3.25485227e-01 -4.70090958e-01\n",
      " -6.03005107e-01 -7.20921979e-01 -8.20908875e-01 -9.00479032e-01\n",
      " -9.57653470e-01 -9.91010207e-01 -9.99719634e-01 -9.83565137e-01\n",
      " -9.42948495e-01 -8.78879879e-01 -7.92952733e-01 -6.87304143e-01\n",
      " -5.64561683e-01 -4.27778068e-01 -2.80355229e-01 -1.25959705e-01\n",
      "  3.15685498e-02  1.88311666e-01  3.40371303e-01  4.83965601e-01\n",
      "  6.15523241e-01  7.31772266e-01  8.29821460e-01  9.07232251e-01\n",
      "  9.62079363e-01  9.92998700e-01  9.99221269e-01  9.80592311e-01\n",
      "  9.37575144e-01  8.71239643e-01  7.83235632e-01  6.75751849e-01\n",
      "  5.51461512e-01  4.13455834e-01  2.65167138e-01  1.10283499e-01\n",
      " -4.73429900e-02 -2.03792016e-01 -3.55172553e-01 -4.97719629e-01\n",
      " -6.27887973e-01 -7.42440181e-01 -8.38527236e-01 -9.13759368e-01\n",
      " -9.66265486e-01 -9.94739716e-01 -9.98473878e-01 -9.77375101e-01\n",
      " -9.31968129e-01 -8.63382275e-01 -7.73323331e-01 -6.64031143e-01\n",
      " -5.38223906e-01 -3.99030558e-01 -2.49912962e-01 -9.45798078e-02\n",
      "  6.31056313e-02  2.19221577e-01  3.69885285e-01  5.11349616e-01\n",
      "  6.40096223e-01  7.52923064e-01  8.47024034e-01  9.20058757e-01\n",
      "  9.70210796e-01  9.96232822e-01  9.97477646e-01  9.73914308e-01\n",
      "  9.26128849e-01  8.55309735e-01  7.63218303e-01  6.52144947e-01\n",
      "  5.24852163e-01  3.84505835e-01  2.34596503e-01  7.88525454e-02\n",
      " -7.88525454e-02 -2.34596503e-01 -3.84505835e-01 -5.24852163e-01\n",
      " -6.52144947e-01 -7.63218303e-01 -8.55309735e-01 -9.26128849e-01\n",
      " -9.73914308e-01 -9.97477646e-01 -9.96232822e-01 -9.70210796e-01\n",
      " -9.20058757e-01 -8.47024034e-01 -7.52923064e-01 -6.40096223e-01\n",
      " -5.11349616e-01 -3.69885285e-01 -2.19221577e-01 -6.31056313e-02\n",
      "  9.45798078e-02  2.49912962e-01  3.99030558e-01  5.38223906e-01\n",
      "  6.64031143e-01  7.73323331e-01  8.63382275e-01  9.31968129e-01\n",
      "  9.77375101e-01  9.98473878e-01  9.94739716e-01  9.66265486e-01\n",
      "  9.13759368e-01  8.38527236e-01  7.42440181e-01  6.27887973e-01\n",
      "  4.97719629e-01  3.55172553e-01  2.03792016e-01  4.73429900e-02\n",
      " -1.10283499e-01 -2.65167138e-01 -4.13455834e-01 -5.51461512e-01\n",
      " -6.75751849e-01 -7.83235632e-01 -8.71239643e-01 -9.37575144e-01\n",
      " -9.80592311e-01 -9.99221269e-01 -9.92998700e-01 -9.62079363e-01\n",
      " -9.07232251e-01 -8.29821460e-01 -7.31772266e-01 -6.15523241e-01\n",
      " -4.83965601e-01 -3.40371303e-01 -1.88311666e-01 -3.15685498e-02\n",
      "  1.25959705e-01  2.80355229e-01  4.27778068e-01  5.64561683e-01\n",
      "  6.87304143e-01  7.92952733e-01  8.78879879e-01  9.42948495e-01\n",
      "  9.83565137e-01  9.99719634e-01  9.91010207e-01  9.57653470e-01\n",
      "  9.00479032e-01  8.20908875e-01  7.20921979e-01  6.03005107e-01\n",
      "  4.70090958e-01  3.25485227e-01  1.72784385e-01  1.57862420e-02\n",
      " -1.41604519e-01 -2.95473450e-01 -4.41993691e-01 -5.77521152e-01\n",
      " -6.98685146e-01 -8.02472214e-01 -8.86301080e-01 -9.48086844e-01\n",
      " -9.86292838e-01 -9.99968847e-01 -9.88774735e-01 -9.52988909e-01\n",
      " -8.93501396e-01 -8.11791702e-01 -7.09892022e-01 -5.90336692e-01\n",
      " -4.56099159e-01 -3.10518032e-01 -1.57214043e-01 -1.22464680e-15]\n",
      "\n",
      "[ 1.          0.98756455  0.95056749  0.88992896  0.8071571   0.70431053\n",
      "  0.58394711  0.44906041  0.30300518  0.14941394 -0.00789337 -0.16500435\n",
      " -0.31801154 -0.46310949 -0.59668949 -0.71542929 -0.81637572 -0.89701816\n",
      " -0.95535095 -0.98992331 -0.99987539 -0.98495967 -0.94554713 -0.88261798\n",
      " -0.79773733 -0.69301623 -0.57105921 -0.43489943 -0.28792331 -0.13378628\n",
      "  0.02367813  0.18055365  0.33293864  0.47704314  0.60928316  0.72636975\n",
      "  0.82539088  0.9038838   0.95989632  0.99203536  0.99950159  0.98210932\n",
      "  0.94029111  0.87508702  0.78811873  0.68154923  0.55802898  0.42063005\n",
      "  0.27276968  0.11812528 -0.039457   -0.19605795 -0.34778276 -0.49085791\n",
      " -0.62172498 -0.73712919 -0.83420034 -0.91052418 -0.96420246 -0.99390017\n",
      " -0.99887869 -0.97901421 -0.93480076 -0.86733798 -0.77830373 -0.66991237\n",
      " -0.54485968 -0.40625585 -0.25754807 -0.10243484  0.05522603  0.21151339\n",
      "  0.36254021  0.50455034  0.63401185  0.74770492  0.84280189  0.91693763\n",
      "  0.96826831  0.99551728  0.99800685  0.9756751   0.92907743  0.85937278\n",
      "  0.76829475  0.65810855  0.53155459  0.3917804   0.24226228  0.08671888\n",
      " -0.0709813  -0.22691611 -0.37720731 -0.51811703 -0.64614071 -0.7580943\n",
      " -0.8511934  -0.92312256 -0.97209284 -0.99688629 -0.99688629 -0.97209284\n",
      " -0.92312256 -0.8511934  -0.7580943  -0.64614071 -0.51811703 -0.37720731\n",
      " -0.22691611 -0.0709813   0.08671888  0.24226228  0.3917804   0.53155459\n",
      "  0.65810855  0.76829475  0.85937278  0.92907743  0.9756751   0.99800685\n",
      "  0.99551728  0.96826831  0.91693763  0.84280189  0.74770492  0.63401185\n",
      "  0.50455034  0.36254021  0.21151339  0.05522603 -0.10243484 -0.25754807\n",
      " -0.40625585 -0.54485968 -0.66991237 -0.77830373 -0.86733798 -0.93480076\n",
      " -0.97901421 -0.99887869 -0.99390017 -0.96420246 -0.91052418 -0.83420034\n",
      " -0.73712919 -0.62172498 -0.49085791 -0.34778276 -0.19605795 -0.039457\n",
      "  0.11812528  0.27276968  0.42063005  0.55802898  0.68154923  0.78811873\n",
      "  0.87508702  0.94029111  0.98210932  0.99950159  0.99203536  0.95989632\n",
      "  0.9038838   0.82539088  0.72636975  0.60928316  0.47704314  0.33293864\n",
      "  0.18055365  0.02367813 -0.13378628 -0.28792331 -0.43489943 -0.57105921\n",
      " -0.69301623 -0.79773733 -0.88261798 -0.94554713 -0.98495967 -0.99987539\n",
      " -0.98992331 -0.95535095 -0.89701816 -0.81637572 -0.71542929 -0.59668949\n",
      " -0.46310949 -0.31801154 -0.16500435 -0.00789337  0.14941394  0.30300518\n",
      "  0.44906041  0.58394711  0.70431053  0.8071571   0.88992896  0.95056749\n",
      "  0.98756455  1.        ]\n",
      "\n",
      "[ 0.00000000e+00  1.59193688e-01  3.26665950e-01  5.12511873e-01\n",
      "  7.31377682e-01  1.00792477e+00  1.39018018e+00  1.98971311e+00\n",
      "  3.14512415e+00  6.61768749e+00 -1.26684704e+02 -5.97737460e+00\n",
      " -2.98129701e+00 -1.91380463e+00 -1.34487406e+00 -9.76595671e-01\n",
      " -7.07420783e-01 -4.92736614e-01 -3.09282625e-01 -1.43045949e-01\n",
      "  1.57882094e-02  1.75422802e-01  3.44229513e-01  5.32609772e-01\n",
      "  7.55894312e-01  1.04026709e+00  1.43751972e+00  2.07054545e+00\n",
      "  3.32607135e+00  7.40741283e+00 -4.22212178e+01 -5.44749515e+00\n",
      " -2.83219906e+00 -1.84234884e+00 -1.30145192e+00 -9.46218013e-01\n",
      " -6.83993118e-01 -4.73266660e-01 -2.92068240e-01 -1.26970983e-01\n",
      "  3.15842917e-02  1.91742062e-01  3.61985027e-01  5.53048541e-01\n",
      "  7.81003184e-01  1.07368952e+00  1.48705800e+00  2.15684125e+00\n",
      "  3.52707588e+00  8.40631813e+00 -2.53243098e+01 -5.00154324e+00\n",
      " -2.69586433e+00 -1.77493248e+00 -1.25977830e+00 -9.16734624e-01\n",
      " -6.61066039e-01 -4.54085509e-01 -2.75011887e-01 -1.10960338e-01\n",
      "  4.73961356e-02  2.08160428e-01  3.79944656e-01  5.73847383e-01\n",
      "  8.06739003e-01  1.10826463e+00  1.53897831e+00  2.24922143e+00\n",
      "  3.75178689e+00  9.71095061e+00 -1.80797689e+01 -4.62086641e+00\n",
      " -2.57066139e+00 -1.71119154e+00 -1.21973009e+00 -8.88092520e-01\n",
      " -6.38612599e-01 -4.35177427e-01 -2.58103008e-01 -9.50056915e-02\n",
      "  6.32316613e-02  2.24687067e-01  3.98121053e-01  5.95026546e-01\n",
      "  8.33138872e-01  1.14407124e+00  1.59348455e+00  2.34840424e+00\n",
      "  4.00479512e+00  1.14880732e+01 -1.40526822e+01 -4.29195755e+00\n",
      " -2.45522507e+00 -1.65080413e+00 -1.18119519e+00 -8.60242515e-01\n",
      " -6.16607415e-01 -4.16527394e-01 -2.41331377e-01 -7.90988362e-02\n",
      "  7.90988362e-02  2.41331377e-01  4.16527394e-01  6.16607415e-01\n",
      "  8.60242515e-01  1.18119519e+00  1.65080413e+00  2.45522507e+00\n",
      "  4.29195755e+00  1.40526822e+01 -1.14880732e+01 -4.00479512e+00\n",
      " -2.34840424e+00 -1.59348455e+00 -1.14407124e+00 -8.33138872e-01\n",
      " -5.95026546e-01 -3.98121053e-01 -2.24687067e-01 -6.32316613e-02\n",
      "  9.50056915e-02  2.58103008e-01  4.35177427e-01  6.38612599e-01\n",
      "  8.88092520e-01  1.21973009e+00  1.71119154e+00  2.57066139e+00\n",
      "  4.62086641e+00  1.80797689e+01 -9.71095061e+00 -3.75178689e+00\n",
      " -2.24922143e+00 -1.53897831e+00 -1.10826463e+00 -8.06739003e-01\n",
      " -5.73847383e-01 -3.79944656e-01 -2.08160428e-01 -4.73961356e-02\n",
      "  1.10960338e-01  2.75011887e-01  4.54085509e-01  6.61066039e-01\n",
      "  9.16734624e-01  1.25977830e+00  1.77493248e+00  2.69586433e+00\n",
      "  5.00154324e+00  2.53243098e+01 -8.40631813e+00 -3.52707588e+00\n",
      " -2.15684125e+00 -1.48705800e+00 -1.07368952e+00 -7.81003184e-01\n",
      " -5.53048541e-01 -3.61985027e-01 -1.91742062e-01 -3.15842917e-02\n",
      "  1.26970983e-01  2.92068240e-01  4.73266660e-01  6.83993118e-01\n",
      "  9.46218013e-01  1.30145192e+00  1.84234884e+00  2.83219906e+00\n",
      "  5.44749515e+00  4.22212178e+01 -7.40741283e+00 -3.32607135e+00\n",
      " -2.07054545e+00 -1.43751972e+00 -1.04026709e+00 -7.55894312e-01\n",
      " -5.32609772e-01 -3.44229513e-01 -1.75422802e-01 -1.57882094e-02\n",
      "  1.43045949e-01  3.09282625e-01  4.92736614e-01  7.07420783e-01\n",
      "  9.76595671e-01  1.34487406e+00  1.91380463e+00  2.98129701e+00\n",
      "  5.97737460e+00  1.26684704e+02 -6.61768749e+00 -3.14512415e+00\n",
      " -1.98971311e+00 -1.39018018e+00 -1.00792477e+00 -7.31377682e-01\n",
      " -5.12511873e-01 -3.26665950e-01 -1.59193688e-01 -1.22464680e-15]\n"
     ]
    }
   ],
   "source": [
    "# you can even perform trigonometry on set of values\n",
    "# trigonometry funtion accepts angle in radians {2 pi = 360 deg}\n",
    "\n",
    "vals = np.linspace(0, 10 * np.pi, 200)\n",
    "print(vals)\n",
    "print()\n",
    "print(np.sin(vals))\n",
    "print()\n",
    "print(np.cos(vals))\n",
    "print()\n",
    "print(np.tan(vals))"
   ]
  },
  {
   "cell_type": "code",
   "execution_count": 26,
   "metadata": {},
   "outputs": [],
   "source": [
    "# import matplotlib.pyplot as plt\n",
    "\n",
    "# plt.plot(vals, np.sin(vals), label=\"sin\")\n",
    "# plt.plot(vals, np.cos(vals), label=\"cos\")\n",
    "# plt.plot(vals, np.tan(vals), label=\"tan\")\n",
    "# plt.legend()"
   ]
  },
  {
   "cell_type": "code",
   "execution_count": 30,
   "metadata": {},
   "outputs": [],
   "source": [
    "# from PIL import Image\n",
    "\n",
    "# Image.fromarray(np.full((100, 100), fill_value=120, dtype=np.uint8))"
   ]
  },
  {
   "cell_type": "markdown",
   "metadata": {
    "id": "voo3KvVVcUZH"
   },
   "source": [
    "## **Random Numbers in NumPy**\n",
    "\n",
    "### **What is a Random Number?**\n",
    "\n",
    "Random number does NOT mean a different number every time. Random means something that can not be predicted logically.\n",
    "\n",
    "### **Pseudo Random and True Random**\n",
    "\n",
    "Computers work on programs, and programs are definitive set of instructions. So it means there must be some algorithm to generate a random number as well. If there is a program to generate random number it can be predicted, thus it is not truly random.\n",
    "\n",
    "Random numbers generated through a generation algorithm are called pseudo random.\n",
    "\n",
    "### **Can we make truly random numbers?**\n",
    "\n",
    "**Yes**. In order to generate a truly random number on our computers we need to get the random data from some outside source. This outside source is generally our **keystrokes, mouse movements, data on network etc**.\n",
    "\n",
    "We do not need truly random numbers, unless its related to security (e.g. encryption keys) or the basis of application is the randomness (e.g. Digital roulette wheels).\n"
   ]
  },
  {
   "cell_type": "markdown",
   "metadata": {
    "id": "GvD-9-bIdoYX"
   },
   "source": [
    "### **Generate Random Number**\n",
    "\n",
    "NumPy offers the **random modul**e to work with random numbers.\n",
    "\n",
    "**1. Generate a random integer from 0 to 100:**\n"
   ]
  },
  {
   "cell_type": "code",
   "execution_count": 22,
   "metadata": {
    "colab": {
     "base_uri": "https://localhost:8080/"
    },
    "executionInfo": {
     "elapsed": 209,
     "status": "ok",
     "timestamp": 1624282389007,
     "user": {
      "displayName": "JKB Education Group",
      "photoUrl": "https://lh3.googleusercontent.com/a-/AOh14GgVDrkOo8zlABzYRCOJhHRgcLuJkkBySrHWd8n5sQ=s64",
      "userId": "04362346289210947166"
     },
     "user_tz": -330
    },
    "id": "r46BAiMvdz1G",
    "outputId": "2a0ae25a-94a1-469c-f6fd-b3acc56be14f"
   },
   "outputs": [
    {
     "name": "stdout",
     "output_type": "stream",
     "text": [
      "992\n"
     ]
    }
   ],
   "source": [
    "# everything is pseudo random\n",
    "from numpy import random\n",
    "\n",
    "x = random.randint(900, 1000)\n",
    "\n",
    "print(x)"
   ]
  },
  {
   "cell_type": "markdown",
   "metadata": {
    "id": "v2nI2u4jd0Ad"
   },
   "source": [
    "**2. The random module's rand() method returns a random float between 0 and 1.**\n"
   ]
  },
  {
   "cell_type": "code",
   "execution_count": 23,
   "metadata": {
    "colab": {
     "base_uri": "https://localhost:8080/"
    },
    "executionInfo": {
     "elapsed": 205,
     "status": "ok",
     "timestamp": 1624282389008,
     "user": {
      "displayName": "JKB Education Group",
      "photoUrl": "https://lh3.googleusercontent.com/a-/AOh14GgVDrkOo8zlABzYRCOJhHRgcLuJkkBySrHWd8n5sQ=s64",
      "userId": "04362346289210947166"
     },
     "user_tz": -330
    },
    "id": "M_Vqxj4Qd0H1",
    "outputId": "60793097-12fe-42ed-9f2e-48cee0aaedcb"
   },
   "outputs": [
    {
     "name": "stdout",
     "output_type": "stream",
     "text": [
      "[[ 0.14416274 -0.01197786  0.70727972  0.46736814]\n",
      " [ 0.23473322 -0.52345685 -0.6854665  -0.83818759]\n",
      " [ 0.04522576 -0.02190861 -1.59632689  1.08070878]] float64\n"
     ]
    }
   ],
   "source": [
    "from numpy import random\n",
    "\n",
    "x = random.randn(3, 4)\n",
    "y = x.astype(np.float16)\n",
    "\n",
    "print(x, x.dtype)"
   ]
  },
  {
   "cell_type": "markdown",
   "metadata": {
    "id": "pZxHjwuPd0OF"
   },
   "source": [
    "### **Generate Random Array**\n",
    "\n",
    "In NumPy we work with arrays, and you can use the two methods from the above examples to make random arrays.\n",
    "\n",
    "**Integers**\n",
    "\n",
    "The **randint()** method takes a **size** parameter where you can specify the shape of an array.\n"
   ]
  },
  {
   "cell_type": "code",
   "execution_count": 24,
   "metadata": {
    "colab": {
     "base_uri": "https://localhost:8080/"
    },
    "executionInfo": {
     "elapsed": 202,
     "status": "ok",
     "timestamp": 1624282389009,
     "user": {
      "displayName": "JKB Education Group",
      "photoUrl": "https://lh3.googleusercontent.com/a-/AOh14GgVDrkOo8zlABzYRCOJhHRgcLuJkkBySrHWd8n5sQ=s64",
      "userId": "04362346289210947166"
     },
     "user_tz": -330
    },
    "id": "bVCip5Tad0Ux",
    "outputId": "c1736ae5-863b-4f00-c0d9-9c54671508c6"
   },
   "outputs": [
    {
     "name": "stdout",
     "output_type": "stream",
     "text": [
      "[[845 906  28]\n",
      " [852 317 707]\n",
      " [770  37 262]\n",
      " [866 610  33]\n",
      " [226 309 221]] 2 (5, 3)\n"
     ]
    }
   ],
   "source": [
    "from numpy import random\n",
    "\n",
    "x = random.randint(1000, size=(5, 3))\n",
    "\n",
    "print(x, x.ndim, x.shape)"
   ]
  },
  {
   "cell_type": "markdown",
   "metadata": {
    "id": "XhZQxbZyd0bY"
   },
   "source": [
    "**Generate a 2-D array with 3 rows, each row containing 5 random integers from 0 to 100:**\n"
   ]
  },
  {
   "cell_type": "code",
   "execution_count": 54,
   "metadata": {
    "colab": {
     "base_uri": "https://localhost:8080/"
    },
    "executionInfo": {
     "elapsed": 198,
     "status": "ok",
     "timestamp": 1624282389010,
     "user": {
      "displayName": "JKB Education Group",
      "photoUrl": "https://lh3.googleusercontent.com/a-/AOh14GgVDrkOo8zlABzYRCOJhHRgcLuJkkBySrHWd8n5sQ=s64",
      "userId": "04362346289210947166"
     },
     "user_tz": -330
    },
    "id": "ZsJOwheId0g-",
    "outputId": "7c4470df-f565-4a79-cf51-1dd4770c9101"
   },
   "outputs": [
    {
     "name": "stdout",
     "output_type": "stream",
     "text": [
      "[[54 75 36 20 56]\n",
      " [51 85  4 19 62]\n",
      " [89 11 18 99 55]]\n"
     ]
    }
   ],
   "source": [
    "from numpy import random\n",
    "\n",
    "x = random.randint(100, size=(3, 5))\n",
    "\n",
    "print(x)"
   ]
  },
  {
   "cell_type": "markdown",
   "metadata": {
    "id": "iJnuy0Lbek9S"
   },
   "source": [
    "**Floats**\n",
    "\n",
    "The **rand()** method also allows you to specify the shape of the array.\n",
    "\n",
    "**Generate a 1-D array containing 5 random floats:**\n"
   ]
  },
  {
   "cell_type": "code",
   "execution_count": 65,
   "metadata": {
    "colab": {
     "base_uri": "https://localhost:8080/"
    },
    "executionInfo": {
     "elapsed": 194,
     "status": "ok",
     "timestamp": 1624282389010,
     "user": {
      "displayName": "JKB Education Group",
      "photoUrl": "https://lh3.googleusercontent.com/a-/AOh14GgVDrkOo8zlABzYRCOJhHRgcLuJkkBySrHWd8n5sQ=s64",
      "userId": "04362346289210947166"
     },
     "user_tz": -330
    },
    "id": "uiKGRhS_elFA",
    "outputId": "50952c93-e0f2-43f5-9bfe-e0003031b137"
   },
   "outputs": [
    {
     "name": "stdout",
     "output_type": "stream",
     "text": [
      "[[0.79148038 0.04326693 0.33904778]\n",
      " [0.99509356 0.39690945 0.92941587]\n",
      " [0.00448856 0.52005001 0.60526339]\n",
      " [0.75054312 0.38205185 0.01012318]\n",
      " [0.28113173 0.60482237 0.22623092]]\n"
     ]
    }
   ],
   "source": [
    "from numpy import random\n",
    "\n",
    "x = random.rand(5, 3)\n",
    "\n",
    "print(x)"
   ]
  },
  {
   "cell_type": "markdown",
   "metadata": {
    "id": "TSzJ7IPAelL2"
   },
   "source": [
    "**Generate a 2-D array with 3 rows, each row containing 5 random numbers:**\n"
   ]
  },
  {
   "cell_type": "code",
   "execution_count": 66,
   "metadata": {
    "colab": {
     "base_uri": "https://localhost:8080/"
    },
    "executionInfo": {
     "elapsed": 193,
     "status": "ok",
     "timestamp": 1624282389012,
     "user": {
      "displayName": "JKB Education Group",
      "photoUrl": "https://lh3.googleusercontent.com/a-/AOh14GgVDrkOo8zlABzYRCOJhHRgcLuJkkBySrHWd8n5sQ=s64",
      "userId": "04362346289210947166"
     },
     "user_tz": -330
    },
    "id": "nav87ZkgelRi",
    "outputId": "300d4062-2e89-4e32-944c-7bf88c225b4c"
   },
   "outputs": [
    {
     "name": "stdout",
     "output_type": "stream",
     "text": [
      "[[0.24302219 0.6659257  0.75206741 0.8948992  0.12993945]\n",
      " [0.98791221 0.69304124 0.25194538 0.8430505  0.09999859]\n",
      " [0.52574364 0.84938856 0.7790512  0.25594738 0.49807913]] (3, 5)\n"
     ]
    }
   ],
   "source": [
    "from numpy import random\n",
    "\n",
    "x = random.rand(3, 5)\n",
    "\n",
    "print(x, x.shape)"
   ]
  },
  {
   "cell_type": "markdown",
   "metadata": {
    "id": "ktVmAOpce81t"
   },
   "source": [
    "### **Generate Random Number From Array**\n",
    "\n",
    "The **choice()** method allows you to generate a random value based on an array of values.\n",
    "\n",
    "The **choice()** method takes an array as a parameter and randomly returns one of the values.\n"
   ]
  },
  {
   "cell_type": "code",
   "execution_count": 82,
   "metadata": {},
   "outputs": [
    {
     "data": {
      "text/plain": [
       "1"
      ]
     },
     "execution_count": 82,
     "metadata": {},
     "output_type": "execute_result"
    }
   ],
   "source": [
    "import random\n",
    "\n",
    "random.choice([1, 2, 3])"
   ]
  },
  {
   "cell_type": "code",
   "execution_count": 83,
   "metadata": {
    "colab": {
     "base_uri": "https://localhost:8080/"
    },
    "executionInfo": {
     "elapsed": 190,
     "status": "ok",
     "timestamp": 1624282389013,
     "user": {
      "displayName": "JKB Education Group",
      "photoUrl": "https://lh3.googleusercontent.com/a-/AOh14GgVDrkOo8zlABzYRCOJhHRgcLuJkkBySrHWd8n5sQ=s64",
      "userId": "04362346289210947166"
     },
     "user_tz": -330
    },
    "id": "Y3fUXSXle88R",
    "outputId": "cf5606f4-8934-4b61-c5fa-a8de3f9ff326"
   },
   "outputs": [
    {
     "name": "stdout",
     "output_type": "stream",
     "text": [
      "9\n"
     ]
    }
   ],
   "source": [
    "from numpy import random\n",
    "\n",
    "x = random.choice([3, 5, 7, 9, 6373])\n",
    "\n",
    "print(x)"
   ]
  },
  {
   "cell_type": "markdown",
   "metadata": {
    "id": "6kqhx1oie9Ck"
   },
   "source": [
    "The choice() method also allows you to return an array of values. Add a **size** parameter to specify the shape of the array.\n",
    "\n",
    "**Generate a 2-D array that consists of the values in the array parameter (3, 5, 7, and 9):**\n"
   ]
  },
  {
   "cell_type": "code",
   "execution_count": 86,
   "metadata": {
    "colab": {
     "base_uri": "https://localhost:8080/"
    },
    "executionInfo": {
     "elapsed": 188,
     "status": "ok",
     "timestamp": 1624282389015,
     "user": {
      "displayName": "JKB Education Group",
      "photoUrl": "https://lh3.googleusercontent.com/a-/AOh14GgVDrkOo8zlABzYRCOJhHRgcLuJkkBySrHWd8n5sQ=s64",
      "userId": "04362346289210947166"
     },
     "user_tz": -330
    },
    "id": "7eUs9fH2e9Ix",
    "outputId": "b2dff981-ef80-43b5-b481-320b4cda7cdd"
   },
   "outputs": [
    {
     "name": "stdout",
     "output_type": "stream",
     "text": [
      "[[[   5    9 1002]\n",
      "  [1002    5    9]]\n",
      "\n",
      " [[   9 1002    7]\n",
      "  [   9   87    3]]\n",
      "\n",
      " [[   5    7 1002]\n",
      "  [   7    9 1002]]]\n"
     ]
    }
   ],
   "source": [
    "from numpy import random\n",
    "\n",
    "x = random.choice([3, 5, 7, 9, 87, 1002], size=(3, 2, 3))\n",
    "\n",
    "print(x)"
   ]
  },
  {
   "cell_type": "code",
   "execution_count": 91,
   "metadata": {},
   "outputs": [
    {
     "data": {
      "text/plain": [
       "[1, 2, 3]"
      ]
     },
     "execution_count": 91,
     "metadata": {},
     "output_type": "execute_result"
    }
   ],
   "source": [
    "x = [1, 2, 3, 4, 5]\n",
    "x[0:3]"
   ]
  },
  {
   "cell_type": "markdown",
   "metadata": {
    "id": "3oF1nqIcfp2W"
   },
   "source": [
    "### **NumPy Array Indexing**\n",
    "\n",
    "Numpy offers several ways to index into arrays.\n"
   ]
  },
  {
   "cell_type": "code",
   "execution_count": null,
   "metadata": {},
   "outputs": [],
   "source": [
    "# slicing operator - :"
   ]
  },
  {
   "cell_type": "code",
   "execution_count": 90,
   "metadata": {
    "scrolled": true
   },
   "outputs": [
    {
     "name": "stdout",
     "output_type": "stream",
     "text": [
      "[3, 45, 56]\n"
     ]
    }
   ],
   "source": [
    "my_lst = [1, 3, 45, 56, 54]\n",
    "print(my_lst[1:-1])"
   ]
  },
  {
   "cell_type": "code",
   "execution_count": 97,
   "metadata": {
    "colab": {
     "base_uri": "https://localhost:8080/"
    },
    "executionInfo": {
     "elapsed": 187,
     "status": "ok",
     "timestamp": 1624282389017,
     "user": {
      "displayName": "JKB Education Group",
      "photoUrl": "https://lh3.googleusercontent.com/a-/AOh14GgVDrkOo8zlABzYRCOJhHRgcLuJkkBySrHWd8n5sQ=s64",
      "userId": "04362346289210947166"
     },
     "user_tz": -330
    },
    "id": "UCn87tJYfqAF",
    "outputId": "f7161fe3-1fce-4043-9675-498ea010cda5"
   },
   "outputs": [
    {
     "name": "stdout",
     "output_type": "stream",
     "text": [
      "<class 'numpy.ndarray'>\n",
      "[[23 45 67 78]\n",
      " [34 56 89 90]\n",
      " [23 24 45 68]] \n",
      "\n",
      "23\n",
      "23 45 67 78 34 56 89 90 23 24 45 68 "
     ]
    }
   ],
   "source": [
    "import numpy as np\n",
    "\n",
    "xmat = np.array([[23, 45, 67, 78], [34, 56, 89, 90], [23, 24, 45, 68]])\n",
    "print(type(xmat))  # will get the class name\n",
    "print(xmat, \"\\n\")\n",
    "\n",
    "\n",
    "\"\"\" consider the array as a matrix and think about the \n",
    "first term 23 in terms of\n",
    "x and y position index starting from 0\"\"\"\n",
    "\n",
    "# so to access first term of the matrix we'll write\n",
    "print(xmat[0][0])  # 0th row and 0th column\n",
    "\n",
    "# to access entire matrix let's quickly go through the code below\n",
    "for i in range(0, xmat.shape[0]):\n",
    "    for j in range(0, xmat.shape[1]):\n",
    "        print(xmat[i, j], end=\" \")"
   ]
  },
  {
   "cell_type": "code",
   "execution_count": 99,
   "metadata": {},
   "outputs": [
    {
     "data": {
      "text/plain": [
       "23"
      ]
     },
     "execution_count": 99,
     "metadata": {},
     "output_type": "execute_result"
    }
   ],
   "source": [
    "xmat[0][0]"
   ]
  },
  {
   "cell_type": "markdown",
   "metadata": {
    "id": "xXvEJmIAfqLE"
   },
   "source": [
    "**Slicing:** Similar to Python lists, numpy arrays can be sliced. Since arrays may be multidimensional, you must specify a slice for each dimension of the array:\n"
   ]
  },
  {
   "cell_type": "code",
   "execution_count": 34,
   "metadata": {
    "colab": {
     "base_uri": "https://localhost:8080/"
    },
    "executionInfo": {
     "elapsed": 184,
     "status": "ok",
     "timestamp": 1624282389018,
     "user": {
      "displayName": "JKB Education Group",
      "photoUrl": "https://lh3.googleusercontent.com/a-/AOh14GgVDrkOo8zlABzYRCOJhHRgcLuJkkBySrHWd8n5sQ=s64",
      "userId": "04362346289210947166"
     },
     "user_tz": -330
    },
    "id": "Fb5ehCzsfqTS",
    "outputId": "d70fb895-7ed4-4fb1-b807-69e6104039a6"
   },
   "outputs": [
    {
     "name": "stdout",
     "output_type": "stream",
     "text": [
      "[[23 45 67 78]\n",
      " [34 56 89 90]\n",
      " [23 24 45 68]]\n",
      "\n",
      "[56 89] \n",
      "\n",
      "1\n",
      "[[23 45 67 78]] \n",
      "\n",
      "[[23 45]\n",
      " [34 56]\n",
      " [23 24]]\n"
     ]
    }
   ],
   "source": [
    "import numpy as np\n",
    "\n",
    "xmat = np.array([[23, 45, 67, 78], [34, 56, 89, 90], [23, 24, 45, 68]])\n",
    "\n",
    "print(xmat)\n",
    "\n",
    "print()\n",
    "\n",
    "# to print first two rows and first two columns\n",
    "print(xmat[1, 1:3], \"\\n\")\n",
    "\n",
    "temp = xmat[1, 1:3]\n",
    "print(temp.ndim)\n",
    "\n",
    "# to print entire columns and first row only\n",
    "print(xmat[:1, :], \"\\n\")\n",
    "\n",
    "# to print entire rows and first two columns\n",
    "print(xmat[:, :2])"
   ]
  },
  {
   "cell_type": "markdown",
   "metadata": {
    "id": "-sDZJd7IfqaD"
   },
   "source": [
    "**Note [IMPORTANT]:** You can also mix integer indexing with slice indexing. However, doing so will yield an array of lower rank than the original array.\n"
   ]
  },
  {
   "cell_type": "code",
   "execution_count": 102,
   "metadata": {
    "colab": {
     "base_uri": "https://localhost:8080/"
    },
    "executionInfo": {
     "elapsed": 185,
     "status": "ok",
     "timestamp": 1624282389023,
     "user": {
      "displayName": "JKB Education Group",
      "photoUrl": "https://lh3.googleusercontent.com/a-/AOh14GgVDrkOo8zlABzYRCOJhHRgcLuJkkBySrHWd8n5sQ=s64",
      "userId": "04362346289210947166"
     },
     "user_tz": -330
    },
    "id": "cRcGc0zOfqhK",
    "outputId": "a51806a1-d3aa-4837-de38-a2bf8fa74611"
   },
   "outputs": [
    {
     "name": "stdout",
     "output_type": "stream",
     "text": [
      "original mat =>\n",
      "[[23 45 67 78]\n",
      " [34 56 89 90]\n",
      " [23 24 45 68]]\n",
      "step 2\n",
      "[34 56 89 90]\n",
      "step 3\n",
      "[[34 56 89 90]]\n",
      "(4,)\n",
      "(1, 4)\n"
     ]
    }
   ],
   "source": [
    "import numpy as np\n",
    "\n",
    "xmat = np.array([[23, 45, 67, 78], [34, 56, 89, 90], [23, 24, 45, 68]])\n",
    "print(f\"original mat =>\\n{xmat}\")\n",
    "\n",
    "\"\"\" there is not only one way to get the second row.\n",
    "see the code below\"\"\"\n",
    "\n",
    "print('step 2')\n",
    "print(xmat[1, :])\n",
    "print('step 3')\n",
    "print(xmat[1:2, :])\n",
    "\n",
    "# then what is the difference??\n",
    "# see the output correctly you will get to know\n",
    "# using mixing of integer and slicing as parameter in xmat[]\n",
    "# yields an array of lower rank while using slicing only\n",
    "# will give an array of the same rank as the original matrix.\n",
    "\n",
    "print(xmat[1, :].shape)  # rank = 1\n",
    "print(xmat[1:2, :].shape)  # rank = 2"
   ]
  },
  {
   "cell_type": "markdown",
   "metadata": {
    "id": "pYYpu8oXfqnk"
   },
   "source": [
    "**Integer array indexing:** When you index into numpy arrays using slicing, the resulting array view will always be a subarray of the original array. In contrast, integer array indexing allows you to construct arbitrary arrays using the data from another array. Here is an example:\n"
   ]
  },
  {
   "cell_type": "code",
   "execution_count": 107,
   "metadata": {},
   "outputs": [
    {
     "name": "stdout",
     "output_type": "stream",
     "text": [
      "apple is red\n",
      "mango is oraange\n",
      "banana is yellow\n",
      "----\n",
      "apple is red - ravi\n",
      "mango is oraange - vinayak\n",
      "banana is yellow - hiten\n"
     ]
    }
   ],
   "source": [
    "fruits = ['apple', 'mango', 'banana']\n",
    "colors = ['red', 'oraange', 'yellow', 'violet']\n",
    "names = ['ravi', 'vinayak', 'hiten']\n",
    "for i in range(0, len(fruits)):\n",
    "    print(f'{fruits[i]} is {colors[i]}')\n",
    "    \n",
    "print('----')\n",
    "for fruit, color, name in zip(fruits, colors, names):\n",
    "    print(f'{fruit} is {color} - {name}')"
   ]
  },
  {
   "cell_type": "code",
   "execution_count": 97,
   "metadata": {},
   "outputs": [
    {
     "name": "stdout",
     "output_type": "stream",
     "text": [
      "(1, 1, 2)\n",
      "(2, 4, 3)\n",
      "(3, 9, 4)\n",
      "(3, 4, 5)\n"
     ]
    }
   ],
   "source": [
    "a = [1, 2, 3, 3]\n",
    "b = [1, 4, 9, 4]\n",
    "c = [2, 3, 4, 5, 6]\n",
    "\n",
    "for element in zip(a, b, c):\n",
    "    print(element)"
   ]
  },
  {
   "cell_type": "code",
   "execution_count": 98,
   "metadata": {
    "colab": {
     "base_uri": "https://localhost:8080/"
    },
    "executionInfo": {
     "elapsed": 180,
     "status": "ok",
     "timestamp": 1624282389023,
     "user": {
      "displayName": "JKB Education Group",
      "photoUrl": "https://lh3.googleusercontent.com/a-/AOh14GgVDrkOo8zlABzYRCOJhHRgcLuJkkBySrHWd8n5sQ=s64",
      "userId": "04362346289210947166"
     },
     "user_tz": -330
    },
    "id": "qjbD-djefquR",
    "outputId": "9921588d-54ab-4d4b-ef77-a373e15cf796"
   },
   "outputs": [
    {
     "name": "stdout",
     "output_type": "stream",
     "text": [
      "[[1 4 5]\n",
      " [2 3 6]\n",
      " [4 7 9]]\n",
      "[1 3 9]\n",
      "[1 3 9]\n",
      "[4 4]\n",
      "[4 4]\n"
     ]
    }
   ],
   "source": [
    "import numpy as np\n",
    "\n",
    "a = np.array([[1, 4, 5], [2, 3, 6], [4, 7, 9]])\n",
    "\n",
    "print(a)\n",
    "\n",
    "# this will print the diagonal elements of the matrix\n",
    "\n",
    "print(a[[0, 1, 2], [0, 1, 2]])\n",
    "\n",
    "# The above example of integer array indexing is equivalent to this:\n",
    "print(np.array([a[0, 0], a[1, 1], a[2, 2]]))  # Prints \"[1 3 9]\"\n",
    "\n",
    "# When using integer array indexing, you can reuse the same\n",
    "# element from the source array:\n",
    "print(a[[0, 0], [1, 1]])  # Prints \"[4 4]\"\n",
    "\n",
    "# Equivalent to the previous integer array indexing example\n",
    "print(np.array([a[0, 1], a[0, 1]]))  # Prints \"[4 4]\""
   ]
  },
  {
   "cell_type": "markdown",
   "metadata": {
    "id": "ryBugXSXfq48"
   },
   "source": [
    "### **Array Maths**\n",
    "\n",
    "Basic mathematical functions operate elementwise on arrays, and are available both as operator overloads and as functions in the numpy module:\n"
   ]
  },
  {
   "cell_type": "code",
   "execution_count": 114,
   "metadata": {
    "colab": {
     "base_uri": "https://localhost:8080/"
    },
    "executionInfo": {
     "elapsed": 178,
     "status": "ok",
     "timestamp": 1624282389025,
     "user": {
      "displayName": "JKB Education Group",
      "photoUrl": "https://lh3.googleusercontent.com/a-/AOh14GgVDrkOo8zlABzYRCOJhHRgcLuJkkBySrHWd8n5sQ=s64",
      "userId": "04362346289210947166"
     },
     "user_tz": -330
    },
    "id": "5BFF95SxfrAR",
    "outputId": "572d974f-f8f6-4b23-d281-78bb0794f46c"
   },
   "outputs": [
    {
     "name": "stdout",
     "output_type": "stream",
     "text": [
      "[[ 6.  8.]\n",
      " [10. 12.]]\n",
      "[[ 6.  8.]\n",
      " [10. 12.]] \n",
      "\n",
      "[[-4. -4.]\n",
      " [-4. -4.]]\n",
      "[[-4. -4.]\n",
      " [-4. -4.]] \n",
      "\n",
      "[[ 5. 12.]\n",
      " [21. 32.]]\n",
      "[[ 5. 12.]\n",
      " [21. 32.]] \n",
      "\n",
      "[[0.2        0.33333333]\n",
      " [0.42857143 0.5       ]]\n",
      "[[0.2        0.33333333]\n",
      " [0.42857143 0.5       ]] \n",
      "\n",
      "[[1.        1.4142135]\n",
      " [1.7320508 2.       ]]\n",
      "[[ 1.  4.]\n",
      " [ 9. 16.]]\n"
     ]
    }
   ],
   "source": [
    "import numpy as np\n",
    "\n",
    "x = np.array([[1, 2], [3, 4]], dtype=np.float32)\n",
    "y = np.array([[5, 6], [7, 8]], dtype=np.float64)\n",
    "\n",
    "# Element Wise sum; both produce the array\n",
    "# [[ 6.0  8.0]\n",
    "#  [10.0 12.0]]\n",
    "print(x + y)\n",
    "# print(x.__add__(y), \"\\n\")\n",
    "print(np.add(x, y), \"\\n\")\n",
    "\n",
    "# Element Wise difference; both produce the array\n",
    "# [[-4.0 -4.0]\n",
    "#  [-4.0 -4.0]]\n",
    "print(x - y)\n",
    "print(np.subtract(x, y), \"\\n\")\n",
    "\n",
    "# Element Wise product; both produce the array\n",
    "# [[ 5.0 12.0]\n",
    "#  [21.0 32.0]]\n",
    "print(x * y)\n",
    "print(np.multiply(x, y), \"\\n\")\n",
    "\n",
    "# Element Wise division; both produce the array\n",
    "# [[ 0.2         0.33333333]\n",
    "#  [ 0.42857143  0.5       ]]\n",
    "print(x / y)\n",
    "print(np.divide(x, y), \"\\n\")\n",
    "\n",
    "# Element Wise square root; produces the array\n",
    "# [[ 1.          1.41421356]\n",
    "#  [ 1.73205081  2.        ]]\n",
    "print(np.sqrt(x))\n",
    "print(np.square(x))"
   ]
  },
  {
   "cell_type": "markdown",
   "metadata": {
    "id": "sqlAeh4NiBK1"
   },
   "source": [
    "**Note:** \\* is element wise multiplication, not matrix multiplication. We instead use the **dot function** to compute inner products of vectors, to multiply a vector by a matrix, and to multiply matrices. dot is available both as a function in the numpy module and as an instance method of array objects:\n"
   ]
  },
  {
   "cell_type": "code",
   "execution_count": 123,
   "metadata": {
    "colab": {
     "base_uri": "https://localhost:8080/"
    },
    "executionInfo": {
     "elapsed": 174,
     "status": "ok",
     "timestamp": 1624282389025,
     "user": {
      "displayName": "JKB Education Group",
      "photoUrl": "https://lh3.googleusercontent.com/a-/AOh14GgVDrkOo8zlABzYRCOJhHRgcLuJkkBySrHWd8n5sQ=s64",
      "userId": "04362346289210947166"
     },
     "user_tz": -330
    },
    "id": "3V_0-Eehlpkh",
    "outputId": "f37d4025-176a-4a34-9bec-edda729bfcea"
   },
   "outputs": [
    {
     "name": "stdout",
     "output_type": "stream",
     "text": [
      "[[19 22]\n",
      " [43 50]]\n",
      "[[19 22]\n",
      " [43 50]]\n"
     ]
    }
   ],
   "source": [
    "import numpy as np\n",
    "\n",
    "# matrix\n",
    "x = np.array([[1, 2], [3, 4]])\n",
    "y = np.array([[5, 6], [7, 8]])\n",
    "\n",
    "\n",
    "\"\"\"\n",
    "\n",
    "[1, 2]\n",
    "[3, 4] \n",
    "\n",
    "[9, 10]\n",
    "\n",
    "\n",
    "\"\"\"\n",
    "# vectors\n",
    "v = np.array([9, 10])\n",
    "w = np.array([11, 12])\n",
    "\n",
    "# print(v, w)\n",
    "\n",
    "# print(v.shape)\n",
    "\n",
    "# Inner product of vectors; both produce 219\n",
    "# vector x vector = scaler value\n",
    "# print(v.dot(w))\n",
    "# print(np.dot(v, w), \"\\n\")\n",
    "\n",
    "# # Matrix / vector product; both produce the rank 1 array [29 67]\n",
    "# # (2, 2) (2,) => (2,)\n",
    "# print(x, v)\n",
    "# print(x.dot(v))\n",
    "# print(np.dot(x, v), \"\\n\")\n",
    "\n",
    "# # Matrix / matrix product; both produce the rank 2 array\n",
    "# # [[19 22]\n",
    "# #  [43 50]]\n",
    "# (2, 2) (2, 2) => (2, 2)\n",
    "print(x.dot(y))\n",
    "print(np.dot(x, y))\n",
    "\n",
    "# 1d *1d -> scaler value\n",
    "# 2d * 1d -> 1d\n",
    "# nd * nd -> matrix"
   ]
  },
  {
   "cell_type": "markdown",
   "metadata": {
    "id": "U0VwvId5l8Sn"
   },
   "source": [
    "Numpy provides many useful functions for performing computations on arrays; one of the most useful is **sum**:\n"
   ]
  },
  {
   "cell_type": "code",
   "execution_count": 126,
   "metadata": {
    "colab": {
     "base_uri": "https://localhost:8080/"
    },
    "executionInfo": {
     "elapsed": 171,
     "status": "ok",
     "timestamp": 1624282389027,
     "user": {
      "displayName": "JKB Education Group",
      "photoUrl": "https://lh3.googleusercontent.com/a-/AOh14GgVDrkOo8zlABzYRCOJhHRgcLuJkkBySrHWd8n5sQ=s64",
      "userId": "04362346289210947166"
     },
     "user_tz": -330
    },
    "id": "cwV7HYFGl8eQ",
    "outputId": "7bc4907a-1e87-43a7-c26d-5010a72033f5"
   },
   "outputs": [
    {
     "name": "stdout",
     "output_type": "stream",
     "text": [
      "10\n",
      "[4 6]\n",
      "[3 7]\n"
     ]
    }
   ],
   "source": [
    "import numpy as np\n",
    "\n",
    "x = np.array([[1, 2], [3, 4]])\n",
    "\n",
    "print(np.sum(x))  # Compute sum of all elements; prints \"10\"\n",
    "print(np.sum(x, axis=0))  # Compute sum of each column; prints \"[4 6]\"\n",
    "print(np.sum(x, axis=1))  # Compute sum of each row; prints \"[3 7]\""
   ]
  },
  {
   "cell_type": "markdown",
   "metadata": {
    "id": "aWUlE3i7l8ki"
   },
   "source": [
    "Apart from computing mathematical functions using arrays, we frequently need to reshape or otherwise manipulate data in arrays. The simplest example of this type of operation is transposing a matrix; to transpose a matrix, simply use the **T** attribute of an array object:\n"
   ]
  },
  {
   "cell_type": "code",
   "execution_count": 127,
   "metadata": {
    "colab": {
     "base_uri": "https://localhost:8080/"
    },
    "executionInfo": {
     "elapsed": 167,
     "status": "ok",
     "timestamp": 1624282389028,
     "user": {
      "displayName": "JKB Education Group",
      "photoUrl": "https://lh3.googleusercontent.com/a-/AOh14GgVDrkOo8zlABzYRCOJhHRgcLuJkkBySrHWd8n5sQ=s64",
      "userId": "04362346289210947166"
     },
     "user_tz": -330
    },
    "id": "wOxrJPAcl8q0",
    "outputId": "0835c200-2255-4006-d257-59495cf98ced"
   },
   "outputs": [
    {
     "name": "stdout",
     "output_type": "stream",
     "text": [
      "[[1 2]\n",
      " [3 4]]\n",
      "[[1 3]\n",
      " [2 4]]\n",
      "[1 2 3]\n",
      "[1 2 3]\n"
     ]
    }
   ],
   "source": [
    "import numpy as np\n",
    "\n",
    "x = np.array([[1, 2], [3, 4]])\n",
    "print(x)\n",
    "# Prints \"[[1 2]\n",
    "#          [3 4]]\"\n",
    "print(x.T)\n",
    "# Prints \"[[1 3]\n",
    "#          [2 4]]\"\n",
    "\n",
    "# Note that taking the transpose of a rank 1 array does nothing:\n",
    "v = np.array([1, 2, 3])\n",
    "print(v)  # Prints \"[1 2 3]\"\n",
    "print(v.T)  # Prints \"[1 2 3]\""
   ]
  },
  {
   "cell_type": "markdown",
   "metadata": {
    "id": "XJwPVleQnY12"
   },
   "source": [
    "### **Array manipulation routines**\n",
    "\n",
    "Data manipulation in Python is nearly synonymous with NumPy array manipulation: even newer tools like **Pandas** are built around the NumPy array. We will present several examples of using NumPy array manipulation to **access data and subarrays, and to split, reshape, and join the arrays**. While the types of operations shown here may seem a bit dry and pedantic, they comprise the building blocks of many other examples.\n",
    "\n",
    "**Example 1:** To copy one array from source to destination you can make use of fucntion\n",
    "\n",
    "**numpy.copyto:**\n",
    "\n",
    "Copies values from one array to another, broadcasting as necessary.\n",
    "\n",
    "Raises a **TypeError** if the casting rule is violated, and if **where** is provided, it selects which elements to copy.\n",
    "\n",
    "**where:--** A boolean array which is broadcasted to match the dimensions of destination, and selects elements to **copy from source to destination** wherever it contains the value **True**.\n"
   ]
  },
  {
   "cell_type": "code",
   "execution_count": 123,
   "metadata": {},
   "outputs": [
    {
     "data": {
      "text/plain": [
       "dtype('int64')"
      ]
     },
     "execution_count": 123,
     "metadata": {},
     "output_type": "execute_result"
    }
   ],
   "source": [
    "np.array([1, 2, 3]).dtype"
   ]
  },
  {
   "cell_type": "code",
   "execution_count": 132,
   "metadata": {
    "colab": {
     "base_uri": "https://localhost:8080/",
     "height": 71
    },
    "executionInfo": {
     "elapsed": 171,
     "status": "ok",
     "timestamp": 1624282389036,
     "user": {
      "displayName": "JKB Education Group",
      "photoUrl": "https://lh3.googleusercontent.com/a-/AOh14GgVDrkOo8zlABzYRCOJhHRgcLuJkkBySrHWd8n5sQ=s64",
      "userId": "04362346289210947166"
     },
     "user_tz": -330
    },
    "id": "lTDvkOlFnY9q",
    "outputId": "98a8758c-0783-4cea-9ba2-de256fbc6779"
   },
   "outputs": [
    {
     "name": "stdout",
     "output_type": "stream",
     "text": [
      "[1. 3. 4. 7. 8.]\n"
     ]
    },
    {
     "data": {
      "text/plain": [
       "\"\\nmake sure both arrays should have same data types or else it will \\nraise an error\\nand to avoid this kind of error you can set one of the parameter \\nprovided with \\nnumpy.copyto and that is casting = 'unsafe'. By default the parameter \\nvalue is \\n'same_kind' which means of same data type.\\n\""
      ]
     },
     "execution_count": 132,
     "metadata": {},
     "output_type": "execute_result"
    }
   ],
   "source": [
    "import numpy as np\n",
    "\n",
    "my_arr = np.array([1, 3, 4, 7, 8], dtype=np.int32)\n",
    "my_arr_2 = np.array([2, 4.6, 6, 78, 89], dtype=np.float32)\n",
    "\n",
    "\n",
    "# first parameter should be destinbation and second should be source\n",
    "np.copyto(my_arr_2, my_arr, casting=\"same_kind\")\n",
    "print(my_arr_2)\n",
    "\n",
    "\"\"\"\n",
    "make sure both arrays should have same data types or else it will \n",
    "raise an error\n",
    "and to avoid this kind of error you can set one of the parameter \n",
    "provided with \n",
    "numpy.copyto and that is casting = 'unsafe'. By default the parameter \n",
    "value is \n",
    "'same_kind' which means of same data type.\n",
    "\"\"\""
   ]
  },
  {
   "cell_type": "markdown",
   "metadata": {
    "id": "maqJvqtUnZDs"
   },
   "source": [
    "### **Changing Array Shape**\n",
    "\n",
    "Changing shape of an array plays an important role when you are dealing with multidimensional data, data from images and many more things. There are various ways to change shape of an array and we will see many examples over that.\n",
    "\n",
    "**1. numpy.reshape: --** Gives a new shape to an array without changing its data.\n",
    "\n",
    "**2. numpy.ravel: --** Return a contiguous flattened array. A 1-D array, containing the elements of the input, is returned. A copy is made only if needed.\n",
    "\n",
    "**3. numpy.flatten: --** Return a copy of the array collapsed into one dimension.\n",
    "\n",
    "**Example 2:**\n"
   ]
  },
  {
   "cell_type": "code",
   "execution_count": 25,
   "metadata": {
    "colab": {
     "base_uri": "https://localhost:8080/"
    },
    "executionInfo": {
     "elapsed": 168,
     "status": "ok",
     "timestamp": 1624282389038,
     "user": {
      "displayName": "JKB Education Group",
      "photoUrl": "https://lh3.googleusercontent.com/a-/AOh14GgVDrkOo8zlABzYRCOJhHRgcLuJkkBySrHWd8n5sQ=s64",
      "userId": "04362346289210947166"
     },
     "user_tz": -330
    },
    "id": "GjwGZAbbnZKd",
    "outputId": "80ae2eb1-a845-4ef6-8881-d10bba99c493"
   },
   "outputs": [
    {
     "name": "stdout",
     "output_type": "stream",
     "text": [
      "(2, 6) [[ 34   1   2   4   5   6]\n",
      " [ 56  45   7  89 654  54]]\n"
     ]
    }
   ],
   "source": [
    "my_mat = np.array([[34, 1, 2, 4, 5, 6], [56, 45, 7, 89, 654, 54]])\n",
    "print(my_mat.shape, my_mat)"
   ]
  },
  {
   "cell_type": "code",
   "execution_count": 135,
   "metadata": {},
   "outputs": [
    {
     "data": {
      "text/plain": [
       "array([[ 34,   1,   2,   4],\n",
       "       [  5,   6,  56,  45],\n",
       "       [  7,  89, 654,  54]])"
      ]
     },
     "execution_count": 135,
     "metadata": {},
     "output_type": "execute_result"
    }
   ],
   "source": [
    "# make sure size must be same after performing reshape\n",
    "np.reshape(my_mat, (3, 4))"
   ]
  },
  {
   "cell_type": "code",
   "execution_count": 27,
   "metadata": {},
   "outputs": [
    {
     "data": {
      "text/plain": [
       "array([[1, 2, 3],\n",
       "       [4, 5, 6]])"
      ]
     },
     "execution_count": 27,
     "metadata": {},
     "output_type": "execute_result"
    }
   ],
   "source": [
    "np.array([1, 2, 3, 4,5,6]).reshape(-1, 3)"
   ]
  },
  {
   "cell_type": "code",
   "execution_count": 28,
   "metadata": {
    "colab": {
     "base_uri": "https://localhost:8080/"
    },
    "executionInfo": {
     "elapsed": 165,
     "status": "ok",
     "timestamp": 1624282389039,
     "user": {
      "displayName": "JKB Education Group",
      "photoUrl": "https://lh3.googleusercontent.com/a-/AOh14GgVDrkOo8zlABzYRCOJhHRgcLuJkkBySrHWd8n5sQ=s64",
      "userId": "04362346289210947166"
     },
     "user_tz": -330
    },
    "id": "EemXHIkGcbE8",
    "outputId": "7321f38e-133a-4b74-c5a5-85283631d748"
   },
   "outputs": [
    {
     "name": "stdout",
     "output_type": "stream",
     "text": [
      "1\n"
     ]
    }
   ],
   "source": [
    "my_flatten = np.ravel(np.random.randint(10, size=(3, 4, 5, 34, 34)))\n",
    "print(my_flatten.ndim)"
   ]
  },
  {
   "cell_type": "code",
   "execution_count": 144,
   "metadata": {
    "colab": {
     "base_uri": "https://localhost:8080/"
    },
    "executionInfo": {
     "elapsed": 162,
     "status": "ok",
     "timestamp": 1624282389040,
     "user": {
      "displayName": "JKB Education Group",
      "photoUrl": "https://lh3.googleusercontent.com/a-/AOh14GgVDrkOo8zlABzYRCOJhHRgcLuJkkBySrHWd8n5sQ=s64",
      "userId": "04362346289210947166"
     },
     "user_tz": -330
    },
    "id": "xG1W-fk4cbJD",
    "outputId": "7f655f6e-6945-4094-dff0-6e27bb02a5e6"
   },
   "outputs": [
    {
     "name": "stdout",
     "output_type": "stream",
     "text": [
      "[ 34   1   2   4   5   6  56  45   7  89 654  54]\n"
     ]
    }
   ],
   "source": [
    "# here look carefully we need to reference ndarray with flatten function not\n",
    "# with numpy\n",
    "\n",
    "t = my_mat.flatten()\n",
    "print(t)"
   ]
  },
  {
   "cell_type": "markdown",
   "metadata": {
    "id": "G6dgLAPnnZRc"
   },
   "source": [
    "### **Transpose-like operations**\n",
    "\n",
    "**1. numpy.moveaxis:--** Move axes of an array to new positions. Other axes remain in their original order.\n",
    "\n",
    "**2. numpy.rollaxis:--** Roll the specified axis backwards, until it lies in a given position. This function continues to be supported for backward compatibility, but you should prefer moveaxis.\n",
    "\n",
    "**3. numpy.swapaxes:--** Interchange two axes of an array.\n",
    "\n",
    "**Example 3:**\n"
   ]
  },
  {
   "cell_type": "markdown",
   "metadata": {
    "id": "6hQO4YDVhT1f"
   },
   "source": [
    "**numpy.moveaxis(a, source, destination)**\n"
   ]
  },
  {
   "cell_type": "code",
   "execution_count": 22,
   "metadata": {
    "colab": {
     "base_uri": "https://localhost:8080/"
    },
    "executionInfo": {
     "elapsed": 385,
     "status": "ok",
     "timestamp": 1627461744420,
     "user": {
      "displayName": "Harshal Bhoir",
      "photoUrl": "https://lh3.googleusercontent.com/a-/AOh14Ggq_SPAuZV5Npa4283PISgrbXLDsZv279JbeYpZuQ=s64",
      "userId": "09894001979294404483"
     },
     "user_tz": -330
    },
    "id": "QWJ0_9vXnZX-",
    "outputId": "994a7ce2-1ca7-4853-c598-f65873847b21"
   },
   "outputs": [
    {
     "name": "stdout",
     "output_type": "stream",
     "text": [
      "[[[0. 0. 0. 0. 0.]\n",
      "  [0. 0. 0. 0. 0.]\n",
      "  [0. 0. 0. 0. 0.]\n",
      "  [0. 0. 0. 0. 0.]]\n",
      "\n",
      " [[0. 0. 0. 0. 0.]\n",
      "  [0. 0. 0. 0. 0.]\n",
      "  [0. 0. 0. 0. 0.]\n",
      "  [0. 0. 0. 0. 0.]]\n",
      "\n",
      " [[0. 0. 0. 0. 0.]\n",
      "  [0. 0. 0. 0. 0.]\n",
      "  [0. 0. 0. 0. 0.]\n",
      "  [0. 0. 0. 0. 0.]]]\n"
     ]
    }
   ],
   "source": [
    "x = np.zeros((3, 4, 5))\n",
    "print(x)"
   ]
  },
  {
   "cell_type": "code",
   "execution_count": 24,
   "metadata": {
    "colab": {
     "base_uri": "https://localhost:8080/"
    },
    "executionInfo": {
     "elapsed": 361,
     "status": "ok",
     "timestamp": 1627462858323,
     "user": {
      "displayName": "Harshal Bhoir",
      "photoUrl": "https://lh3.googleusercontent.com/a-/AOh14Ggq_SPAuZV5Npa4283PISgrbXLDsZv279JbeYpZuQ=s64",
      "userId": "09894001979294404483"
     },
     "user_tz": -330
    },
    "id": "tNFEnfO2frgt",
    "outputId": "311e331f-6b8e-4fcb-c8b3-f46ffa780d85"
   },
   "outputs": [
    {
     "name": "stdout",
     "output_type": "stream",
     "text": [
      "(4, 5, 3)\n",
      "[[[0. 0. 0.]\n",
      "  [0. 0. 0.]\n",
      "  [0. 0. 0.]\n",
      "  [0. 0. 0.]\n",
      "  [0. 0. 0.]]\n",
      "\n",
      " [[0. 0. 0.]\n",
      "  [0. 0. 0.]\n",
      "  [0. 0. 0.]\n",
      "  [0. 0. 0.]\n",
      "  [0. 0. 0.]]\n",
      "\n",
      " [[0. 0. 0.]\n",
      "  [0. 0. 0.]\n",
      "  [0. 0. 0.]\n",
      "  [0. 0. 0.]\n",
      "  [0. 0. 0.]]\n",
      "\n",
      " [[0. 0. 0.]\n",
      "  [0. 0. 0.]\n",
      "  [0. 0. 0.]\n",
      "  [0. 0. 0.]\n",
      "  [0. 0. 0.]]]\n"
     ]
    }
   ],
   "source": [
    "x1 = np.moveaxis(x, 0, -1)\n",
    "print(x1.shape)\n",
    "print(x1)"
   ]
  },
  {
   "cell_type": "markdown",
   "metadata": {
    "id": "kuGKAh0shRx4"
   },
   "source": [
    "## take this function again with good example\n",
    "\n",
    "**numpy.rollaxis(a, axis, start=0)**\n",
    "\n",
    "When **start <= axis**, the axis is rolled back until it lies in this position. When **start > axis**, the axis is rolled until it lies before the mentioned position. The default, 0, results in a “complete” roll.\n"
   ]
  },
  {
   "cell_type": "code",
   "execution_count": 25,
   "metadata": {
    "id": "HgKf-3Bkfrnm",
    "scrolled": true
   },
   "outputs": [
    {
     "data": {
      "text/plain": [
       "array([[[[[1., 1., 1., ..., 1., 1., 1.],\n",
       "          [1., 1., 1., ..., 1., 1., 1.],\n",
       "          [1., 1., 1., ..., 1., 1., 1.],\n",
       "          [1., 1., 1., ..., 1., 1., 1.],\n",
       "          [1., 1., 1., ..., 1., 1., 1.],\n",
       "          [1., 1., 1., ..., 1., 1., 1.]],\n",
       "\n",
       "         [[1., 1., 1., ..., 1., 1., 1.],\n",
       "          [1., 1., 1., ..., 1., 1., 1.],\n",
       "          [1., 1., 1., ..., 1., 1., 1.],\n",
       "          [1., 1., 1., ..., 1., 1., 1.],\n",
       "          [1., 1., 1., ..., 1., 1., 1.],\n",
       "          [1., 1., 1., ..., 1., 1., 1.]],\n",
       "\n",
       "         [[1., 1., 1., ..., 1., 1., 1.],\n",
       "          [1., 1., 1., ..., 1., 1., 1.],\n",
       "          [1., 1., 1., ..., 1., 1., 1.],\n",
       "          [1., 1., 1., ..., 1., 1., 1.],\n",
       "          [1., 1., 1., ..., 1., 1., 1.],\n",
       "          [1., 1., 1., ..., 1., 1., 1.]],\n",
       "\n",
       "         [[1., 1., 1., ..., 1., 1., 1.],\n",
       "          [1., 1., 1., ..., 1., 1., 1.],\n",
       "          [1., 1., 1., ..., 1., 1., 1.],\n",
       "          [1., 1., 1., ..., 1., 1., 1.],\n",
       "          [1., 1., 1., ..., 1., 1., 1.],\n",
       "          [1., 1., 1., ..., 1., 1., 1.]],\n",
       "\n",
       "         [[1., 1., 1., ..., 1., 1., 1.],\n",
       "          [1., 1., 1., ..., 1., 1., 1.],\n",
       "          [1., 1., 1., ..., 1., 1., 1.],\n",
       "          [1., 1., 1., ..., 1., 1., 1.],\n",
       "          [1., 1., 1., ..., 1., 1., 1.],\n",
       "          [1., 1., 1., ..., 1., 1., 1.]]],\n",
       "\n",
       "\n",
       "        [[[1., 1., 1., ..., 1., 1., 1.],\n",
       "          [1., 1., 1., ..., 1., 1., 1.],\n",
       "          [1., 1., 1., ..., 1., 1., 1.],\n",
       "          [1., 1., 1., ..., 1., 1., 1.],\n",
       "          [1., 1., 1., ..., 1., 1., 1.],\n",
       "          [1., 1., 1., ..., 1., 1., 1.]],\n",
       "\n",
       "         [[1., 1., 1., ..., 1., 1., 1.],\n",
       "          [1., 1., 1., ..., 1., 1., 1.],\n",
       "          [1., 1., 1., ..., 1., 1., 1.],\n",
       "          [1., 1., 1., ..., 1., 1., 1.],\n",
       "          [1., 1., 1., ..., 1., 1., 1.],\n",
       "          [1., 1., 1., ..., 1., 1., 1.]],\n",
       "\n",
       "         [[1., 1., 1., ..., 1., 1., 1.],\n",
       "          [1., 1., 1., ..., 1., 1., 1.],\n",
       "          [1., 1., 1., ..., 1., 1., 1.],\n",
       "          [1., 1., 1., ..., 1., 1., 1.],\n",
       "          [1., 1., 1., ..., 1., 1., 1.],\n",
       "          [1., 1., 1., ..., 1., 1., 1.]],\n",
       "\n",
       "         [[1., 1., 1., ..., 1., 1., 1.],\n",
       "          [1., 1., 1., ..., 1., 1., 1.],\n",
       "          [1., 1., 1., ..., 1., 1., 1.],\n",
       "          [1., 1., 1., ..., 1., 1., 1.],\n",
       "          [1., 1., 1., ..., 1., 1., 1.],\n",
       "          [1., 1., 1., ..., 1., 1., 1.]],\n",
       "\n",
       "         [[1., 1., 1., ..., 1., 1., 1.],\n",
       "          [1., 1., 1., ..., 1., 1., 1.],\n",
       "          [1., 1., 1., ..., 1., 1., 1.],\n",
       "          [1., 1., 1., ..., 1., 1., 1.],\n",
       "          [1., 1., 1., ..., 1., 1., 1.],\n",
       "          [1., 1., 1., ..., 1., 1., 1.]]],\n",
       "\n",
       "\n",
       "        [[[1., 1., 1., ..., 1., 1., 1.],\n",
       "          [1., 1., 1., ..., 1., 1., 1.],\n",
       "          [1., 1., 1., ..., 1., 1., 1.],\n",
       "          [1., 1., 1., ..., 1., 1., 1.],\n",
       "          [1., 1., 1., ..., 1., 1., 1.],\n",
       "          [1., 1., 1., ..., 1., 1., 1.]],\n",
       "\n",
       "         [[1., 1., 1., ..., 1., 1., 1.],\n",
       "          [1., 1., 1., ..., 1., 1., 1.],\n",
       "          [1., 1., 1., ..., 1., 1., 1.],\n",
       "          [1., 1., 1., ..., 1., 1., 1.],\n",
       "          [1., 1., 1., ..., 1., 1., 1.],\n",
       "          [1., 1., 1., ..., 1., 1., 1.]],\n",
       "\n",
       "         [[1., 1., 1., ..., 1., 1., 1.],\n",
       "          [1., 1., 1., ..., 1., 1., 1.],\n",
       "          [1., 1., 1., ..., 1., 1., 1.],\n",
       "          [1., 1., 1., ..., 1., 1., 1.],\n",
       "          [1., 1., 1., ..., 1., 1., 1.],\n",
       "          [1., 1., 1., ..., 1., 1., 1.]],\n",
       "\n",
       "         [[1., 1., 1., ..., 1., 1., 1.],\n",
       "          [1., 1., 1., ..., 1., 1., 1.],\n",
       "          [1., 1., 1., ..., 1., 1., 1.],\n",
       "          [1., 1., 1., ..., 1., 1., 1.],\n",
       "          [1., 1., 1., ..., 1., 1., 1.],\n",
       "          [1., 1., 1., ..., 1., 1., 1.]],\n",
       "\n",
       "         [[1., 1., 1., ..., 1., 1., 1.],\n",
       "          [1., 1., 1., ..., 1., 1., 1.],\n",
       "          [1., 1., 1., ..., 1., 1., 1.],\n",
       "          [1., 1., 1., ..., 1., 1., 1.],\n",
       "          [1., 1., 1., ..., 1., 1., 1.],\n",
       "          [1., 1., 1., ..., 1., 1., 1.]]],\n",
       "\n",
       "\n",
       "        [[[1., 1., 1., ..., 1., 1., 1.],\n",
       "          [1., 1., 1., ..., 1., 1., 1.],\n",
       "          [1., 1., 1., ..., 1., 1., 1.],\n",
       "          [1., 1., 1., ..., 1., 1., 1.],\n",
       "          [1., 1., 1., ..., 1., 1., 1.],\n",
       "          [1., 1., 1., ..., 1., 1., 1.]],\n",
       "\n",
       "         [[1., 1., 1., ..., 1., 1., 1.],\n",
       "          [1., 1., 1., ..., 1., 1., 1.],\n",
       "          [1., 1., 1., ..., 1., 1., 1.],\n",
       "          [1., 1., 1., ..., 1., 1., 1.],\n",
       "          [1., 1., 1., ..., 1., 1., 1.],\n",
       "          [1., 1., 1., ..., 1., 1., 1.]],\n",
       "\n",
       "         [[1., 1., 1., ..., 1., 1., 1.],\n",
       "          [1., 1., 1., ..., 1., 1., 1.],\n",
       "          [1., 1., 1., ..., 1., 1., 1.],\n",
       "          [1., 1., 1., ..., 1., 1., 1.],\n",
       "          [1., 1., 1., ..., 1., 1., 1.],\n",
       "          [1., 1., 1., ..., 1., 1., 1.]],\n",
       "\n",
       "         [[1., 1., 1., ..., 1., 1., 1.],\n",
       "          [1., 1., 1., ..., 1., 1., 1.],\n",
       "          [1., 1., 1., ..., 1., 1., 1.],\n",
       "          [1., 1., 1., ..., 1., 1., 1.],\n",
       "          [1., 1., 1., ..., 1., 1., 1.],\n",
       "          [1., 1., 1., ..., 1., 1., 1.]],\n",
       "\n",
       "         [[1., 1., 1., ..., 1., 1., 1.],\n",
       "          [1., 1., 1., ..., 1., 1., 1.],\n",
       "          [1., 1., 1., ..., 1., 1., 1.],\n",
       "          [1., 1., 1., ..., 1., 1., 1.],\n",
       "          [1., 1., 1., ..., 1., 1., 1.],\n",
       "          [1., 1., 1., ..., 1., 1., 1.]]]],\n",
       "\n",
       "\n",
       "\n",
       "       [[[[1., 1., 1., ..., 1., 1., 1.],\n",
       "          [1., 1., 1., ..., 1., 1., 1.],\n",
       "          [1., 1., 1., ..., 1., 1., 1.],\n",
       "          [1., 1., 1., ..., 1., 1., 1.],\n",
       "          [1., 1., 1., ..., 1., 1., 1.],\n",
       "          [1., 1., 1., ..., 1., 1., 1.]],\n",
       "\n",
       "         [[1., 1., 1., ..., 1., 1., 1.],\n",
       "          [1., 1., 1., ..., 1., 1., 1.],\n",
       "          [1., 1., 1., ..., 1., 1., 1.],\n",
       "          [1., 1., 1., ..., 1., 1., 1.],\n",
       "          [1., 1., 1., ..., 1., 1., 1.],\n",
       "          [1., 1., 1., ..., 1., 1., 1.]],\n",
       "\n",
       "         [[1., 1., 1., ..., 1., 1., 1.],\n",
       "          [1., 1., 1., ..., 1., 1., 1.],\n",
       "          [1., 1., 1., ..., 1., 1., 1.],\n",
       "          [1., 1., 1., ..., 1., 1., 1.],\n",
       "          [1., 1., 1., ..., 1., 1., 1.],\n",
       "          [1., 1., 1., ..., 1., 1., 1.]],\n",
       "\n",
       "         [[1., 1., 1., ..., 1., 1., 1.],\n",
       "          [1., 1., 1., ..., 1., 1., 1.],\n",
       "          [1., 1., 1., ..., 1., 1., 1.],\n",
       "          [1., 1., 1., ..., 1., 1., 1.],\n",
       "          [1., 1., 1., ..., 1., 1., 1.],\n",
       "          [1., 1., 1., ..., 1., 1., 1.]],\n",
       "\n",
       "         [[1., 1., 1., ..., 1., 1., 1.],\n",
       "          [1., 1., 1., ..., 1., 1., 1.],\n",
       "          [1., 1., 1., ..., 1., 1., 1.],\n",
       "          [1., 1., 1., ..., 1., 1., 1.],\n",
       "          [1., 1., 1., ..., 1., 1., 1.],\n",
       "          [1., 1., 1., ..., 1., 1., 1.]]],\n",
       "\n",
       "\n",
       "        [[[1., 1., 1., ..., 1., 1., 1.],\n",
       "          [1., 1., 1., ..., 1., 1., 1.],\n",
       "          [1., 1., 1., ..., 1., 1., 1.],\n",
       "          [1., 1., 1., ..., 1., 1., 1.],\n",
       "          [1., 1., 1., ..., 1., 1., 1.],\n",
       "          [1., 1., 1., ..., 1., 1., 1.]],\n",
       "\n",
       "         [[1., 1., 1., ..., 1., 1., 1.],\n",
       "          [1., 1., 1., ..., 1., 1., 1.],\n",
       "          [1., 1., 1., ..., 1., 1., 1.],\n",
       "          [1., 1., 1., ..., 1., 1., 1.],\n",
       "          [1., 1., 1., ..., 1., 1., 1.],\n",
       "          [1., 1., 1., ..., 1., 1., 1.]],\n",
       "\n",
       "         [[1., 1., 1., ..., 1., 1., 1.],\n",
       "          [1., 1., 1., ..., 1., 1., 1.],\n",
       "          [1., 1., 1., ..., 1., 1., 1.],\n",
       "          [1., 1., 1., ..., 1., 1., 1.],\n",
       "          [1., 1., 1., ..., 1., 1., 1.],\n",
       "          [1., 1., 1., ..., 1., 1., 1.]],\n",
       "\n",
       "         [[1., 1., 1., ..., 1., 1., 1.],\n",
       "          [1., 1., 1., ..., 1., 1., 1.],\n",
       "          [1., 1., 1., ..., 1., 1., 1.],\n",
       "          [1., 1., 1., ..., 1., 1., 1.],\n",
       "          [1., 1., 1., ..., 1., 1., 1.],\n",
       "          [1., 1., 1., ..., 1., 1., 1.]],\n",
       "\n",
       "         [[1., 1., 1., ..., 1., 1., 1.],\n",
       "          [1., 1., 1., ..., 1., 1., 1.],\n",
       "          [1., 1., 1., ..., 1., 1., 1.],\n",
       "          [1., 1., 1., ..., 1., 1., 1.],\n",
       "          [1., 1., 1., ..., 1., 1., 1.],\n",
       "          [1., 1., 1., ..., 1., 1., 1.]]],\n",
       "\n",
       "\n",
       "        [[[1., 1., 1., ..., 1., 1., 1.],\n",
       "          [1., 1., 1., ..., 1., 1., 1.],\n",
       "          [1., 1., 1., ..., 1., 1., 1.],\n",
       "          [1., 1., 1., ..., 1., 1., 1.],\n",
       "          [1., 1., 1., ..., 1., 1., 1.],\n",
       "          [1., 1., 1., ..., 1., 1., 1.]],\n",
       "\n",
       "         [[1., 1., 1., ..., 1., 1., 1.],\n",
       "          [1., 1., 1., ..., 1., 1., 1.],\n",
       "          [1., 1., 1., ..., 1., 1., 1.],\n",
       "          [1., 1., 1., ..., 1., 1., 1.],\n",
       "          [1., 1., 1., ..., 1., 1., 1.],\n",
       "          [1., 1., 1., ..., 1., 1., 1.]],\n",
       "\n",
       "         [[1., 1., 1., ..., 1., 1., 1.],\n",
       "          [1., 1., 1., ..., 1., 1., 1.],\n",
       "          [1., 1., 1., ..., 1., 1., 1.],\n",
       "          [1., 1., 1., ..., 1., 1., 1.],\n",
       "          [1., 1., 1., ..., 1., 1., 1.],\n",
       "          [1., 1., 1., ..., 1., 1., 1.]],\n",
       "\n",
       "         [[1., 1., 1., ..., 1., 1., 1.],\n",
       "          [1., 1., 1., ..., 1., 1., 1.],\n",
       "          [1., 1., 1., ..., 1., 1., 1.],\n",
       "          [1., 1., 1., ..., 1., 1., 1.],\n",
       "          [1., 1., 1., ..., 1., 1., 1.],\n",
       "          [1., 1., 1., ..., 1., 1., 1.]],\n",
       "\n",
       "         [[1., 1., 1., ..., 1., 1., 1.],\n",
       "          [1., 1., 1., ..., 1., 1., 1.],\n",
       "          [1., 1., 1., ..., 1., 1., 1.],\n",
       "          [1., 1., 1., ..., 1., 1., 1.],\n",
       "          [1., 1., 1., ..., 1., 1., 1.],\n",
       "          [1., 1., 1., ..., 1., 1., 1.]]],\n",
       "\n",
       "\n",
       "        [[[1., 1., 1., ..., 1., 1., 1.],\n",
       "          [1., 1., 1., ..., 1., 1., 1.],\n",
       "          [1., 1., 1., ..., 1., 1., 1.],\n",
       "          [1., 1., 1., ..., 1., 1., 1.],\n",
       "          [1., 1., 1., ..., 1., 1., 1.],\n",
       "          [1., 1., 1., ..., 1., 1., 1.]],\n",
       "\n",
       "         [[1., 1., 1., ..., 1., 1., 1.],\n",
       "          [1., 1., 1., ..., 1., 1., 1.],\n",
       "          [1., 1., 1., ..., 1., 1., 1.],\n",
       "          [1., 1., 1., ..., 1., 1., 1.],\n",
       "          [1., 1., 1., ..., 1., 1., 1.],\n",
       "          [1., 1., 1., ..., 1., 1., 1.]],\n",
       "\n",
       "         [[1., 1., 1., ..., 1., 1., 1.],\n",
       "          [1., 1., 1., ..., 1., 1., 1.],\n",
       "          [1., 1., 1., ..., 1., 1., 1.],\n",
       "          [1., 1., 1., ..., 1., 1., 1.],\n",
       "          [1., 1., 1., ..., 1., 1., 1.],\n",
       "          [1., 1., 1., ..., 1., 1., 1.]],\n",
       "\n",
       "         [[1., 1., 1., ..., 1., 1., 1.],\n",
       "          [1., 1., 1., ..., 1., 1., 1.],\n",
       "          [1., 1., 1., ..., 1., 1., 1.],\n",
       "          [1., 1., 1., ..., 1., 1., 1.],\n",
       "          [1., 1., 1., ..., 1., 1., 1.],\n",
       "          [1., 1., 1., ..., 1., 1., 1.]],\n",
       "\n",
       "         [[1., 1., 1., ..., 1., 1., 1.],\n",
       "          [1., 1., 1., ..., 1., 1., 1.],\n",
       "          [1., 1., 1., ..., 1., 1., 1.],\n",
       "          [1., 1., 1., ..., 1., 1., 1.],\n",
       "          [1., 1., 1., ..., 1., 1., 1.],\n",
       "          [1., 1., 1., ..., 1., 1., 1.]]]],\n",
       "\n",
       "\n",
       "\n",
       "       [[[[1., 1., 1., ..., 1., 1., 1.],\n",
       "          [1., 1., 1., ..., 1., 1., 1.],\n",
       "          [1., 1., 1., ..., 1., 1., 1.],\n",
       "          [1., 1., 1., ..., 1., 1., 1.],\n",
       "          [1., 1., 1., ..., 1., 1., 1.],\n",
       "          [1., 1., 1., ..., 1., 1., 1.]],\n",
       "\n",
       "         [[1., 1., 1., ..., 1., 1., 1.],\n",
       "          [1., 1., 1., ..., 1., 1., 1.],\n",
       "          [1., 1., 1., ..., 1., 1., 1.],\n",
       "          [1., 1., 1., ..., 1., 1., 1.],\n",
       "          [1., 1., 1., ..., 1., 1., 1.],\n",
       "          [1., 1., 1., ..., 1., 1., 1.]],\n",
       "\n",
       "         [[1., 1., 1., ..., 1., 1., 1.],\n",
       "          [1., 1., 1., ..., 1., 1., 1.],\n",
       "          [1., 1., 1., ..., 1., 1., 1.],\n",
       "          [1., 1., 1., ..., 1., 1., 1.],\n",
       "          [1., 1., 1., ..., 1., 1., 1.],\n",
       "          [1., 1., 1., ..., 1., 1., 1.]],\n",
       "\n",
       "         [[1., 1., 1., ..., 1., 1., 1.],\n",
       "          [1., 1., 1., ..., 1., 1., 1.],\n",
       "          [1., 1., 1., ..., 1., 1., 1.],\n",
       "          [1., 1., 1., ..., 1., 1., 1.],\n",
       "          [1., 1., 1., ..., 1., 1., 1.],\n",
       "          [1., 1., 1., ..., 1., 1., 1.]],\n",
       "\n",
       "         [[1., 1., 1., ..., 1., 1., 1.],\n",
       "          [1., 1., 1., ..., 1., 1., 1.],\n",
       "          [1., 1., 1., ..., 1., 1., 1.],\n",
       "          [1., 1., 1., ..., 1., 1., 1.],\n",
       "          [1., 1., 1., ..., 1., 1., 1.],\n",
       "          [1., 1., 1., ..., 1., 1., 1.]]],\n",
       "\n",
       "\n",
       "        [[[1., 1., 1., ..., 1., 1., 1.],\n",
       "          [1., 1., 1., ..., 1., 1., 1.],\n",
       "          [1., 1., 1., ..., 1., 1., 1.],\n",
       "          [1., 1., 1., ..., 1., 1., 1.],\n",
       "          [1., 1., 1., ..., 1., 1., 1.],\n",
       "          [1., 1., 1., ..., 1., 1., 1.]],\n",
       "\n",
       "         [[1., 1., 1., ..., 1., 1., 1.],\n",
       "          [1., 1., 1., ..., 1., 1., 1.],\n",
       "          [1., 1., 1., ..., 1., 1., 1.],\n",
       "          [1., 1., 1., ..., 1., 1., 1.],\n",
       "          [1., 1., 1., ..., 1., 1., 1.],\n",
       "          [1., 1., 1., ..., 1., 1., 1.]],\n",
       "\n",
       "         [[1., 1., 1., ..., 1., 1., 1.],\n",
       "          [1., 1., 1., ..., 1., 1., 1.],\n",
       "          [1., 1., 1., ..., 1., 1., 1.],\n",
       "          [1., 1., 1., ..., 1., 1., 1.],\n",
       "          [1., 1., 1., ..., 1., 1., 1.],\n",
       "          [1., 1., 1., ..., 1., 1., 1.]],\n",
       "\n",
       "         [[1., 1., 1., ..., 1., 1., 1.],\n",
       "          [1., 1., 1., ..., 1., 1., 1.],\n",
       "          [1., 1., 1., ..., 1., 1., 1.],\n",
       "          [1., 1., 1., ..., 1., 1., 1.],\n",
       "          [1., 1., 1., ..., 1., 1., 1.],\n",
       "          [1., 1., 1., ..., 1., 1., 1.]],\n",
       "\n",
       "         [[1., 1., 1., ..., 1., 1., 1.],\n",
       "          [1., 1., 1., ..., 1., 1., 1.],\n",
       "          [1., 1., 1., ..., 1., 1., 1.],\n",
       "          [1., 1., 1., ..., 1., 1., 1.],\n",
       "          [1., 1., 1., ..., 1., 1., 1.],\n",
       "          [1., 1., 1., ..., 1., 1., 1.]]],\n",
       "\n",
       "\n",
       "        [[[1., 1., 1., ..., 1., 1., 1.],\n",
       "          [1., 1., 1., ..., 1., 1., 1.],\n",
       "          [1., 1., 1., ..., 1., 1., 1.],\n",
       "          [1., 1., 1., ..., 1., 1., 1.],\n",
       "          [1., 1., 1., ..., 1., 1., 1.],\n",
       "          [1., 1., 1., ..., 1., 1., 1.]],\n",
       "\n",
       "         [[1., 1., 1., ..., 1., 1., 1.],\n",
       "          [1., 1., 1., ..., 1., 1., 1.],\n",
       "          [1., 1., 1., ..., 1., 1., 1.],\n",
       "          [1., 1., 1., ..., 1., 1., 1.],\n",
       "          [1., 1., 1., ..., 1., 1., 1.],\n",
       "          [1., 1., 1., ..., 1., 1., 1.]],\n",
       "\n",
       "         [[1., 1., 1., ..., 1., 1., 1.],\n",
       "          [1., 1., 1., ..., 1., 1., 1.],\n",
       "          [1., 1., 1., ..., 1., 1., 1.],\n",
       "          [1., 1., 1., ..., 1., 1., 1.],\n",
       "          [1., 1., 1., ..., 1., 1., 1.],\n",
       "          [1., 1., 1., ..., 1., 1., 1.]],\n",
       "\n",
       "         [[1., 1., 1., ..., 1., 1., 1.],\n",
       "          [1., 1., 1., ..., 1., 1., 1.],\n",
       "          [1., 1., 1., ..., 1., 1., 1.],\n",
       "          [1., 1., 1., ..., 1., 1., 1.],\n",
       "          [1., 1., 1., ..., 1., 1., 1.],\n",
       "          [1., 1., 1., ..., 1., 1., 1.]],\n",
       "\n",
       "         [[1., 1., 1., ..., 1., 1., 1.],\n",
       "          [1., 1., 1., ..., 1., 1., 1.],\n",
       "          [1., 1., 1., ..., 1., 1., 1.],\n",
       "          [1., 1., 1., ..., 1., 1., 1.],\n",
       "          [1., 1., 1., ..., 1., 1., 1.],\n",
       "          [1., 1., 1., ..., 1., 1., 1.]]],\n",
       "\n",
       "\n",
       "        [[[1., 1., 1., ..., 1., 1., 1.],\n",
       "          [1., 1., 1., ..., 1., 1., 1.],\n",
       "          [1., 1., 1., ..., 1., 1., 1.],\n",
       "          [1., 1., 1., ..., 1., 1., 1.],\n",
       "          [1., 1., 1., ..., 1., 1., 1.],\n",
       "          [1., 1., 1., ..., 1., 1., 1.]],\n",
       "\n",
       "         [[1., 1., 1., ..., 1., 1., 1.],\n",
       "          [1., 1., 1., ..., 1., 1., 1.],\n",
       "          [1., 1., 1., ..., 1., 1., 1.],\n",
       "          [1., 1., 1., ..., 1., 1., 1.],\n",
       "          [1., 1., 1., ..., 1., 1., 1.],\n",
       "          [1., 1., 1., ..., 1., 1., 1.]],\n",
       "\n",
       "         [[1., 1., 1., ..., 1., 1., 1.],\n",
       "          [1., 1., 1., ..., 1., 1., 1.],\n",
       "          [1., 1., 1., ..., 1., 1., 1.],\n",
       "          [1., 1., 1., ..., 1., 1., 1.],\n",
       "          [1., 1., 1., ..., 1., 1., 1.],\n",
       "          [1., 1., 1., ..., 1., 1., 1.]],\n",
       "\n",
       "         [[1., 1., 1., ..., 1., 1., 1.],\n",
       "          [1., 1., 1., ..., 1., 1., 1.],\n",
       "          [1., 1., 1., ..., 1., 1., 1.],\n",
       "          [1., 1., 1., ..., 1., 1., 1.],\n",
       "          [1., 1., 1., ..., 1., 1., 1.],\n",
       "          [1., 1., 1., ..., 1., 1., 1.]],\n",
       "\n",
       "         [[1., 1., 1., ..., 1., 1., 1.],\n",
       "          [1., 1., 1., ..., 1., 1., 1.],\n",
       "          [1., 1., 1., ..., 1., 1., 1.],\n",
       "          [1., 1., 1., ..., 1., 1., 1.],\n",
       "          [1., 1., 1., ..., 1., 1., 1.],\n",
       "          [1., 1., 1., ..., 1., 1., 1.]]]]])"
      ]
     },
     "execution_count": 25,
     "metadata": {},
     "output_type": "execute_result"
    }
   ],
   "source": [
    "import numpy as np\n",
    "\n",
    "a = np.ones((3, 4, 5, 6, 7))\n",
    "a"
   ]
  },
  {
   "cell_type": "code",
   "execution_count": 26,
   "metadata": {
    "colab": {
     "base_uri": "https://localhost:8080/"
    },
    "executionInfo": {
     "elapsed": 368,
     "status": "ok",
     "timestamp": 1627462153764,
     "user": {
      "displayName": "Harshal Bhoir",
      "photoUrl": "https://lh3.googleusercontent.com/a-/AOh14Ggq_SPAuZV5Npa4283PISgrbXLDsZv279JbeYpZuQ=s64",
      "userId": "09894001979294404483"
     },
     "user_tz": -330
    },
    "id": "OvT-qXAMhC2S",
    "outputId": "a3647f66-4be7-4153-e1b7-f40c4c165b5e"
   },
   "outputs": [
    {
     "data": {
      "text/plain": [
       "(3, 4, 5, 7, 6)"
      ]
     },
     "execution_count": 26,
     "metadata": {},
     "output_type": "execute_result"
    }
   ],
   "source": [
    "# 3, 4, 5, 6, 7\n",
    "# 7 -> axis\n",
    "# 6 -> start\n",
    "# start <= axis\n",
    "\n",
    "\n",
    "np.rollaxis(a, 4, 3).shape"
   ]
  },
  {
   "cell_type": "code",
   "execution_count": 27,
   "metadata": {
    "colab": {
     "base_uri": "https://localhost:8080/"
    },
    "executionInfo": {
     "elapsed": 150,
     "status": "ok",
     "timestamp": 1624282389045,
     "user": {
      "displayName": "JKB Education Group",
      "photoUrl": "https://lh3.googleusercontent.com/a-/AOh14GgVDrkOo8zlABzYRCOJhHRgcLuJkkBySrHWd8n5sQ=s64",
      "userId": "04362346289210947166"
     },
     "user_tz": -330
    },
    "id": "TQpkF9E-hC5v",
    "outputId": "32fc9be1-2fe6-4f47-e0c2-1904a27cacc1"
   },
   "outputs": [
    {
     "data": {
      "text/plain": [
       "(5, 3, 4, 6, 7)"
      ]
     },
     "execution_count": 27,
     "metadata": {},
     "output_type": "execute_result"
    }
   ],
   "source": [
    "# 3, 4, 5, 6, 7\n",
    "# 5 -> axis\n",
    "# 3 -> start\n",
    "# start <= axis\n",
    "\n",
    "np.rollaxis(a, 2, 0).shape"
   ]
  },
  {
   "cell_type": "code",
   "execution_count": null,
   "metadata": {
    "colab": {
     "base_uri": "https://localhost:8080/"
    },
    "executionInfo": {
     "elapsed": 147,
     "status": "ok",
     "timestamp": 1624282389046,
     "user": {
      "displayName": "JKB Education Group",
      "photoUrl": "https://lh3.googleusercontent.com/a-/AOh14GgVDrkOo8zlABzYRCOJhHRgcLuJkkBySrHWd8n5sQ=s64",
      "userId": "04362346289210947166"
     },
     "user_tz": -330
    },
    "id": "WlJ_dpU8hC-q",
    "outputId": "5e827237-7606-4109-dc48-ecf86f69d141"
   },
   "outputs": [
    {
     "data": {
      "text/plain": [
       "(3, 5, 6, 4, 7)"
      ]
     },
     "execution_count": 28,
     "metadata": {},
     "output_type": "execute_result"
    }
   ],
   "source": [
    "# 3, 4, 5, 6, 7\n",
    "# 4 -> axis\n",
    "# 7 -> start\n",
    "# start <= axis -> False\n",
    "\n",
    "\n",
    "\"\"\"\n",
    "3 4 5 6 7\n",
    "3 5 4 6 7\n",
    "3 5 6 4 7\n",
    "\"\"\"\n",
    "\n",
    "np.rollaxis(a, 1, 4).shape"
   ]
  },
  {
   "cell_type": "markdown",
   "metadata": {
    "id": "OsAUInljjK55"
   },
   "source": [
    "**numpy.swapaxes(a, axis1, axis2)**\n"
   ]
  },
  {
   "cell_type": "code",
   "execution_count": 29,
   "metadata": {
    "colab": {
     "base_uri": "https://localhost:8080/"
    },
    "executionInfo": {
     "elapsed": 144,
     "status": "ok",
     "timestamp": 1624282389047,
     "user": {
      "displayName": "JKB Education Group",
      "photoUrl": "https://lh3.googleusercontent.com/a-/AOh14GgVDrkOo8zlABzYRCOJhHRgcLuJkkBySrHWd8n5sQ=s64",
      "userId": "04362346289210947166"
     },
     "user_tz": -330
    },
    "id": "8ji4AqMfhDCR",
    "outputId": "744fc575-40fb-47c5-a447-da2d3e3d0ef4"
   },
   "outputs": [
    {
     "name": "stdout",
     "output_type": "stream",
     "text": [
      "(1, 3)\n",
      "[[1]\n",
      " [2]\n",
      " [3]]\n",
      "(3, 1)\n"
     ]
    }
   ],
   "source": [
    "x = np.array([[1, 2, 3]])\n",
    "print(x.shape)\n",
    "\n",
    "x_swapped = np.swapaxes(x, 0, 1)\n",
    "print(x_swapped)\n",
    "print(x_swapped.shape)"
   ]
  },
  {
   "cell_type": "code",
   "execution_count": 30,
   "metadata": {},
   "outputs": [
    {
     "data": {
      "text/plain": [
       "(4, 5, 3)"
      ]
     },
     "execution_count": 30,
     "metadata": {},
     "output_type": "execute_result"
    }
   ],
   "source": [
    "x = np.zeros((3, 5, 4))\n",
    "x.swapaxes(0, 2).shape"
   ]
  },
  {
   "cell_type": "markdown",
   "metadata": {
    "id": "275EtPOkj4PG"
   },
   "source": [
    "### **Joining arrays**\n",
    "\n",
    "**1. numpy.concatenate:--** Join a sequence of arrays along an existing axis.\n",
    "\n",
    "**2. numpy.stack:--** Join a sequence of arrays along a new axis. The axis parameter specifies the index of the new axis in the dimensions of the result. For example, if axis=0 it will be the first dimension and if axis=-1 it will be the last dimension. hstack, vsrtack, dstack many more are there which works in the same way stack does. For more info, you can search on google.\n",
    "\n",
    "**Example 4:**\n"
   ]
  },
  {
   "cell_type": "markdown",
   "metadata": {
    "id": "UWyXK-2Zkz-_"
   },
   "source": [
    "**numpy.concatenate((a1, a2, ...), axis=0, out=None)**\n",
    "\n",
    "out: If provided, the destination to place the result\n"
   ]
  },
  {
   "cell_type": "code",
   "execution_count": 33,
   "metadata": {
    "colab": {
     "base_uri": "https://localhost:8080/"
    },
    "executionInfo": {
     "elapsed": 140,
     "status": "ok",
     "timestamp": 1624282389048,
     "user": {
      "displayName": "JKB Education Group",
      "photoUrl": "https://lh3.googleusercontent.com/a-/AOh14GgVDrkOo8zlABzYRCOJhHRgcLuJkkBySrHWd8n5sQ=s64",
      "userId": "04362346289210947166"
     },
     "user_tz": -330
    },
    "id": "UyJAEJqthDFz",
    "outputId": "73977a1d-7cbf-4188-96f1-f02d311201d9"
   },
   "outputs": [
    {
     "name": "stdout",
     "output_type": "stream",
     "text": [
      "(2, 3) (1, 3)\n"
     ]
    },
    {
     "data": {
      "text/plain": [
       "array([[1, 2, 4],\n",
       "       [3, 4, 4],\n",
       "       [5, 6, 6]])"
      ]
     },
     "execution_count": 33,
     "metadata": {},
     "output_type": "execute_result"
    }
   ],
   "source": [
    "a = np.array([[1, 2, 4], [3, 4, 4]])\n",
    "b = np.array([[5, 6, 6]])\n",
    "\n",
    "print(a.shape, b.shape)\n",
    "np.concatenate((a, b), axis=0)"
   ]
  },
  {
   "cell_type": "code",
   "execution_count": 57,
   "metadata": {},
   "outputs": [
    {
     "data": {
      "text/plain": [
       "(array([[5, 6]]),\n",
       " array([[5],\n",
       "        [6]]))"
      ]
     },
     "execution_count": 57,
     "metadata": {},
     "output_type": "execute_result"
    }
   ],
   "source": [
    "b, b.T"
   ]
  },
  {
   "cell_type": "code",
   "execution_count": 58,
   "metadata": {
    "colab": {
     "base_uri": "https://localhost:8080/"
    },
    "executionInfo": {
     "elapsed": 136,
     "status": "ok",
     "timestamp": 1624282389048,
     "user": {
      "displayName": "JKB Education Group",
      "photoUrl": "https://lh3.googleusercontent.com/a-/AOh14GgVDrkOo8zlABzYRCOJhHRgcLuJkkBySrHWd8n5sQ=s64",
      "userId": "04362346289210947166"
     },
     "user_tz": -330
    },
    "id": "_WB8iPWyk0y2",
    "outputId": "354bf711-1809-4173-c4ca-1ee3056ad0b6"
   },
   "outputs": [
    {
     "data": {
      "text/plain": [
       "array([[1, 2, 5],\n",
       "       [3, 4, 6]])"
      ]
     },
     "execution_count": 58,
     "metadata": {},
     "output_type": "execute_result"
    }
   ],
   "source": [
    "np.concatenate((a, b.T), axis=1)"
   ]
  },
  {
   "cell_type": "markdown",
   "metadata": {
    "id": "_fto4-O_lWMv"
   },
   "source": [
    "**numpy.stack(arrays, axis=0, out=None)**\n"
   ]
  },
  {
   "cell_type": "code",
   "execution_count": 34,
   "metadata": {
    "scrolled": true
   },
   "outputs": [
    {
     "data": {
      "text/plain": [
       "[0, 1, 4, 9, 16, 25, 36, 49, 64, 81]"
      ]
     },
     "execution_count": 34,
     "metadata": {},
     "output_type": "execute_result"
    }
   ],
   "source": [
    "# list comprehension\n",
    "[x * x for x in range(10)]  # -> [0, 1, 2 3, ..., 9]"
   ]
  },
  {
   "cell_type": "code",
   "execution_count": 41,
   "metadata": {
    "id": "8ZDTXZawk02U"
   },
   "outputs": [
    {
     "data": {
      "text/plain": [
       "(12, 3, 4)"
      ]
     },
     "execution_count": 41,
     "metadata": {},
     "output_type": "execute_result"
    }
   ],
   "source": [
    "arrays = np.array([np.random.rand(3, 4) for i in range(12)])\n",
    "arrays.shape"
   ]
  },
  {
   "cell_type": "code",
   "execution_count": 45,
   "metadata": {
    "scrolled": false
   },
   "outputs": [
    {
     "data": {
      "text/plain": [
       "(12, 3, 2, 4)"
      ]
     },
     "execution_count": 45,
     "metadata": {},
     "output_type": "execute_result"
    }
   ],
   "source": [
    "np.stack((arrays, arrays), axis=2).shape"
   ]
  },
  {
   "cell_type": "code",
   "execution_count": 62,
   "metadata": {
    "colab": {
     "base_uri": "https://localhost:8080/"
    },
    "executionInfo": {
     "elapsed": 128,
     "status": "ok",
     "timestamp": 1624282389049,
     "user": {
      "displayName": "JKB Education Group",
      "photoUrl": "https://lh3.googleusercontent.com/a-/AOh14GgVDrkOo8zlABzYRCOJhHRgcLuJkkBySrHWd8n5sQ=s64",
      "userId": "04362346289210947166"
     },
     "user_tz": -330
    },
    "id": "XPRanVq6k07n",
    "outputId": "23eba08a-a2b8-4b5f-af3f-0e452c26ba29",
    "scrolled": false
   },
   "outputs": [
    {
     "name": "stdout",
     "output_type": "stream",
     "text": [
      "[[[0.41117393 0.09288245 0.81632723 0.13114693]\n",
      "  [0.0882312  0.36808019 0.02284409 0.37442682]\n",
      "  [0.6562185  0.01579776 0.7453767  0.75338106]\n",
      "  [0.27127701 0.80546745 0.48992999 0.06768014]\n",
      "  [0.56587411 0.4133055  0.33546775 0.96410304]\n",
      "  [0.91935842 0.14104538 0.91162853 0.54339694]\n",
      "  [0.17501499 0.37759294 0.18485919 0.44622604]\n",
      "  [0.47893632 0.08342001 0.89193221 0.56939813]\n",
      "  [0.83625434 0.65926922 0.2328728  0.56288284]\n",
      "  [0.68756041 0.87386306 0.11354758 0.84425563]]\n",
      "\n",
      " [[0.67446469 0.56259138 0.2512961  0.55181421]\n",
      "  [0.08289145 0.88668121 0.83210412 0.43036911]\n",
      "  [0.55626191 0.01620583 0.82821436 0.65963154]\n",
      "  [0.26272842 0.19811873 0.10314968 0.57197235]\n",
      "  [0.3503785  0.05319808 0.56472508 0.4881179 ]\n",
      "  [0.74240805 0.88627658 0.62740472 0.44525859]\n",
      "  [0.32292601 0.01007856 0.5320702  0.36375172]\n",
      "  [0.93250806 0.65382649 0.48665715 0.91281992]\n",
      "  [0.7911887  0.13305446 0.9353591  0.36523825]\n",
      "  [0.39779114 0.64512516 0.8796501  0.41842011]]\n",
      "\n",
      " [[0.28714624 0.8118639  0.4776902  0.6375251 ]\n",
      "  [0.80382144 0.84455063 0.78814165 0.14341343]\n",
      "  [0.58921586 0.71304635 0.6247769  0.47023192]\n",
      "  [0.39594074 0.70368074 0.82948201 0.861254  ]\n",
      "  [0.77411837 0.44008776 0.10730375 0.86139995]\n",
      "  [0.75809891 0.86390829 0.87760262 0.630129  ]\n",
      "  [0.45019473 0.98642198 0.25977707 0.42830214]\n",
      "  [0.06183208 0.85982998 0.88425363 0.7201033 ]\n",
      "  [0.36597675 0.50828035 0.62735677 0.70377326]\n",
      "  [0.43157771 0.12332512 0.27786938 0.14775363]]] (3, 10, 4)\n"
     ]
    }
   ],
   "source": [
    "out1 = np.stack(arrays, axis=1)\n",
    "print(out1, out1.shape)\n",
    "# print(np.stack(arrays, axis=2).shape)"
   ]
  },
  {
   "cell_type": "code",
   "execution_count": 63,
   "metadata": {
    "colab": {
     "base_uri": "https://localhost:8080/"
    },
    "executionInfo": {
     "elapsed": 125,
     "status": "ok",
     "timestamp": 1624282389050,
     "user": {
      "displayName": "JKB Education Group",
      "photoUrl": "https://lh3.googleusercontent.com/a-/AOh14GgVDrkOo8zlABzYRCOJhHRgcLuJkkBySrHWd8n5sQ=s64",
      "userId": "04362346289210947166"
     },
     "user_tz": -330
    },
    "id": "cLacHv2wk0-4",
    "outputId": "ec8634cf-c99c-4c56-90ca-44cb0cdfd2ea"
   },
   "outputs": [
    {
     "name": "stdout",
     "output_type": "stream",
     "text": [
      "[[[0.41117393 0.0882312  0.6562185  0.27127701 0.56587411 0.91935842\n",
      "   0.17501499 0.47893632 0.83625434 0.68756041]\n",
      "  [0.09288245 0.36808019 0.01579776 0.80546745 0.4133055  0.14104538\n",
      "   0.37759294 0.08342001 0.65926922 0.87386306]\n",
      "  [0.81632723 0.02284409 0.7453767  0.48992999 0.33546775 0.91162853\n",
      "   0.18485919 0.89193221 0.2328728  0.11354758]\n",
      "  [0.13114693 0.37442682 0.75338106 0.06768014 0.96410304 0.54339694\n",
      "   0.44622604 0.56939813 0.56288284 0.84425563]]\n",
      "\n",
      " [[0.67446469 0.08289145 0.55626191 0.26272842 0.3503785  0.74240805\n",
      "   0.32292601 0.93250806 0.7911887  0.39779114]\n",
      "  [0.56259138 0.88668121 0.01620583 0.19811873 0.05319808 0.88627658\n",
      "   0.01007856 0.65382649 0.13305446 0.64512516]\n",
      "  [0.2512961  0.83210412 0.82821436 0.10314968 0.56472508 0.62740472\n",
      "   0.5320702  0.48665715 0.9353591  0.8796501 ]\n",
      "  [0.55181421 0.43036911 0.65963154 0.57197235 0.4881179  0.44525859\n",
      "   0.36375172 0.91281992 0.36523825 0.41842011]]\n",
      "\n",
      " [[0.28714624 0.80382144 0.58921586 0.39594074 0.77411837 0.75809891\n",
      "   0.45019473 0.06183208 0.36597675 0.43157771]\n",
      "  [0.8118639  0.84455063 0.71304635 0.70368074 0.44008776 0.86390829\n",
      "   0.98642198 0.85982998 0.50828035 0.12332512]\n",
      "  [0.4776902  0.78814165 0.6247769  0.82948201 0.10730375 0.87760262\n",
      "   0.25977707 0.88425363 0.62735677 0.27786938]\n",
      "  [0.6375251  0.14341343 0.47023192 0.861254   0.86139995 0.630129\n",
      "   0.42830214 0.7201033  0.70377326 0.14775363]]]\n",
      "\n",
      "(3, 4, 10)\n"
     ]
    }
   ],
   "source": [
    "print(np.stack(arrays, axis=2))\n",
    "print()\n",
    "print(np.stack(arrays, axis=2).shape)"
   ]
  },
  {
   "cell_type": "markdown",
   "metadata": {
    "id": "cO5j7Zmbk1KT"
   },
   "source": [
    "### **Adding and removing elements**\n",
    "\n",
    "**1. numpy.delete:--** Return a new array with sub-arrays along an axis deleted. For a one dimensional array, this returns those entries not returned by arr[obj].\n",
    "\n",
    "**2. numpy.insert:--** Insert values along the given axis before the given indices.\n",
    "\n",
    "**3. numpy.append:--** Append values to the end of an array.\n",
    "\n",
    "**Example 5:**\n"
   ]
  },
  {
   "cell_type": "markdown",
   "metadata": {
    "id": "V4koJzjfs6n-"
   },
   "source": [
    "**numpy.delete(arr, obj, axis=None)**\n",
    "\n",
    "axis: The axis along which to delete the subarray defined by obj. If axis is None, obj is applied to the flattened array.\n"
   ]
  },
  {
   "cell_type": "code",
   "execution_count": 65,
   "metadata": {
    "colab": {
     "base_uri": "https://localhost:8080/"
    },
    "executionInfo": {
     "elapsed": 802,
     "status": "ok",
     "timestamp": 1636100058537,
     "user": {
      "displayName": "Hiten Bomble",
      "photoUrl": "https://lh3.googleusercontent.com/a-/AOh14GgMztLjU1PBUNJMZXNduprc-vYMXjn1s5pMLWDSDmk=s64",
      "userId": "11795692511919535177"
     },
     "user_tz": -330
    },
    "id": "QpbWcGzzs6z8",
    "outputId": "bfff824f-bae0-4bae-8bae-f3d3ab076f94"
   },
   "outputs": [
    {
     "data": {
      "text/plain": [
       "array([[ 1,  2,  3,  4],\n",
       "       [ 5,  6,  7,  8],\n",
       "       [ 9, 10, 11, 12]])"
      ]
     },
     "execution_count": 65,
     "metadata": {},
     "output_type": "execute_result"
    }
   ],
   "source": [
    "arr = np.array([[1, 2, 3, 4], [5, 6, 7, 8], [9, 10, 11, 12]])\n",
    "arr"
   ]
  },
  {
   "cell_type": "code",
   "execution_count": 68,
   "metadata": {
    "colab": {
     "base_uri": "https://localhost:8080/"
    },
    "executionInfo": {
     "elapsed": 574,
     "status": "ok",
     "timestamp": 1636100113729,
     "user": {
      "displayName": "Hiten Bomble",
      "photoUrl": "https://lh3.googleusercontent.com/a-/AOh14GgMztLjU1PBUNJMZXNduprc-vYMXjn1s5pMLWDSDmk=s64",
      "userId": "11795692511919535177"
     },
     "user_tz": -330
    },
    "id": "IK5LolW6s6_8",
    "outputId": "978bbcf6-51ca-4996-bdeb-234141c06d59"
   },
   "outputs": [
    {
     "data": {
      "text/plain": [
       "array([[ 1,  2,  4],\n",
       "       [ 5,  6,  8],\n",
       "       [ 9, 10, 12]])"
      ]
     },
     "execution_count": 68,
     "metadata": {},
     "output_type": "execute_result"
    }
   ],
   "source": [
    "# 2 - which axis\n",
    "# 1 - how row/column\n",
    "np.delete(arr, 2, 1)"
   ]
  },
  {
   "cell_type": "markdown",
   "metadata": {
    "id": "KGKiLeyWs7Q8"
   },
   "source": [
    "**numpy.insert(arr, obj, values, axis=None)**\n",
    "\n",
    "axis: Axis along which to insert values. If axis is None then arr is flattened first.\n"
   ]
  },
  {
   "cell_type": "code",
   "execution_count": 69,
   "metadata": {},
   "outputs": [],
   "source": [
    "a = [1, 5, 1, 2, 2, 3, 3]"
   ]
  },
  {
   "cell_type": "code",
   "execution_count": 70,
   "metadata": {
    "colab": {
     "base_uri": "https://localhost:8080/"
    },
    "executionInfo": {
     "elapsed": 115,
     "status": "ok",
     "timestamp": 1624282389054,
     "user": {
      "displayName": "JKB Education Group",
      "photoUrl": "https://lh3.googleusercontent.com/a-/AOh14GgVDrkOo8zlABzYRCOJhHRgcLuJkkBySrHWd8n5sQ=s64",
      "userId": "04362346289210947166"
     },
     "user_tz": -330
    },
    "id": "7HFtgVmrs768",
    "outputId": "e69d959d-c26f-4f04-8f9a-7504ae77b0de"
   },
   "outputs": [
    {
     "data": {
      "text/plain": [
       "array([[1, 1],\n",
       "       [2, 2],\n",
       "       [3, 3]])"
      ]
     },
     "execution_count": 70,
     "metadata": {},
     "output_type": "execute_result"
    }
   ],
   "source": [
    "a = np.array([[1, 1], [2, 2], [3, 3]])\n",
    "a"
   ]
  },
  {
   "cell_type": "code",
   "execution_count": 73,
   "metadata": {
    "colab": {
     "base_uri": "https://localhost:8080/"
    },
    "executionInfo": {
     "elapsed": 110,
     "status": "ok",
     "timestamp": 1624282389054,
     "user": {
      "displayName": "JKB Education Group",
      "photoUrl": "https://lh3.googleusercontent.com/a-/AOh14GgVDrkOo8zlABzYRCOJhHRgcLuJkkBySrHWd8n5sQ=s64",
      "userId": "04362346289210947166"
     },
     "user_tz": -330
    },
    "id": "j508cqRCs7-i",
    "outputId": "e54f774c-0414-45eb-b3f0-ca75c906e3b7"
   },
   "outputs": [
    {
     "data": {
      "text/plain": [
       "array([[1, 5, 1],\n",
       "       [2, 5, 2],\n",
       "       [3, 5, 3]])"
      ]
     },
     "execution_count": 73,
     "metadata": {},
     "output_type": "execute_result"
    }
   ],
   "source": [
    "np.insert(a, 1, 5, axis=1)"
   ]
  },
  {
   "cell_type": "code",
   "execution_count": 85,
   "metadata": {
    "colab": {
     "base_uri": "https://localhost:8080/"
    },
    "executionInfo": {
     "elapsed": 107,
     "status": "ok",
     "timestamp": 1624282389055,
     "user": {
      "displayName": "JKB Education Group",
      "photoUrl": "https://lh3.googleusercontent.com/a-/AOh14GgVDrkOo8zlABzYRCOJhHRgcLuJkkBySrHWd8n5sQ=s64",
      "userId": "04362346289210947166"
     },
     "user_tz": -330
    },
    "id": "A9IvHSGBuG0H",
    "outputId": "4b2be975-d0ae-43d3-9a26-7f5eb4a2517b"
   },
   "outputs": [
    {
     "data": {
      "text/plain": [
       "array([[1, 1],\n",
       "       [5, 5],\n",
       "       [2, 2],\n",
       "       [3, 3]])"
      ]
     },
     "execution_count": 85,
     "metadata": {},
     "output_type": "execute_result"
    }
   ],
   "source": [
    "np.insert(a, 1, 5, axis=0)"
   ]
  },
  {
   "cell_type": "code",
   "execution_count": 80,
   "metadata": {
    "colab": {
     "base_uri": "https://localhost:8080/"
    },
    "executionInfo": {
     "elapsed": 103,
     "status": "ok",
     "timestamp": 1624282389055,
     "user": {
      "displayName": "JKB Education Group",
      "photoUrl": "https://lh3.googleusercontent.com/a-/AOh14GgVDrkOo8zlABzYRCOJhHRgcLuJkkBySrHWd8n5sQ=s64",
      "userId": "04362346289210947166"
     },
     "user_tz": -330
    },
    "id": "V0QwCg9St2kN",
    "outputId": "0553067e-ce47-4fe8-b146-9956600395e6"
   },
   "outputs": [
    {
     "data": {
      "text/plain": [
       "array([[1, 1, 1],\n",
       "       [2, 2, 2],\n",
       "       [3, 3, 3]])"
      ]
     },
     "execution_count": 80,
     "metadata": {},
     "output_type": "execute_result"
    }
   ],
   "source": [
    "np.insert(a, [1], [[1], [2], [3]], axis=1)"
   ]
  },
  {
   "cell_type": "markdown",
   "metadata": {
    "id": "PyeU-PBos8HI"
   },
   "source": [
    "**numpy.append(arr, values, axis=None)**\n"
   ]
  },
  {
   "cell_type": "code",
   "execution_count": 74,
   "metadata": {
    "colab": {
     "base_uri": "https://localhost:8080/"
    },
    "executionInfo": {
     "elapsed": 561,
     "status": "ok",
     "timestamp": 1636100668243,
     "user": {
      "displayName": "Hiten Bomble",
      "photoUrl": "https://lh3.googleusercontent.com/a-/AOh14GgMztLjU1PBUNJMZXNduprc-vYMXjn1s5pMLWDSDmk=s64",
      "userId": "11795692511919535177"
     },
     "user_tz": -330
    },
    "id": "4REizizus8kG",
    "outputId": "320b9288-6d7e-4b37-a680-3da78623eea6"
   },
   "outputs": [
    {
     "data": {
      "text/plain": [
       "array([[1, 2, 3],\n",
       "       [4, 5, 6],\n",
       "       [7, 8, 9]])"
      ]
     },
     "execution_count": 74,
     "metadata": {},
     "output_type": "execute_result"
    }
   ],
   "source": [
    "x = [[1, 2, 3], [4, 5, 6]]\n",
    "np.append(x, [[7, 8, 9]], axis=0)"
   ]
  },
  {
   "cell_type": "code",
   "execution_count": 75,
   "metadata": {
    "id": "055PYvM8s8nj"
   },
   "outputs": [
    {
     "ename": "ValueError",
     "evalue": "all the input arrays must have same number of dimensions, but the array at index 0 has 2 dimension(s) and the array at index 1 has 1 dimension(s)",
     "output_type": "error",
     "traceback": [
      "\u001b[0;31m---------------------------------------------------------------------------\u001b[0m",
      "\u001b[0;31mValueError\u001b[0m                                Traceback (most recent call last)",
      "Cell \u001b[0;32mIn[75], line 1\u001b[0m\n\u001b[0;32m----> 1\u001b[0m \u001b[43mnp\u001b[49m\u001b[38;5;241;43m.\u001b[39;49m\u001b[43mappend\u001b[49m\u001b[43m(\u001b[49m\u001b[43m[\u001b[49m\u001b[43m[\u001b[49m\u001b[38;5;241;43m1\u001b[39;49m\u001b[43m,\u001b[49m\u001b[43m \u001b[49m\u001b[38;5;241;43m2\u001b[39;49m\u001b[43m,\u001b[49m\u001b[43m \u001b[49m\u001b[38;5;241;43m3\u001b[39;49m\u001b[43m]\u001b[49m\u001b[43m,\u001b[49m\u001b[43m \u001b[49m\u001b[43m[\u001b[49m\u001b[38;5;241;43m4\u001b[39;49m\u001b[43m,\u001b[49m\u001b[43m \u001b[49m\u001b[38;5;241;43m5\u001b[39;49m\u001b[43m,\u001b[49m\u001b[43m \u001b[49m\u001b[38;5;241;43m6\u001b[39;49m\u001b[43m]\u001b[49m\u001b[43m]\u001b[49m\u001b[43m,\u001b[49m\u001b[43m \u001b[49m\u001b[43m[\u001b[49m\u001b[38;5;241;43m7\u001b[39;49m\u001b[43m,\u001b[49m\u001b[43m \u001b[49m\u001b[38;5;241;43m8\u001b[39;49m\u001b[43m,\u001b[49m\u001b[43m \u001b[49m\u001b[38;5;241;43m9\u001b[39;49m\u001b[43m]\u001b[49m\u001b[43m,\u001b[49m\u001b[43m \u001b[49m\u001b[43maxis\u001b[49m\u001b[38;5;241;43m=\u001b[39;49m\u001b[38;5;241;43m0\u001b[39;49m\u001b[43m)\u001b[49m\n",
      "File \u001b[0;32m~/miniconda3/lib/python3.11/site-packages/numpy/lib/function_base.py:5618\u001b[0m, in \u001b[0;36mappend\u001b[0;34m(arr, values, axis)\u001b[0m\n\u001b[1;32m   5616\u001b[0m     values \u001b[38;5;241m=\u001b[39m ravel(values)\n\u001b[1;32m   5617\u001b[0m     axis \u001b[38;5;241m=\u001b[39m arr\u001b[38;5;241m.\u001b[39mndim\u001b[38;5;241m-\u001b[39m\u001b[38;5;241m1\u001b[39m\n\u001b[0;32m-> 5618\u001b[0m \u001b[38;5;28;01mreturn\u001b[39;00m \u001b[43mconcatenate\u001b[49m\u001b[43m(\u001b[49m\u001b[43m(\u001b[49m\u001b[43marr\u001b[49m\u001b[43m,\u001b[49m\u001b[43m \u001b[49m\u001b[43mvalues\u001b[49m\u001b[43m)\u001b[49m\u001b[43m,\u001b[49m\u001b[43m \u001b[49m\u001b[43maxis\u001b[49m\u001b[38;5;241;43m=\u001b[39;49m\u001b[43maxis\u001b[49m\u001b[43m)\u001b[49m\n",
      "\u001b[0;31mValueError\u001b[0m: all the input arrays must have same number of dimensions, but the array at index 0 has 2 dimension(s) and the array at index 1 has 1 dimension(s)"
     ]
    }
   ],
   "source": [
    "np.append([[1, 2, 3], [4, 5, 6]], [7, 8, 9], axis=0)"
   ]
  },
  {
   "cell_type": "markdown",
   "metadata": {
    "id": "TV9IIGBez945"
   },
   "source": [
    "## ignore\n",
    "\n",
    "### **NumPy Linear Algebra**\n",
    "\n",
    "The Linear Algebra module of NumPy offers various methods to apply linear algebra on any numpy array.\n",
    "\n",
    "**One can find:**\n",
    "\n",
    "- rank, determinant, trace, etc. of an array.\n",
    "- eigen values of matrices\n",
    "- matrix and vector products (dot, inner, outer,etc. product), matrix exponentiation\n",
    "- solve linear or tensor equations and much more!\n",
    "\n",
    "#### **Matrix and vector products**\n",
    "\n",
    "**1. numpy.dot:--** Dot product of two arrays.\n",
    "\n",
    "**2. numpy.linalg.multi_dot:--** Compute the dot product of two or more arrays in a single function call, while automatically selecting the fastest evaluation order.\n",
    "\n",
    "**3. numpy.vdot:--** Return the dot product of two vectors.\n",
    "\n",
    "**4. numpy.inner:--** Inner product of two arrays. Ordinary inner product of vectors for 1-D arrays (without complex conjugation), in higher dimensions a sum product over the last axes.\n",
    "\n",
    "**5. numpy.outer:--** Compute the outer product of two vectors.\n",
    "\n",
    "Given two vectors, **a = [a0, a1, ..., aM]** and **b = [b0, b1, ..., bN]**, the outer product is:\n",
    "\n",
    "```\n",
    "[[a0*b0  a0*b1 ... a0*bN ]\n",
    " [a1*b0    .\n",
    " [ ...          .\n",
    " [aM*b0            aM*bN ]]\n",
    "```\n",
    "\n",
    "**6. numpy.matmul:--** Matrix product of two arrays.\n",
    "\n",
    "**Example 1:**\n"
   ]
  },
  {
   "cell_type": "markdown",
   "metadata": {
    "id": "FiJhGmMEkpOt"
   },
   "source": [
    "**numpy.dot(a, b, out=None)**\n",
    "\n",
    "Raises\n",
    "**ValueError**\n",
    "If the last dimension of a is not the same size as the second-to-last dimension of b.\n"
   ]
  },
  {
   "cell_type": "code",
   "execution_count": 76,
   "metadata": {
    "colab": {
     "base_uri": "https://localhost:8080/"
    },
    "executionInfo": {
     "elapsed": 690,
     "status": "ok",
     "timestamp": 1624282418546,
     "user": {
      "displayName": "JKB Education Group",
      "photoUrl": "https://lh3.googleusercontent.com/a-/AOh14GgVDrkOo8zlABzYRCOJhHRgcLuJkkBySrHWd8n5sQ=s64",
      "userId": "04362346289210947166"
     },
     "user_tz": -330
    },
    "id": "ypAj7Y2UlFEd",
    "outputId": "b3a98c12-087b-4e04-cd2f-7c607b8f63ea"
   },
   "outputs": [
    {
     "name": "stdout",
     "output_type": "stream",
     "text": [
      "12\n",
      "13\n"
     ]
    }
   ],
   "source": [
    "print(np.dot(3, 4))\n",
    "print(np.dot([2, 3], [2, 3]))"
   ]
  },
  {
   "cell_type": "code",
   "execution_count": 78,
   "metadata": {
    "colab": {
     "base_uri": "https://localhost:8080/"
    },
    "executionInfo": {
     "elapsed": 12,
     "status": "ok",
     "timestamp": 1624282418547,
     "user": {
      "displayName": "JKB Education Group",
      "photoUrl": "https://lh3.googleusercontent.com/a-/AOh14GgVDrkOo8zlABzYRCOJhHRgcLuJkkBySrHWd8n5sQ=s64",
      "userId": "04362346289210947166"
     },
     "user_tz": -330
    },
    "id": "bCmK1ak1lFKH",
    "outputId": "d05aa107-9e9d-4fd8-8478-fb84ab1bba88"
   },
   "outputs": [
    {
     "data": {
      "text/plain": [
       "array([[4, 1],\n",
       "       [2, 2]])"
      ]
     },
     "execution_count": 78,
     "metadata": {},
     "output_type": "execute_result"
    }
   ],
   "source": [
    "a = [[1, 0], [0, 1]]\n",
    "b = [[4, 1], [2, 2]]\n",
    "np.dot(a, b)"
   ]
  },
  {
   "cell_type": "code",
   "execution_count": null,
   "metadata": {
    "colab": {
     "base_uri": "https://localhost:8080/"
    },
    "executionInfo": {
     "elapsed": 527,
     "status": "ok",
     "timestamp": 1624282420776,
     "user": {
      "displayName": "JKB Education Group",
      "photoUrl": "https://lh3.googleusercontent.com/a-/AOh14GgVDrkOo8zlABzYRCOJhHRgcLuJkkBySrHWd8n5sQ=s64",
      "userId": "04362346289210947166"
     },
     "user_tz": -330
    },
    "id": "pHd7hMgwlFO0",
    "outputId": "0f8f6b4d-b652-4989-828c-67415c91caa4"
   },
   "outputs": [
    {
     "data": {
      "text/plain": [
       "499128"
      ]
     },
     "execution_count": 56,
     "metadata": {
      "tags": []
     },
     "output_type": "execute_result"
    }
   ],
   "source": [
    "a = np.arange(3 * 4 * 5 * 6).reshape((3, 4, 5, 6))\n",
    "b = np.arange(3 * 4 * 5 * 6)[::-1].reshape((5, 4, 6, 3))\n",
    "np.dot(a, b)[2, 3, 2, 1, 2, 2]"
   ]
  },
  {
   "cell_type": "markdown",
   "metadata": {
    "id": "MzxV1HLllFXe"
   },
   "source": [
    "**numpy.linalg.multi_dot(arrays, \\*, out=None)**\n"
   ]
  },
  {
   "cell_type": "code",
   "execution_count": 79,
   "metadata": {
    "colab": {
     "base_uri": "https://localhost:8080/"
    },
    "executionInfo": {
     "elapsed": 5,
     "status": "ok",
     "timestamp": 1624282421901,
     "user": {
      "displayName": "JKB Education Group",
      "photoUrl": "https://lh3.googleusercontent.com/a-/AOh14GgVDrkOo8zlABzYRCOJhHRgcLuJkkBySrHWd8n5sQ=s64",
      "userId": "04362346289210947166"
     },
     "user_tz": -330
    },
    "id": "iXnjgcAKlFeb",
    "outputId": "2c063121-1a5f-42d5-da2f-236144b7ff04"
   },
   "outputs": [
    {
     "name": "stdout",
     "output_type": "stream",
     "text": [
      "[[17.90823495 17.39484665]\n",
      " [18.87874951 18.32104311]\n",
      " [21.88582943 21.2577101 ]\n",
      " [22.51283124 22.10582949]\n",
      " [17.55226946 17.24789444]\n",
      " [16.24712687 15.96851089]\n",
      " [14.81762439 14.42752387]\n",
      " [14.47251634 14.15660414]\n",
      " [17.20095817 16.9369507 ]\n",
      " [21.47350097 20.96062714]\n",
      " [22.15847986 21.77888951]\n",
      " [14.82060748 14.54702486]\n",
      " [20.78183986 20.31704332]\n",
      " [14.46793193 13.97839963]\n",
      " [24.2457535  23.57723923]\n",
      " [28.37922771 27.54928157]\n",
      " [22.37970428 21.9303718 ]\n",
      " [19.35632554 18.95671722]\n",
      " [22.99512373 22.56209736]\n",
      " [14.38095726 14.00771746]]\n"
     ]
    }
   ],
   "source": [
    "from numpy.linalg import multi_dot\n",
    "\n",
    "# Prepare some data\n",
    "A = np.random.random((20, 10))\n",
    "B = np.random.random((10, 7))\n",
    "C = np.random.random((7, 5))\n",
    "D = np.random.random((5, 2))\n",
    "\n",
    "# the actual dot multiplication\n",
    "result = multi_dot([A, B, C, D])\n",
    "print(result)"
   ]
  },
  {
   "cell_type": "markdown",
   "metadata": {
    "id": "HB9G2A0RlFvp"
   },
   "source": [
    "**numpy.vdot(a, b)**\n"
   ]
  },
  {
   "cell_type": "code",
   "execution_count": 80,
   "metadata": {
    "colab": {
     "base_uri": "https://localhost:8080/"
    },
    "executionInfo": {
     "elapsed": 5,
     "status": "ok",
     "timestamp": 1624282424570,
     "user": {
      "displayName": "JKB Education Group",
      "photoUrl": "https://lh3.googleusercontent.com/a-/AOh14GgVDrkOo8zlABzYRCOJhHRgcLuJkkBySrHWd8n5sQ=s64",
      "userId": "04362346289210947166"
     },
     "user_tz": -330
    },
    "id": "NCUJ0KsQlF2m",
    "outputId": "89e4fed0-a889-4be7-d8c2-16f42a23222e"
   },
   "outputs": [
    {
     "data": {
      "text/plain": [
       "(70-8j)"
      ]
     },
     "execution_count": 80,
     "metadata": {},
     "output_type": "execute_result"
    }
   ],
   "source": [
    "a = np.array([1 + 2j, 3 + 4j])\n",
    "b = np.array([5 + 6j, 7 + 8j])\n",
    "np.vdot(a, b)"
   ]
  },
  {
   "cell_type": "code",
   "execution_count": null,
   "metadata": {
    "colab": {
     "base_uri": "https://localhost:8080/"
    },
    "executionInfo": {
     "elapsed": 4,
     "status": "ok",
     "timestamp": 1624282425314,
     "user": {
      "displayName": "JKB Education Group",
      "photoUrl": "https://lh3.googleusercontent.com/a-/AOh14GgVDrkOo8zlABzYRCOJhHRgcLuJkkBySrHWd8n5sQ=s64",
      "userId": "04362346289210947166"
     },
     "user_tz": -330
    },
    "id": "9pvMiQpxlF6p",
    "outputId": "bef3801e-a98c-4118-9b41-7e0fb39c5719"
   },
   "outputs": [
    {
     "data": {
      "text/plain": [
       "30"
      ]
     },
     "execution_count": 59,
     "metadata": {
      "tags": []
     },
     "output_type": "execute_result"
    }
   ],
   "source": [
    "a = np.array([[1, 4], [5, 6]])\n",
    "b = np.array([[4, 1], [2, 2]])\n",
    "np.vdot(a, b)"
   ]
  },
  {
   "cell_type": "markdown",
   "metadata": {
    "id": "uBPUuzn4lGFs"
   },
   "source": [
    "**numpy.inner(a, b)**\n",
    "\n",
    "out.shape = a.shape[:-1] + b.shape[:-1]\n"
   ]
  },
  {
   "cell_type": "code",
   "execution_count": 81,
   "metadata": {
    "colab": {
     "base_uri": "https://localhost:8080/"
    },
    "executionInfo": {
     "elapsed": 706,
     "status": "ok",
     "timestamp": 1624282427474,
     "user": {
      "displayName": "JKB Education Group",
      "photoUrl": "https://lh3.googleusercontent.com/a-/AOh14GgVDrkOo8zlABzYRCOJhHRgcLuJkkBySrHWd8n5sQ=s64",
      "userId": "04362346289210947166"
     },
     "user_tz": -330
    },
    "id": "Ml1CminllGOR",
    "outputId": "d24941b9-eaac-4a00-d924-1e9b44154ce3"
   },
   "outputs": [
    {
     "name": "stdout",
     "output_type": "stream",
     "text": [
      "(3,)\n",
      "(3,)\n",
      "2 ()\n"
     ]
    }
   ],
   "source": [
    "a = np.array([1, 2, 3])\n",
    "print(a.shape)\n",
    "b = np.array([0, 1, 0])\n",
    "print(b.shape)\n",
    "res = np.inner(a, b)\n",
    "print(res, res.shape)"
   ]
  },
  {
   "cell_type": "code",
   "execution_count": 82,
   "metadata": {
    "colab": {
     "base_uri": "https://localhost:8080/"
    },
    "executionInfo": {
     "elapsed": 7,
     "status": "ok",
     "timestamp": 1624282427475,
     "user": {
      "displayName": "JKB Education Group",
      "photoUrl": "https://lh3.googleusercontent.com/a-/AOh14GgVDrkOo8zlABzYRCOJhHRgcLuJkkBySrHWd8n5sQ=s64",
      "userId": "04362346289210947166"
     },
     "user_tz": -330
    },
    "id": "KACySZiIlGR7",
    "outputId": "31149038-79ab-4001-cdcb-cbe9fa717944"
   },
   "outputs": [
    {
     "name": "stdout",
     "output_type": "stream",
     "text": [
      "[[[ 0  1]\n",
      "  [ 2  3]\n",
      "  [ 4  5]]\n",
      "\n",
      " [[ 6  7]\n",
      "  [ 8  9]\n",
      "  [10 11]]]\n",
      "\n",
      "[0 1]\n",
      "\n",
      "[[ 1  3  5]\n",
      " [ 7  9 11]]\n"
     ]
    }
   ],
   "source": [
    "a = np.arange(12).reshape((2, 3, 2))\n",
    "print(a)\n",
    "print()\n",
    "\n",
    "b = np.arange(2)\n",
    "print(b)\n",
    "print()\n",
    "\n",
    "print(np.inner(a, b))"
   ]
  },
  {
   "cell_type": "markdown",
   "metadata": {
    "id": "MkIrZn4HlGYk"
   },
   "source": [
    "**numpy.outer(a, b)**\n"
   ]
  },
  {
   "cell_type": "code",
   "execution_count": 83,
   "metadata": {},
   "outputs": [
    {
     "data": {
      "text/plain": [
       "array([-2., -1.,  0.,  1.,  2.])"
      ]
     },
     "execution_count": 83,
     "metadata": {},
     "output_type": "execute_result"
    }
   ],
   "source": [
    "np.linspace(-2, 2, 5)"
   ]
  },
  {
   "cell_type": "code",
   "execution_count": 84,
   "metadata": {
    "colab": {
     "base_uri": "https://localhost:8080/"
    },
    "executionInfo": {
     "elapsed": 3,
     "status": "ok",
     "timestamp": 1624282428090,
     "user": {
      "displayName": "JKB Education Group",
      "photoUrl": "https://lh3.googleusercontent.com/a-/AOh14GgVDrkOo8zlABzYRCOJhHRgcLuJkkBySrHWd8n5sQ=s64",
      "userId": "04362346289210947166"
     },
     "user_tz": -330
    },
    "id": "68VSV3CClGef",
    "outputId": "66b96e8f-2b4a-4eb5-9840-553636b96a4f"
   },
   "outputs": [
    {
     "data": {
      "text/plain": [
       "array([[-2., -1.,  0.,  1.,  2.],\n",
       "       [-2., -1.,  0.,  1.,  2.],\n",
       "       [-2., -1.,  0.,  1.,  2.],\n",
       "       [-2., -1.,  0.,  1.,  2.],\n",
       "       [-2., -1.,  0.,  1.,  2.]])"
      ]
     },
     "execution_count": 84,
     "metadata": {},
     "output_type": "execute_result"
    }
   ],
   "source": [
    "np.outer(np.ones((5,)), np.linspace(-2, 2, 5))"
   ]
  },
  {
   "cell_type": "markdown",
   "metadata": {
    "id": "KyCMfGw9lGqV"
   },
   "source": [
    "**numpy.matmul**\n",
    "\n",
    "**ValueError**\n",
    "If the last dimension of a is not the same size as the second-to-last dimension of b.\n"
   ]
  },
  {
   "cell_type": "code",
   "execution_count": 89,
   "metadata": {
    "colab": {
     "base_uri": "https://localhost:8080/"
    },
    "executionInfo": {
     "elapsed": 3,
     "status": "ok",
     "timestamp": 1624282430695,
     "user": {
      "displayName": "JKB Education Group",
      "photoUrl": "https://lh3.googleusercontent.com/a-/AOh14GgVDrkOo8zlABzYRCOJhHRgcLuJkkBySrHWd8n5sQ=s64",
      "userId": "04362346289210947166"
     },
     "user_tz": -330
    },
    "id": "EC-dS2V6lGiR",
    "outputId": "c9e71163-f5ec-43ed-8902-d2abebc27f22"
   },
   "outputs": [
    {
     "data": {
      "text/plain": [
       "(9, 5, 7, 9, 5, 3)"
      ]
     },
     "execution_count": 89,
     "metadata": {},
     "output_type": "execute_result"
    }
   ],
   "source": [
    "a = np.ones([9, 5, 7, 4])\n",
    "c = np.ones([9, 5, 4, 3])\n",
    "np.dot(a, c).shape"
   ]
  },
  {
   "cell_type": "code",
   "execution_count": 90,
   "metadata": {
    "colab": {
     "base_uri": "https://localhost:8080/"
    },
    "executionInfo": {
     "elapsed": 5,
     "status": "ok",
     "timestamp": 1624282431184,
     "user": {
      "displayName": "JKB Education Group",
      "photoUrl": "https://lh3.googleusercontent.com/a-/AOh14GgVDrkOo8zlABzYRCOJhHRgcLuJkkBySrHWd8n5sQ=s64",
      "userId": "04362346289210947166"
     },
     "user_tz": -330
    },
    "id": "xFLV14hrlGMM",
    "outputId": "4c5b8cce-f40f-456d-9aad-59ac528fad83"
   },
   "outputs": [
    {
     "data": {
      "text/plain": [
       "array([[4, 1],\n",
       "       [2, 2]])"
      ]
     },
     "execution_count": 90,
     "metadata": {},
     "output_type": "execute_result"
    }
   ],
   "source": [
    "a = np.array([[1, 0], [0, 1]])\n",
    "b = np.array([[4, 1], [2, 2]])\n",
    "np.matmul(a, b)"
   ]
  },
  {
   "cell_type": "markdown",
   "metadata": {
    "id": "yQGD3Yu1qihK"
   },
   "source": [
    "### **Matrix eigenvalues**\n",
    "\n",
    "**1. numpy.linalg.eig:--** Compute the eigenvalues and right eigenvectors of a square array.\n",
    "\n",
    "**2. numpy.linalg.eigh:--** Return the eigenvalues and eigenvectors of a complex Hermitian (conjugate symmetric) or a real symmetric matrix. Returns two objects, a 1-D array containing the eigenvalues of a, and a 2-D square array or matrix (depending on the input type) of the corresponding eigenvectors (in columns).\n",
    "\n",
    "**3. numpy.linalg.eigvals:--** Compute the eigenvalues of a general matrix.\n",
    "\n",
    "**4. numpy.linalg.eigvalsh:--** Compute the eigenvalues of a complex Hermitian or real symmetric matrix.\n",
    "\n",
    "**Example 2:**\n"
   ]
  },
  {
   "cell_type": "markdown",
   "metadata": {
    "id": "DHn-nh7OuBM8"
   },
   "source": [
    "**numpy.linalg.eig(a)**\n"
   ]
  },
  {
   "cell_type": "code",
   "execution_count": null,
   "metadata": {
    "colab": {
     "base_uri": "https://localhost:8080/"
    },
    "executionInfo": {
     "elapsed": 10,
     "status": "ok",
     "timestamp": 1624282432723,
     "user": {
      "displayName": "JKB Education Group",
      "photoUrl": "https://lh3.googleusercontent.com/a-/AOh14GgVDrkOo8zlABzYRCOJhHRgcLuJkkBySrHWd8n5sQ=s64",
      "userId": "04362346289210947166"
     },
     "user_tz": -330
    },
    "id": "nRe6sr6i0WRh",
    "outputId": "a064e1ff-2319-4dd5-f617-a5fbfa4efe35"
   },
   "outputs": [
    {
     "name": "stdout",
     "output_type": "stream",
     "text": [
      "[[ 0.63873273  2.08129531]\n",
      " [-0.13162044  0.91463705]] \n",
      "\n",
      "[0.77668489+0.50488634j 0.77668489-0.50488634j]\n",
      "\n",
      "[[0.96980499+0.j         0.96980499-0.j        ]\n",
      " [0.06428049+0.23525796j 0.06428049-0.23525796j]]\n"
     ]
    }
   ],
   "source": [
    "from numpy import linalg as la\n",
    "\n",
    "a = np.random.randn(2, 2)\n",
    "print(a, \"\\n\")\n",
    "eigen_vals, eigen_vects = la.eig(a)\n",
    "\n",
    "print(eigen_vals)\n",
    "print()\n",
    "print(eigen_vects)"
   ]
  },
  {
   "cell_type": "markdown",
   "metadata": {
    "id": "_GwTeSVcuCFn"
   },
   "source": [
    "**numpy.linalg.eigh(a)**\n"
   ]
  },
  {
   "cell_type": "code",
   "execution_count": null,
   "metadata": {
    "colab": {
     "base_uri": "https://localhost:8080/"
    },
    "executionInfo": {
     "elapsed": 4,
     "status": "ok",
     "timestamp": 1624282435301,
     "user": {
      "displayName": "JKB Education Group",
      "photoUrl": "https://lh3.googleusercontent.com/a-/AOh14GgVDrkOo8zlABzYRCOJhHRgcLuJkkBySrHWd8n5sQ=s64",
      "userId": "04362346289210947166"
     },
     "user_tz": -330
    },
    "id": "fHtsOk77uCOC",
    "outputId": "0ebd7a69-f35d-4f1b-bdd0-4bfaf2502019"
   },
   "outputs": [
    {
     "name": "stdout",
     "output_type": "stream",
     "text": [
      "[[ 1.+0.j -0.-2.j]\n",
      " [ 0.+2.j  5.+0.j]] \n",
      "\n",
      "[0.17157288 5.82842712]\n",
      "\n",
      "[[-0.92387953+0.j         -0.38268343+0.j        ]\n",
      " [ 0.        +0.38268343j  0.        -0.92387953j]]\n"
     ]
    }
   ],
   "source": [
    "from numpy import linalg as la\n",
    "\n",
    "a = np.array([[1, -2j], [2j, 5]])\n",
    "print(a, \"\\n\")\n",
    "eigen_vals, eigen_vects = la.eigh(a)\n",
    "\n",
    "print(eigen_vals)\n",
    "print()\n",
    "print(eigen_vects)"
   ]
  },
  {
   "cell_type": "markdown",
   "metadata": {
    "id": "6ZmwTpAvuCYw"
   },
   "source": [
    "**numpy.linalg.eigvals(a)**\n",
    "\n",
    "Main difference between eigvals and eig: the eigenvectors aren’t returned.\n"
   ]
  },
  {
   "cell_type": "code",
   "execution_count": null,
   "metadata": {
    "colab": {
     "base_uri": "https://localhost:8080/"
    },
    "executionInfo": {
     "elapsed": 562,
     "status": "ok",
     "timestamp": 1624282438901,
     "user": {
      "displayName": "JKB Education Group",
      "photoUrl": "https://lh3.googleusercontent.com/a-/AOh14GgVDrkOo8zlABzYRCOJhHRgcLuJkkBySrHWd8n5sQ=s64",
      "userId": "04362346289210947166"
     },
     "user_tz": -330
    },
    "id": "l_HVK9sruCeG",
    "outputId": "2288e264-cca2-4b53-c0eb-e0471765eedb"
   },
   "outputs": [
    {
     "name": "stdout",
     "output_type": "stream",
     "text": [
      "[[-0.06227234 -0.36712736]\n",
      " [ 1.62956979  0.15919536]] \n",
      "\n"
     ]
    },
    {
     "data": {
      "text/plain": [
       "array([0.04846151+0.76550484j, 0.04846151-0.76550484j])"
      ]
     },
     "execution_count": 68,
     "metadata": {
      "tags": []
     },
     "output_type": "execute_result"
    }
   ],
   "source": [
    "a = np.random.randn(2, 2)\n",
    "print(a, \"\\n\")\n",
    "la.eigvals(a)"
   ]
  },
  {
   "cell_type": "markdown",
   "metadata": {
    "id": "0PDxH8RCuCnb"
   },
   "source": [
    "**numpy.linalg.eigvalsh(a)**\n",
    "\n",
    "Main difference from eigh: the eigenvectors are not computed.\n"
   ]
  },
  {
   "cell_type": "code",
   "execution_count": null,
   "metadata": {
    "colab": {
     "base_uri": "https://localhost:8080/"
    },
    "executionInfo": {
     "elapsed": 685,
     "status": "ok",
     "timestamp": 1624282437895,
     "user": {
      "displayName": "JKB Education Group",
      "photoUrl": "https://lh3.googleusercontent.com/a-/AOh14GgVDrkOo8zlABzYRCOJhHRgcLuJkkBySrHWd8n5sQ=s64",
      "userId": "04362346289210947166"
     },
     "user_tz": -330
    },
    "id": "eAidmJ8tuCwa",
    "outputId": "c8a53fa2-8646-4d91-966c-0239f6bf9f2a"
   },
   "outputs": [
    {
     "name": "stdout",
     "output_type": "stream",
     "text": [
      "[[ 1.+0.j -0.-2.j]\n",
      " [ 0.+2.j  5.+0.j]] \n",
      "\n"
     ]
    },
    {
     "data": {
      "text/plain": [
       "array([0.17157288, 5.82842712])"
      ]
     },
     "execution_count": 67,
     "metadata": {
      "tags": []
     },
     "output_type": "execute_result"
    }
   ],
   "source": [
    "a = np.array([[1, -2j], [2j, 5]])\n",
    "print(a, \"\\n\")\n",
    "la.eigvalsh(a)"
   ]
  },
  {
   "cell_type": "markdown",
   "metadata": {
    "id": "juXA9PBbuC5v"
   },
   "source": [
    "### **Summary:**\n",
    "\n",
    "Not just linear algebra but many mathematical operations we can perfrom using numpy library and we have studied the way numpy computes the array, creates the array, manipulates the shape, performs mathematical operations on it. After this whenever new concepts will come we will learn more about numpy library contents so that we will better understand where to use what.\n"
   ]
  }
 ],
 "metadata": {
  "colab": {
   "collapsed_sections": [],
   "name": "PYTHON NUMPY",
   "provenance": []
  },
  "kernelspec": {
   "display_name": "base",
   "language": "python",
   "name": "python3"
  },
  "language_info": {
   "codemirror_mode": {
    "name": "ipython",
    "version": 3
   },
   "file_extension": ".py",
   "mimetype": "text/x-python",
   "name": "python",
   "nbconvert_exporter": "python",
   "pygments_lexer": "ipython3",
   "version": "3.11.7"
  }
 },
 "nbformat": 4,
 "nbformat_minor": 1
}
