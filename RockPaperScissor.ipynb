{
 "cells": [
  {
   "cell_type": "code",
   "execution_count": 6,
   "id": "5a63b083-dfc4-432c-a1a5-3e44be4793e2",
   "metadata": {},
   "outputs": [
    {
     "name": "stdin",
     "output_type": "stream",
     "text": [
      "Enter Rock, Paper, or Scissors (or 'quit' to stop):  mskldlksad\n"
     ]
    },
    {
     "name": "stdout",
     "output_type": "stream",
     "text": [
      "Invalid choice!!\n"
     ]
    },
    {
     "name": "stdin",
     "output_type": "stream",
     "text": [
      "Enter Rock, Paper, or Scissors (or 'quit' to stop):  nkcnn\n"
     ]
    },
    {
     "name": "stdout",
     "output_type": "stream",
     "text": [
      "Invalid choice!!\n"
     ]
    },
    {
     "name": "stdin",
     "output_type": "stream",
     "text": [
      "Enter Rock, Paper, or Scissors (or 'quit' to stop):  nknc\n"
     ]
    },
    {
     "name": "stdout",
     "output_type": "stream",
     "text": [
      "Invalid choice!!\n"
     ]
    },
    {
     "name": "stdin",
     "output_type": "stream",
     "text": [
      "Enter Rock, Paper, or Scissors (or 'quit' to stop):  nckln\n"
     ]
    },
    {
     "name": "stdout",
     "output_type": "stream",
     "text": [
      "Invalid choice!!\n"
     ]
    },
    {
     "name": "stdin",
     "output_type": "stream",
     "text": [
      "Enter Rock, Paper, or Scissors (or 'quit' to stop):  rock\n"
     ]
    },
    {
     "name": "stdout",
     "output_type": "stream",
     "text": [
      "You choose :rock\n",
      "AI choses : paper\n",
      "AI won...\n"
     ]
    },
    {
     "name": "stdin",
     "output_type": "stream",
     "text": [
      "Enter Rock, Paper, or Scissors (or 'quit' to stop):  paper\n"
     ]
    },
    {
     "name": "stdout",
     "output_type": "stream",
     "text": [
      "You choose :paper\n",
      "AI choses : scissor\n",
      "AI won...\n"
     ]
    },
    {
     "name": "stdin",
     "output_type": "stream",
     "text": [
      "Enter Rock, Paper, or Scissors (or 'quit' to stop):  paper\n"
     ]
    },
    {
     "name": "stdout",
     "output_type": "stream",
     "text": [
      "You choose :paper\n",
      "AI choses : scissor\n",
      "AI won...\n"
     ]
    },
    {
     "name": "stdin",
     "output_type": "stream",
     "text": [
      "Enter Rock, Paper, or Scissors (or 'quit' to stop):  rock\n"
     ]
    },
    {
     "name": "stdout",
     "output_type": "stream",
     "text": [
      "You choose :rock\n",
      "AI choses : scissor\n",
      "You won...\n"
     ]
    },
    {
     "name": "stdin",
     "output_type": "stream",
     "text": [
      "Enter Rock, Paper, or Scissors (or 'quit' to stop):  paper\n"
     ]
    },
    {
     "name": "stdout",
     "output_type": "stream",
     "text": [
      "You choose :paper\n",
      "AI choses : paper\n",
      "Its a tie...\n"
     ]
    },
    {
     "name": "stdin",
     "output_type": "stream",
     "text": [
      "Enter Rock, Paper, or Scissors (or 'quit' to stop):  rock\n"
     ]
    },
    {
     "name": "stdout",
     "output_type": "stream",
     "text": [
      "You choose :rock\n",
      "AI choses : scissor\n",
      "You won...\n"
     ]
    },
    {
     "name": "stdin",
     "output_type": "stream",
     "text": [
      "Enter Rock, Paper, or Scissors (or 'quit' to stop):  quit\n"
     ]
    }
   ],
   "source": [
    "import numpy as np\n",
    "\n",
    "class RockPaperScissor:\n",
    "    def __init__(self):\n",
    "        self.choices=[\"rock\",\"paper\",\"scissor\"]\n",
    "        self.move_history=[]\n",
    "\n",
    "    def make_prediction(self):\n",
    "        if len(self.move_history)<2 :\n",
    "            return np.random.choice(self.choices)\n",
    "        return self.counter_move(self.move_history[-1])\n",
    "\n",
    "    def update_history(self,user_choice):\n",
    "        if len(self.move_history)<2:\n",
    "            self.move_history.append(user_choice)\n",
    "        else :\n",
    "            self.move_history.pop(0)\n",
    "            self.move_history.append(user_choice)\n",
    "\n",
    "    def counter_move(self,user_move):\n",
    "        counter={\"rock\":\"paper\",\"paper\":\"scissor\",\"scissor\":\"rock\"}\n",
    "        return counter[user_move]\n",
    "\n",
    "    def play(self,user_input):\n",
    "        predicted=ai.make_prediction()\n",
    "        self.update_history(user_input)\n",
    "        print(f\"You choose :{user_input}\")\n",
    "        print(f\"AI choses : {predicted}\")\n",
    "        if predicted==self.counter_move(user_input):\n",
    "            print(\"AI won...\")\n",
    "        elif predicted==user_input:\n",
    "            print(\"Its a tie...\")\n",
    "        else :\n",
    "            print(\"You won...\")\n",
    "\n",
    "\n",
    "ai=RockPaperScissor()\n",
    "while True:\n",
    "    user_input=input(\"Enter Rock, Paper, or Scissors (or 'quit' to stop): \").lower()\n",
    "    if user_input==\"quit\":\n",
    "        break\n",
    "    if user_input not in [\"rock\",\"paper\",\"scissor\"]:\n",
    "        print(\"Invalid choice!!\")\n",
    "        continue\n",
    "    ai_choice=ai.play(user_input)\n",
    "\n",
    "        \n",
    "    "
   ]
  },
  {
   "cell_type": "code",
   "execution_count": 1,
   "id": "efe8fbd7-f4f9-42c4-a073-fa0e2eb830a8",
   "metadata": {},
   "outputs": [
    {
     "data": {
      "text/plain": [
       "'1'"
      ]
     },
     "execution_count": 1,
     "metadata": {},
     "output_type": "execute_result"
    }
   ],
   "source": [
    "a={1:\"1\",2:\"khuhs\"}\n",
    "a[1]"
   ]
  },
  {
   "cell_type": "code",
   "execution_count": null,
   "id": "97b2d3dd-d908-4adc-861c-54b519fa3898",
   "metadata": {},
   "outputs": [],
   "source": []
  },
  {
   "cell_type": "code",
   "execution_count": null,
   "id": "4be5396f",
   "metadata": {},
   "outputs": [],
   "source": []
  }
 ],
 "metadata": {
  "kernelspec": {
   "display_name": "Python 3 (ipykernel)",
   "language": "python",
   "name": "python3"
  },
  "language_info": {
   "codemirror_mode": {
    "name": "ipython",
    "version": 3
   },
   "file_extension": ".py",
   "mimetype": "text/x-python",
   "name": "python",
   "nbconvert_exporter": "python",
   "pygments_lexer": "ipython3",
   "version": "3.11.7"
  }
 },
 "nbformat": 4,
 "nbformat_minor": 5
}
