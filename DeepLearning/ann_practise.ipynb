{
 "cells": [
  {
   "cell_type": "code",
   "execution_count": 785,
   "id": "1da6fb5d",
   "metadata": {},
   "outputs": [],
   "source": [
    "import torch\n",
    "import numpy as np\n",
    "import matplotlib.pyplot as plt\n",
    "import pandas as pd"
   ]
  },
  {
   "cell_type": "code",
   "execution_count": 786,
   "metadata": {},
   "outputs": [
    {
     "data": {
      "text/html": [
       "<div>\n",
       "<style scoped>\n",
       "    .dataframe tbody tr th:only-of-type {\n",
       "        vertical-align: middle;\n",
       "    }\n",
       "\n",
       "    .dataframe tbody tr th {\n",
       "        vertical-align: top;\n",
       "    }\n",
       "\n",
       "    .dataframe thead th {\n",
       "        text-align: right;\n",
       "    }\n",
       "</style>\n",
       "<table border=\"1\" class=\"dataframe\">\n",
       "  <thead>\n",
       "    <tr style=\"text-align: right;\">\n",
       "      <th></th>\n",
       "      <th>User ID</th>\n",
       "      <th>Gender</th>\n",
       "      <th>Age</th>\n",
       "      <th>EstimatedSalary</th>\n",
       "      <th>Purchased</th>\n",
       "    </tr>\n",
       "  </thead>\n",
       "  <tbody>\n",
       "    <tr>\n",
       "      <th>0</th>\n",
       "      <td>15624510</td>\n",
       "      <td>Male</td>\n",
       "      <td>19</td>\n",
       "      <td>19000</td>\n",
       "      <td>0</td>\n",
       "    </tr>\n",
       "    <tr>\n",
       "      <th>1</th>\n",
       "      <td>15810944</td>\n",
       "      <td>Male</td>\n",
       "      <td>35</td>\n",
       "      <td>20000</td>\n",
       "      <td>0</td>\n",
       "    </tr>\n",
       "    <tr>\n",
       "      <th>2</th>\n",
       "      <td>15668575</td>\n",
       "      <td>Female</td>\n",
       "      <td>26</td>\n",
       "      <td>43000</td>\n",
       "      <td>0</td>\n",
       "    </tr>\n",
       "    <tr>\n",
       "      <th>3</th>\n",
       "      <td>15603246</td>\n",
       "      <td>Female</td>\n",
       "      <td>27</td>\n",
       "      <td>57000</td>\n",
       "      <td>0</td>\n",
       "    </tr>\n",
       "    <tr>\n",
       "      <th>4</th>\n",
       "      <td>15804002</td>\n",
       "      <td>Male</td>\n",
       "      <td>19</td>\n",
       "      <td>76000</td>\n",
       "      <td>0</td>\n",
       "    </tr>\n",
       "  </tbody>\n",
       "</table>\n",
       "</div>"
      ],
      "text/plain": [
       "    User ID  Gender  Age  EstimatedSalary  Purchased\n",
       "0  15624510    Male   19            19000          0\n",
       "1  15810944    Male   35            20000          0\n",
       "2  15668575  Female   26            43000          0\n",
       "3  15603246  Female   27            57000          0\n",
       "4  15804002    Male   19            76000          0"
      ]
     },
     "execution_count": 786,
     "metadata": {},
     "output_type": "execute_result"
    }
   ],
   "source": [
    "data=pd.read_csv(r\"C:\\Users\\S\\Desktop\\AI-ML-DS L3PP\\Classisfication\\Social_Network_Ads.csv\")\n",
    "data.head()"
   ]
  },
  {
   "cell_type": "code",
   "execution_count": 787,
   "metadata": {},
   "outputs": [
    {
     "name": "stdout",
     "output_type": "stream",
     "text": [
      "<class 'pandas.core.frame.DataFrame'>\n",
      "RangeIndex: 400 entries, 0 to 399\n",
      "Data columns (total 5 columns):\n",
      " #   Column           Non-Null Count  Dtype \n",
      "---  ------           --------------  ----- \n",
      " 0   User ID          400 non-null    int64 \n",
      " 1   Gender           400 non-null    object\n",
      " 2   Age              400 non-null    int64 \n",
      " 3   EstimatedSalary  400 non-null    int64 \n",
      " 4   Purchased        400 non-null    int64 \n",
      "dtypes: int64(4), object(1)\n",
      "memory usage: 15.8+ KB\n"
     ]
    }
   ],
   "source": [
    "data.info()"
   ]
  },
  {
   "cell_type": "code",
   "execution_count": 788,
   "id": "ade4b5e6",
   "metadata": {},
   "outputs": [
    {
     "data": {
      "text/html": [
       "<div>\n",
       "<style scoped>\n",
       "    .dataframe tbody tr th:only-of-type {\n",
       "        vertical-align: middle;\n",
       "    }\n",
       "\n",
       "    .dataframe tbody tr th {\n",
       "        vertical-align: top;\n",
       "    }\n",
       "\n",
       "    .dataframe thead th {\n",
       "        text-align: right;\n",
       "    }\n",
       "</style>\n",
       "<table border=\"1\" class=\"dataframe\">\n",
       "  <thead>\n",
       "    <tr style=\"text-align: right;\">\n",
       "      <th></th>\n",
       "      <th>User ID</th>\n",
       "      <th>Age</th>\n",
       "      <th>EstimatedSalary</th>\n",
       "      <th>Purchased</th>\n",
       "    </tr>\n",
       "  </thead>\n",
       "  <tbody>\n",
       "    <tr>\n",
       "      <th>count</th>\n",
       "      <td>4.000000e+02</td>\n",
       "      <td>400.000000</td>\n",
       "      <td>400.000000</td>\n",
       "      <td>400.000000</td>\n",
       "    </tr>\n",
       "    <tr>\n",
       "      <th>mean</th>\n",
       "      <td>1.569154e+07</td>\n",
       "      <td>37.655000</td>\n",
       "      <td>69742.500000</td>\n",
       "      <td>0.357500</td>\n",
       "    </tr>\n",
       "    <tr>\n",
       "      <th>std</th>\n",
       "      <td>7.165832e+04</td>\n",
       "      <td>10.482877</td>\n",
       "      <td>34096.960282</td>\n",
       "      <td>0.479864</td>\n",
       "    </tr>\n",
       "    <tr>\n",
       "      <th>min</th>\n",
       "      <td>1.556669e+07</td>\n",
       "      <td>18.000000</td>\n",
       "      <td>15000.000000</td>\n",
       "      <td>0.000000</td>\n",
       "    </tr>\n",
       "    <tr>\n",
       "      <th>25%</th>\n",
       "      <td>1.562676e+07</td>\n",
       "      <td>29.750000</td>\n",
       "      <td>43000.000000</td>\n",
       "      <td>0.000000</td>\n",
       "    </tr>\n",
       "    <tr>\n",
       "      <th>50%</th>\n",
       "      <td>1.569434e+07</td>\n",
       "      <td>37.000000</td>\n",
       "      <td>70000.000000</td>\n",
       "      <td>0.000000</td>\n",
       "    </tr>\n",
       "    <tr>\n",
       "      <th>75%</th>\n",
       "      <td>1.575036e+07</td>\n",
       "      <td>46.000000</td>\n",
       "      <td>88000.000000</td>\n",
       "      <td>1.000000</td>\n",
       "    </tr>\n",
       "    <tr>\n",
       "      <th>max</th>\n",
       "      <td>1.581524e+07</td>\n",
       "      <td>60.000000</td>\n",
       "      <td>150000.000000</td>\n",
       "      <td>1.000000</td>\n",
       "    </tr>\n",
       "  </tbody>\n",
       "</table>\n",
       "</div>"
      ],
      "text/plain": [
       "            User ID         Age  EstimatedSalary   Purchased\n",
       "count  4.000000e+02  400.000000       400.000000  400.000000\n",
       "mean   1.569154e+07   37.655000     69742.500000    0.357500\n",
       "std    7.165832e+04   10.482877     34096.960282    0.479864\n",
       "min    1.556669e+07   18.000000     15000.000000    0.000000\n",
       "25%    1.562676e+07   29.750000     43000.000000    0.000000\n",
       "50%    1.569434e+07   37.000000     70000.000000    0.000000\n",
       "75%    1.575036e+07   46.000000     88000.000000    1.000000\n",
       "max    1.581524e+07   60.000000    150000.000000    1.000000"
      ]
     },
     "execution_count": 788,
     "metadata": {},
     "output_type": "execute_result"
    }
   ],
   "source": [
    "data.describe()"
   ]
  },
  {
   "cell_type": "code",
   "execution_count": 789,
   "id": "f15c0e0a",
   "metadata": {},
   "outputs": [
    {
     "data": {
      "text/plain": [
       "array([['Male', 19, 19000],\n",
       "       ['Male', 35, 20000],\n",
       "       ['Female', 26, 43000],\n",
       "       ['Female', 27, 57000],\n",
       "       ['Male', 19, 76000]], dtype=object)"
      ]
     },
     "execution_count": 789,
     "metadata": {},
     "output_type": "execute_result"
    }
   ],
   "source": [
    "x=data.iloc[:,1:4].values\n",
    "x[:5]"
   ]
  },
  {
   "cell_type": "code",
   "execution_count": 790,
   "id": "df96efa3",
   "metadata": {},
   "outputs": [
    {
     "data": {
      "text/plain": [
       "numpy.ndarray"
      ]
     },
     "execution_count": 790,
     "metadata": {},
     "output_type": "execute_result"
    }
   ],
   "source": [
    "type(x)"
   ]
  },
  {
   "cell_type": "code",
   "execution_count": 791,
   "id": "2ff74453",
   "metadata": {},
   "outputs": [
    {
     "data": {
      "text/plain": [
       "(400, 1)"
      ]
     },
     "execution_count": 791,
     "metadata": {},
     "output_type": "execute_result"
    }
   ],
   "source": [
    "y=data.iloc[:,4:].values\n",
    "y[:5]\n",
    "y.shape"
   ]
  },
  {
   "cell_type": "code",
   "execution_count": 792,
   "id": "d06d992a",
   "metadata": {},
   "outputs": [
    {
     "data": {
      "text/plain": [
       "array([[ 1.        , -1.78179743, -1.49004624],\n",
       "       [ 1.        , -0.25358736, -1.46068138],\n",
       "       [ 0.        , -1.11320552, -0.78528968],\n",
       "       [ 0.        , -1.01769239, -0.37418169],\n",
       "       [ 1.        , -1.78179743,  0.18375059]])"
      ]
     },
     "execution_count": 792,
     "metadata": {},
     "output_type": "execute_result"
    }
   ],
   "source": [
    "from sklearn.preprocessing import StandardScaler,OneHotEncoder\n",
    "from sklearn.compose import ColumnTransformer\n",
    "ct=ColumnTransformer(\n",
    "    [\n",
    "        (\"one hot encoding\",OneHotEncoder(),[0]),\n",
    "        (\"StandardScaler\",StandardScaler(),[1,2]),\n",
    "    ],\n",
    "    remainder=\"passthrough\"\n",
    ")\n",
    "x=ct.fit_transform(x)\n",
    "x=x[:,1:]\n",
    "x[:5]"
   ]
  },
  {
   "cell_type": "code",
   "execution_count": 793,
   "id": "7845920e",
   "metadata": {},
   "outputs": [
    {
     "data": {
      "text/plain": [
       "((320, 3), (80, 3), (320, 1), (80, 1))"
      ]
     },
     "execution_count": 793,
     "metadata": {},
     "output_type": "execute_result"
    }
   ],
   "source": [
    "from sklearn.model_selection import train_test_split\n",
    "x_train,x_test,y_train,y_test=train_test_split(x,y,test_size=0.2,stratify=y,random_state=47)\n",
    "x_train.shape,x_test.shape,y_train.shape,y_test.shape"
   ]
  },
  {
   "cell_type": "code",
   "execution_count": 794,
   "id": "581055a3",
   "metadata": {},
   "outputs": [
    {
     "data": {
      "text/plain": [
       "<matplotlib.collections.PathCollection at 0x1d3648d3d90>"
      ]
     },
     "execution_count": 794,
     "metadata": {},
     "output_type": "execute_result"
    },
    {
     "data": {
      "image/png": "[encoded data removed]",
      "text/plain": [
       "<Figure size 640x480 with 1 Axes>"
      ]
     },
     "metadata": {},
     "output_type": "display_data"
    }
   ],
   "source": [
    "plt.scatter(x_train[:,0],x_train[:,1],c=y_train)"
   ]
  },
  {
   "cell_type": "code",
   "execution_count": 795,
   "id": "baa56977",
   "metadata": {},
   "outputs": [
    {
     "data": {
      "text/plain": [
       "<matplotlib.collections.PathCollection at 0x1d363f89810>"
      ]
     },
     "execution_count": 795,
     "metadata": {},
     "output_type": "execute_result"
    },
    {
     "data": {
      "image/png": "[encoded data removed]",
      "text/plain": [
       "<Figure size 640x480 with 1 Axes>"
      ]
     },
     "metadata": {},
     "output_type": "display_data"
    }
   ],
   "source": [
    "plt.scatter(x_train[:,0],x_train[:,2],c=y_train)"
   ]
  },
  {
   "cell_type": "code",
   "execution_count": 796,
   "id": "2ea7fc23",
   "metadata": {},
   "outputs": [
    {
     "data": {
      "text/plain": [
       "<matplotlib.collections.PathCollection at 0x1d364065dd0>"
      ]
     },
     "execution_count": 796,
     "metadata": {},
     "output_type": "execute_result"
    },
    {
     "data": {
      "image/png": "[encoded data removed]",
      "text/plain": [
       "<Figure size 640x480 with 1 Axes>"
      ]
     },
     "metadata": {},
     "output_type": "display_data"
    }
   ],
   "source": [
    "plt.scatter(x_train[:,1],x_train[:,2],c=y_train)"
   ]
  },
  {
   "cell_type": "code",
   "execution_count": 797,
   "id": "c2ff2d34",
   "metadata": {},
   "outputs": [
    {
     "data": {
      "text/plain": [
       "(tensor([[ 1.0000, -1.7818, -1.4900],\n",
       "         [ 1.0000, -0.2536, -1.4607],\n",
       "         [ 0.0000, -1.1132, -0.7853],\n",
       "         ...,\n",
       "         [ 0.0000,  1.1791, -1.4607],\n",
       "         [ 1.0000, -0.1581, -1.0789],\n",
       "         [ 0.0000,  1.0836, -0.9908]]),\n",
       " torch.float32)"
      ]
     },
     "execution_count": 797,
     "metadata": {},
     "output_type": "execute_result"
    }
   ],
   "source": [
    "x=torch.tensor(x,dtype=torch.float32)\n",
    "x,x.dtype"
   ]
  },
  {
   "cell_type": "code",
   "execution_count": 798,
   "id": "7ae3c324",
   "metadata": {},
   "outputs": [],
   "source": [
    "from torch.utils.data import Dataset,DataLoader\n",
    "from torch import nn\n",
    "from torch import optim"
   ]
  },
  {
   "cell_type": "code",
   "execution_count": 799,
   "id": "5e0f9310",
   "metadata": {},
   "outputs": [],
   "source": [
    "class Data(Dataset):\n",
    "    def __init__(self,x,y):\n",
    "        super().__init__()\n",
    "        self.x=torch.tensor(x,dtype=torch.float32)\n",
    "        self.y=torch.tensor(y,dtype=torch.float32)\n",
    "        \n",
    "    def __getitem__(self,index):\n",
    "        return self.x[index],self.y[index]\n",
    "    \n",
    "    def __len__(self):\n",
    "        return self.x.shape[0]\n",
    "    \n",
    "d1=Data(x_train,y_train)[300] "
   ]
  },
  {
   "cell_type": "code",
   "execution_count": 800,
   "id": "31b6d92c",
   "metadata": {},
   "outputs": [
    {
     "data": {
      "text/plain": [
       "((tensor([ 0.0000,  0.8926, -0.5797]), tensor([1.])), 320)"
      ]
     },
     "execution_count": 800,
     "metadata": {},
     "output_type": "execute_result"
    }
   ],
   "source": [
    "d1,len(Data(x_train,y_train))"
   ]
  },
  {
   "cell_type": "code",
   "execution_count": 801,
   "id": "56d239f8",
   "metadata": {},
   "outputs": [],
   "source": [
    "train_data=Data(x_train,y_train)\n",
    "test_data=Data(x_test,y_test)"
   ]
  },
  {
   "cell_type": "code",
   "execution_count": 802,
   "id": "c199ce25",
   "metadata": {},
   "outputs": [],
   "source": [
    "tarin_dataloader=DataLoader(\n",
    "    dataset=train_data,\n",
    "    shuffle=True,\n",
    "    batch_size=16,\n",
    "    drop_last=False,\n",
    ")\n",
    "test_dataloader=DataLoader(\n",
    "    dataset=test_data,\n",
    "    shuffle=False,\n",
    "    drop_last=False,\n",
    "    batch_size=16,\n",
    ")"
   ]
  },
  {
   "cell_type": "code",
   "execution_count": 803,
   "id": "7a687d0b",
   "metadata": {},
   "outputs": [
    {
     "name": "stdout",
     "output_type": "stream",
     "text": [
      "Batch0\n",
      "tensor([[ 0.0000,  0.3195, -1.1670],\n",
      "        [ 1.0000, -0.3491, -0.7853],\n",
      "        [ 1.0000, -1.7818,  0.1838],\n",
      "        [ 0.0000,  1.4656,  1.0060],\n",
      "        [ 1.0000, -1.8773, -0.5210],\n",
      "        [ 0.0000,  0.7971, -1.4020],\n",
      "        [ 1.0000, -0.9222,  1.5639],\n",
      "        [ 1.0000, -0.2536,  0.0957],\n",
      "        [ 0.0000, -1.6863, -0.9908],\n",
      "        [ 0.0000,  0.0330, -0.4329],\n",
      "        [ 0.0000, -0.4446, -0.8440],\n",
      "        [ 1.0000,  0.3195, -0.5210],\n",
      "        [ 0.0000, -1.5908, -0.0512],\n",
      "        [ 0.0000, -0.9222, -0.9615],\n",
      "        [ 1.0000, -0.7312, -0.6091],\n",
      "        [ 1.0000,  2.1342, -0.8147]]) tensor([[0.],\n",
      "        [0.],\n",
      "        [0.],\n",
      "        [1.],\n",
      "        [0.],\n",
      "        [0.],\n",
      "        [1.],\n",
      "        [0.],\n",
      "        [0.],\n",
      "        [0.],\n",
      "        [0.],\n",
      "        [0.],\n",
      "        [0.],\n",
      "        [0.],\n",
      "        [0.],\n",
      "        [1.]])\n",
      "Batch1\n",
      "tensor([[ 0.0000,  2.0387, -1.1964],\n",
      "        [ 1.0000, -0.8267,  0.1544],\n",
      "        [ 1.0000,  0.7971, -0.3155],\n",
      "        [ 0.0000, -0.4446, -0.5504],\n",
      "        [ 0.0000, -0.2536,  2.2687],\n",
      "        [ 1.0000, -0.2536, -1.2551],\n",
      "        [ 0.0000,  0.9881, -1.1670],\n",
      "        [ 1.0000, -1.0177,  0.5655],\n",
      "        [ 1.0000,  0.1285,  0.7710],\n",
      "        [ 1.0000,  0.7015,  0.2718],\n",
      "        [ 1.0000,  0.1285,  0.0369],\n",
      "        [ 0.0000,  1.8477,  1.5345],\n",
      "        [ 0.0000,  2.0387,  0.3893],\n",
      "        [ 1.0000,  2.1342, -0.8147],\n",
      "        [ 0.0000, -1.1132,  1.4171],\n",
      "        [ 1.0000,  1.5612,  0.0076]]) tensor([[1.],\n",
      "        [0.],\n",
      "        [0.],\n",
      "        [0.],\n",
      "        [1.],\n",
      "        [0.],\n",
      "        [1.],\n",
      "        [0.],\n",
      "        [1.],\n",
      "        [0.],\n",
      "        [0.],\n",
      "        [1.],\n",
      "        [0.],\n",
      "        [1.],\n",
      "        [0.],\n",
      "        [1.]])\n",
      "Batch2\n",
      "tensor([[ 0.0000, -0.2536, -0.1393],\n",
      "        [ 1.0000,  0.9881,  0.1250],\n",
      "        [ 0.0000,  1.0836,  2.0925],\n",
      "        [ 0.0000,  2.0387, -0.8147],\n",
      "        [ 1.0000,  0.9881,  0.5949],\n",
      "        [ 1.0000, -0.9222, -1.1083],\n",
      "        [ 0.0000, -0.9222, -0.4329],\n",
      "        [ 1.0000,  1.0836,  0.5361],\n",
      "        [ 0.0000,  0.5105,  1.8575],\n",
      "        [ 1.0000, -1.2087, -1.0789],\n",
      "        [ 1.0000,  0.2240,  1.0941],\n",
      "        [ 0.0000, -1.0177,  0.7710],\n",
      "        [ 1.0000, -1.3042, -1.4900],\n",
      "        [ 1.0000,  0.4150,  2.3274],\n",
      "        [ 0.0000,  0.7971,  0.7710],\n",
      "        [ 0.0000, -1.3042, -1.2551]]) tensor([[0.],\n",
      "        [1.],\n",
      "        [1.],\n",
      "        [0.],\n",
      "        [1.],\n",
      "        [0.],\n",
      "        [0.],\n",
      "        [1.],\n",
      "        [0.],\n",
      "        [0.],\n",
      "        [1.],\n",
      "        [1.],\n",
      "        [0.],\n",
      "        [1.],\n",
      "        [0.],\n",
      "        [0.]])\n",
      "Batch3\n",
      "tensor([[ 0.0000, -0.6356,  0.5655],\n",
      "        [ 0.0000,  0.3195,  0.0663],\n",
      "        [ 1.0000,  0.2240, -0.1393],\n",
      "        [ 1.0000,  0.2240, -0.2567],\n",
      "        [ 1.0000,  0.4150,  0.0957],\n",
      "        [ 1.0000,  0.2240, -0.3742],\n",
      "        [ 1.0000, -0.0626,  0.0663],\n",
      "        [ 0.0000, -0.5401,  1.9163],\n",
      "        [ 0.0000, -0.5401,  1.3877],\n",
      "        [ 1.0000, -1.4953,  0.3306],\n",
      "        [ 1.0000,  1.0836, -1.2258],\n",
      "        [ 1.0000, -1.6863, -0.6091],\n",
      "        [ 0.0000,  1.7522,  1.0060],\n",
      "        [ 1.0000,  0.4150, -0.4623],\n",
      "        [ 1.0000,  0.8926, -1.4607],\n",
      "        [ 1.0000, -1.2087,  0.5949]]) tensor([[0.],\n",
      "        [0.],\n",
      "        [0.],\n",
      "        [0.],\n",
      "        [1.],\n",
      "        [0.],\n",
      "        [0.],\n",
      "        [1.],\n",
      "        [1.],\n",
      "        [0.],\n",
      "        [1.],\n",
      "        [0.],\n",
      "        [1.],\n",
      "        [0.],\n",
      "        [1.],\n",
      "        [0.]])\n",
      "Batch4\n",
      "tensor([[ 0.0000,  0.4150, -0.4916],\n",
      "        [ 1.0000, -0.2536,  0.5361],\n",
      "        [ 0.0000,  0.7015,  1.7988],\n",
      "        [ 1.0000,  1.0836,  0.4774],\n",
      "        [ 0.0000,  0.9881,  2.0044],\n",
      "        [ 0.0000,  1.8477, -1.0789],\n",
      "        [ 1.0000, -0.2536, -0.5797],\n",
      "        [ 0.0000,  0.4150,  0.0076],\n",
      "        [ 0.0000, -0.7312,  1.3583],\n",
      "        [ 0.0000, -0.1581, -0.4623],\n",
      "        [ 1.0000,  0.8926,  1.0353],\n",
      "        [ 0.0000, -0.0626,  0.2425],\n",
      "        [ 0.0000, -0.3491, -1.3139],\n",
      "        [ 0.0000, -0.6356, -0.0512],\n",
      "        [ 1.0000, -0.2536, -1.4020],\n",
      "        [ 1.0000,  0.3195,  0.2718]]) tensor([[0.],\n",
      "        [0.],\n",
      "        [1.],\n",
      "        [1.],\n",
      "        [1.],\n",
      "        [1.],\n",
      "        [0.],\n",
      "        [0.],\n",
      "        [0.],\n",
      "        [0.],\n",
      "        [1.],\n",
      "        [1.],\n",
      "        [0.],\n",
      "        [0.],\n",
      "        [0.],\n",
      "        [0.]])\n"
     ]
    }
   ],
   "source": [
    "for index,(x,y) in enumerate(test_dataloader):\n",
    "    print(f\"Batch{index}\")\n",
    "    print(x,y)"
   ]
  },
  {
   "cell_type": "code",
   "execution_count": 804,
   "id": "7b7806dd",
   "metadata": {},
   "outputs": [
    {
     "data": {
      "text/plain": [
       "ANN(\n",
       "  (layer1): Linear(in_features=3, out_features=10, bias=True)\n",
       "  (layer2): Linear(in_features=10, out_features=1, bias=True)\n",
       ")"
      ]
     },
     "execution_count": 804,
     "metadata": {},
     "output_type": "execute_result"
    }
   ],
   "source": [
    "input_dim=3\n",
    "out_dim=1\n",
    "hidden3_dim=10\n",
    "class ANN(nn.Module):\n",
    "    def __init__(self,input_dim,out_dim,hidden3_dim):\n",
    "        super().__init__()\n",
    "        #first hidden layer\n",
    "        self.layer1=nn.Linear(\n",
    "            in_features=input_dim,\n",
    "            out_features=hidden3_dim,\n",
    "        )\n",
    "        #output layer\n",
    "        self.layer2=nn.Linear(\n",
    "            in_features=hidden3_dim,\n",
    "            out_features=out_dim,\n",
    "        )\n",
    "        \n",
    "    def forward(self,x):\n",
    "        x=self.layer1(x)\n",
    "        x=nn.functional.relu(x)\n",
    "        x=self.layer2(x)\n",
    "        x=nn.functional.sigmoid(x)\n",
    "        return x\n",
    "    \n",
    "model=ANN(input_dim,out_dim,hidden3_dim)\n",
    "model       "
   ]
  },
  {
   "cell_type": "code",
   "execution_count": 805,
   "id": "4b315fc0",
   "metadata": {},
   "outputs": [
    {
     "name": "stdout",
     "output_type": "stream",
     "text": [
      "Parameter containing:\n",
      "tensor([[ 0.5611, -0.1827,  0.0790],\n",
      "        [-0.4479,  0.4905,  0.0177],\n",
      "        [-0.1904,  0.3337,  0.2803],\n",
      "        [-0.0836, -0.5224, -0.2856],\n",
      "        [-0.0172, -0.5236, -0.4467],\n",
      "        [ 0.0147,  0.2839,  0.3101],\n",
      "        [ 0.3467,  0.5682, -0.2351],\n",
      "        [ 0.3162,  0.0741, -0.3269],\n",
      "        [ 0.4507, -0.1910,  0.3823],\n",
      "        [-0.0932, -0.2586,  0.2851]], requires_grad=True)\n",
      "Parameter containing:\n",
      "tensor([-0.0461,  0.5267,  0.3352, -0.4525,  0.0899, -0.1914,  0.0593,  0.4318,\n",
      "         0.1682, -0.3068], requires_grad=True)\n",
      "Parameter containing:\n",
      "tensor([[ 0.2777, -0.2849, -0.1780,  0.0228,  0.2239,  0.0832,  0.1507,  0.1596,\n",
      "         -0.2277,  0.1297]], requires_grad=True)\n",
      "Parameter containing:\n",
      "tensor([0.1480], requires_grad=True)\n"
     ]
    }
   ],
   "source": [
    "for parameters in model.parameters():\n",
    "    print(parameters)"
   ]
  },
  {
   "cell_type": "code",
   "execution_count": 806,
   "id": "5ede4c38",
   "metadata": {},
   "outputs": [],
   "source": [
    "learning_rate=0.1\n",
    "loss_fn=nn.BCELoss()\n",
    "optimizer=optim.SGD(model.parameters(),lr=learning_rate)"
   ]
  },
  {
   "cell_type": "code",
   "execution_count": 807,
   "id": "564573df",
   "metadata": {},
   "outputs": [
    {
     "data": {
      "text/plain": [
       "torch.Size([16, 1])"
      ]
     },
     "execution_count": 807,
     "metadata": {},
     "output_type": "execute_result"
    }
   ],
   "source": [
    "y.shape"
   ]
  },
  {
   "cell_type": "code",
   "execution_count": 808,
   "id": "a34d8ed6",
   "metadata": {},
   "outputs": [
    {
     "name": "stdout",
     "output_type": "stream",
     "text": [
      "Epoch 0 |  Loss : 0.707530003786087\n",
      "Epoch 1 |  Loss : 0.5572661563754082\n",
      "Epoch 2 |  Loss : 0.4575777933001518\n",
      "Epoch 3 |  Loss : 0.39416521191596987\n",
      "Epoch 4 |  Loss : 0.35532622411847115\n",
      "Epoch 5 |  Loss : 0.33171068131923676\n",
      "Epoch 6 |  Loss : 0.31559863910079\n",
      "Epoch 7 |  Loss : 0.3048293225467205\n",
      "Epoch 8 |  Loss : 0.29435352981090546\n",
      "Epoch 9 |  Loss : 0.2860167596489191\n",
      "Epoch 10 |  Loss : 0.2795750603079796\n",
      "Epoch 11 |  Loss : 0.27056041583418844\n",
      "Epoch 12 |  Loss : 0.2669437400996685\n",
      "Epoch 13 |  Loss : 0.2580402307212353\n",
      "Epoch 14 |  Loss : 0.2510907992720604\n",
      "Epoch 15 |  Loss : 0.24664811417460442\n",
      "Epoch 16 |  Loss : 0.24152517579495908\n",
      "Epoch 17 |  Loss : 0.23694094829261303\n",
      "Epoch 18 |  Loss : 0.2335798840969801\n",
      "Epoch 19 |  Loss : 0.22940222211182118\n",
      "Epoch 20 |  Loss : 0.22679489925503732\n",
      "Epoch 21 |  Loss : 0.22378356363624335\n",
      "Epoch 22 |  Loss : 0.2220251441001892\n",
      "Epoch 23 |  Loss : 0.22009634636342526\n",
      "Epoch 24 |  Loss : 0.21765291821211577\n",
      "Epoch 25 |  Loss : 0.21543853487819434\n",
      "Epoch 26 |  Loss : 0.2151524443179369\n",
      "Epoch 27 |  Loss : 0.21398665830492974\n",
      "Epoch 28 |  Loss : 0.21224414221942425\n",
      "Epoch 29 |  Loss : 0.21272975355386733\n",
      "Epoch 30 |  Loss : 0.2111777739599347\n",
      "Epoch 31 |  Loss : 0.20997277107089757\n",
      "Epoch 32 |  Loss : 0.20945462938398124\n",
      "Epoch 33 |  Loss : 0.20920986216515303\n",
      "Epoch 34 |  Loss : 0.2072151154279709\n",
      "Epoch 35 |  Loss : 0.2069268336519599\n",
      "Epoch 36 |  Loss : 0.20624140929430723\n",
      "Epoch 37 |  Loss : 0.2051354018971324\n",
      "Epoch 38 |  Loss : 0.20413632728159428\n",
      "Epoch 39 |  Loss : 0.20336070861667394\n",
      "Epoch 40 |  Loss : 0.20268957521766423\n",
      "Epoch 41 |  Loss : 0.20360095482319593\n",
      "Epoch 42 |  Loss : 0.2019916981458664\n",
      "Epoch 43 |  Loss : 0.20220584236085415\n",
      "Epoch 44 |  Loss : 0.2021811214275658\n",
      "Epoch 45 |  Loss : 0.20056164339184762\n",
      "Epoch 46 |  Loss : 0.20147042190656067\n",
      "Epoch 47 |  Loss : 0.20052674114704133\n",
      "Epoch 48 |  Loss : 0.20195535458624364\n",
      "Epoch 49 |  Loss : 0.1989582423120737\n",
      "Epoch 50 |  Loss : 0.1990885442122817\n",
      "Epoch 51 |  Loss : 0.19945706743746996\n",
      "Epoch 52 |  Loss : 0.1997504962608218\n",
      "Epoch 53 |  Loss : 0.20004915799945594\n",
      "Epoch 54 |  Loss : 0.1982088081538677\n",
      "Epoch 55 |  Loss : 0.19872438199818135\n",
      "Epoch 56 |  Loss : 0.19918898046016692\n",
      "Epoch 57 |  Loss : 0.19822687953710555\n",
      "Epoch 58 |  Loss : 0.19804433491081\n",
      "Epoch 59 |  Loss : 0.19725273065268994\n",
      "Epoch 60 |  Loss : 0.1980083767324686\n",
      "Epoch 61 |  Loss : 0.19731939621269703\n",
      "Epoch 62 |  Loss : 0.19766909647732972\n",
      "Epoch 63 |  Loss : 0.19783973023295404\n",
      "Epoch 64 |  Loss : 0.196666606515646\n",
      "Epoch 65 |  Loss : 0.19662281423807143\n",
      "Epoch 66 |  Loss : 0.19753230437636377\n",
      "Epoch 67 |  Loss : 0.1953117473050952\n",
      "Epoch 68 |  Loss : 0.19738937690854072\n",
      "Epoch 69 |  Loss : 0.1960945812985301\n",
      "Epoch 70 |  Loss : 0.19649452809244394\n",
      "Epoch 71 |  Loss : 0.1967366810888052\n",
      "Epoch 72 |  Loss : 0.19615841526538133\n",
      "Epoch 73 |  Loss : 0.19616777524352075\n",
      "Epoch 74 |  Loss : 0.19545078445225955\n",
      "Epoch 75 |  Loss : 0.19640290457755327\n",
      "Epoch 76 |  Loss : 0.19559101262129844\n",
      "Epoch 77 |  Loss : 0.19490994419902563\n",
      "Epoch 78 |  Loss : 0.19561715554445983\n",
      "Epoch 79 |  Loss : 0.1955347614362836\n",
      "Epoch 80 |  Loss : 0.19570814296603203\n",
      "Epoch 81 |  Loss : 0.195816957578063\n",
      "Epoch 82 |  Loss : 0.1949344789609313\n",
      "Epoch 83 |  Loss : 0.19575278284028172\n",
      "Epoch 84 |  Loss : 0.19590284563601018\n",
      "Epoch 85 |  Loss : 0.19431781377643348\n",
      "Epoch 86 |  Loss : 0.19457146544009446\n",
      "Epoch 87 |  Loss : 0.195197151042521\n",
      "Epoch 88 |  Loss : 0.1937883548438549\n",
      "Epoch 89 |  Loss : 0.19390498772263526\n",
      "Epoch 90 |  Loss : 0.193028605543077\n",
      "Epoch 91 |  Loss : 0.1936928380280733\n",
      "Epoch 92 |  Loss : 0.19238410964608194\n",
      "Epoch 93 |  Loss : 0.1937019784003496\n",
      "Epoch 94 |  Loss : 0.19366979449987412\n",
      "Epoch 95 |  Loss : 0.19322192221879958\n",
      "Epoch 96 |  Loss : 0.19279411546885966\n",
      "Epoch 97 |  Loss : 0.19338200706988573\n",
      "Epoch 98 |  Loss : 0.19329441729933022\n",
      "Epoch 99 |  Loss : 0.19304965380579234\n"
     ]
    }
   ],
   "source": [
    "device=torch.device(\"cpu\")\n",
    "model1=model.to(device)\n",
    "model1.train()\n",
    "epochs=100\n",
    "avg_loss=[]\n",
    "for epoch in range(epochs):\n",
    "    loss_value=[]\n",
    "    for x,y in tarin_dataloader:\n",
    "        x=x.to(device)\n",
    "        y=y.to(device)\n",
    "        optimizer.zero_grad()\n",
    "        predicted=model1(x)\n",
    "        loss=loss_fn(predicted,y)\n",
    "        loss_value.append(loss.item())\n",
    "        loss.backward()\n",
    "        optimizer.step()\n",
    "    avg_loss.append(np.mean(loss_value))\n",
    "    print(f\"Epoch {epoch} |  Loss : {np.mean(loss_value)}\")\n",
    "        "
   ]
  },
  {
   "cell_type": "code",
   "execution_count": 809,
   "id": "08386000",
   "metadata": {},
   "outputs": [
    {
     "data": {
      "text/plain": [
       "[<matplotlib.lines.Line2D at 0x1d35fb2b2d0>]"
      ]
     },
     "execution_count": 809,
     "metadata": {},
     "output_type": "execute_result"
    },
    {
     "data": {
      "image/png": "[encoded data removed]",
      "text/plain": [
       "<Figure size 640x480 with 1 Axes>"
      ]
     },
     "metadata": {},
     "output_type": "display_data"
    }
   ],
   "source": [
    "plt.plot(range(0,epoch+1),avg_loss)"
   ]
  },
  {
   "cell_type": "code",
   "execution_count": 810,
   "id": "1b8cd690",
   "metadata": {},
   "outputs": [
    {
     "name": "stdout",
     "output_type": "stream",
     "text": [
      "Accuracy of 80 data is 90.0%\n"
     ]
    }
   ],
   "source": [
    "with torch.inference_mode():\n",
    "    total,correct=0,0\n",
    "    for x,y in test_dataloader:\n",
    "        x=x.to(device)\n",
    "        y=y.to(device)\n",
    "        predicted=model1(x)\n",
    "        predicted=predicted.detach().cpu()\n",
    "        output=np.where(predicted>0.5,1,0)\n",
    "        total+=y.shape[0]\n",
    "        correct+=((output==y).sum())\n",
    "    print(f\"Accuracy of {total} data is {100*(correct/total)}%\")\n",
    "        "
   ]
  },
  {
   "cell_type": "code",
   "execution_count": null,
   "id": "97606f7a",
   "metadata": {},
   "outputs": [],
   "source": []
  },
  {
   "cell_type": "code",
   "execution_count": null,
   "id": "8fa007fe",
   "metadata": {},
   "outputs": [],
   "source": []
  },
  {
   "cell_type": "code",
   "execution_count": null,
   "id": "141d6d94",
   "metadata": {},
   "outputs": [],
   "source": []
  }
 ],
 "metadata": {
  "kernelspec": {
   "display_name": "base",
   "language": "python",
   "name": "python3"
  },
  "language_info": {
   "codemirror_mode": {
    "name": "ipython",
    "version": 3
   },
   "file_extension": ".py",
   "mimetype": "text/x-python",
   "name": "python",
   "nbconvert_exporter": "python",
   "pygments_lexer": "ipython3",
   "version": "3.11.7"
  }
 },
 "nbformat": 4,
 "nbformat_minor": 5
}
